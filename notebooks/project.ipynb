{
 "cells": [
  {
   "cell_type": "markdown",
   "metadata": {},
   "source": [
    "# The most common traits of substance abuse\n",
    "\n",
    "In 2017, nearly 20 million American adults (almost 7% of the population) battled a substance abuse problem, costing the US more than $740 billion annually in lost workplace productivity, healthcare expenses, and crime-related costs, according to the [American Addiction Centers](https://americanaddictioncenters.org/rehab-guide/addiction-statistics).\n",
    "\n",
    "Substance abuse has a cure, but many people are too ashamed to reach out for help, which makes the problem even harder to address.\n",
    "\n",
    "What if we could tell whether someone has a potential problem with drugs without asking them explicitly? Maybe we could look out for common traits among people who suffer with substance abuse problems and provide aid in advance. Organizations could target ad campaigns at the right people and right moment and increase their effectiveness.\n",
    "\n",
    "But what would these common traits be?\n",
    "\n",
    "## 1. Problem understanding\n",
    "\n",
    "This study will try to answer the following questions:\n",
    "\n",
    "1. Which age group shows the largest share of people with a possible substance problem? And which gender?\n",
    "\n",
    "2. Which kind of professional is more vulnerable to substance abuse?\n",
    "\n",
    "3. Are people with kids or partners less likely to have a substance problem?\n",
    "\n",
    "4. Are religious people less likely to have a substance problem?\n",
    "\n",
    "5. Does making healthy choices (e.g., not smoking or eating plant-based diets) correlate negatively with substance abuse?\n",
    "\n",
    "And last but not least, how accurately can we predict substance abuse with just this bunch of information?\n",
    "\n",
    "This notebook focus on the technical aspects of the study. Please visit [my blog post](https://brunoarine.com/blog/the-most-common-traits-of-substance-abuse/) where I discuss my findings in an accessible language.\n",
    "\n",
    "## 2. Data understanding\n",
    "\n",
    "To tackle the previous questions, I'm going to use the [OkCupid Profile Dataset](https://github.com/rudeboybert/JSE_OkCupid), a file containing answers from 60k users covering a number of topics; from marital status, job, and kids, to alcohol and drugs consumption.\n"
   ]
  },
  {
   "cell_type": "code",
   "execution_count": 1,
   "metadata": {},
   "outputs": [],
   "source": [
    "import pandas as pd\n",
    "import numpy as np\n",
    "import seaborn as sns\n",
    "import matplotlib.pyplot as plt\n",
    "from scipy.stats import chi2_contingency"
   ]
  },
  {
   "cell_type": "code",
   "execution_count": 2,
   "metadata": {},
   "outputs": [],
   "source": [
    "df = pd.read_csv(\"../data/profiles.csv\")"
   ]
  },
  {
   "cell_type": "markdown",
   "metadata": {},
   "source": [
    "### Selecting the useful variables\n",
    "\n",
    "These are the variables that will help me address the proposed questions:\n",
    "- diet\n",
    "- drinks\n",
    "- drugs\n",
    "- job\n",
    "- offspring\n",
    "- pets\n",
    "- religion\n",
    "- sex\n",
    "- smokes\n",
    "- status\n",
    "\n",
    "Let's ditch all the rest:\n",
    "\n",
    "- body_type\n",
    "- education\n",
    "- ethnicity\n",
    "- height\n",
    "- income\n",
    "- last_online\n",
    "- location\n",
    "- orientation\n",
    "- sign\n",
    "- speaks\n",
    "- essay from 0 to 9"
   ]
  },
  {
   "cell_type": "code",
   "execution_count": 3,
   "metadata": {},
   "outputs": [],
   "source": [
    "df.drop([\"body_type\", \"education\", \"ethnicity\", \"height\", \"income\", \"last_online\", \"location\", \"orientation\",\n",
    "        \"sign\", \"speaks\", \"essay0\", \"essay1\", \"essay2\", \"essay3\", \"essay4\", \"essay5\", \"essay6\",\n",
    "        \"essay7\", \"essay8\", \"essay9\"], axis=1, inplace=True)"
   ]
  },
  {
   "cell_type": "markdown",
   "metadata": {},
   "source": [
    "### Variable descriptions\n",
    "\n",
    "The following details are also provided in the dataset codebook.\n",
    "\n",
    "Missing data is blank. Some variables have two factors, which are denoted in this codebook by a semicolon (e.g. \"graduated from; two-year college) though they are found without punctuation in the dataset. Details for specific variables are found in parenthesis.\n",
    "\n",
    "**diet** - mostly/strictly; anything, vegetarian, vegan, kosher, halal, other\n",
    "\n",
    "**drinks** - very often, often, socially, rarely, desperately, not at all\n",
    "\n",
    "**drugs** - never, sometimes, often\n",
    "\n",
    "**job** - student, art/music/writing, banking/finance, administration, technology, construction, education, entertainment/media, management, hospitality, law, medicine, military, politics/government, sales/marketing, science/engineering, transportation, unemployed, other, rather not say, retire\n",
    "\n",
    "**offspring** - has a kid, has kids, doesnt have a kid, doesn't want kids; ,and/,but might want them, wants them, doesnt want any, doesnt want more\n",
    "\n",
    "**orientation** - straight, gay, bisexual\n",
    "\n",
    "**pets** - has dogs, likes dogs, dislikes dogs; and has cats, likes cats, dislikes cats\n",
    "\n",
    "**religion** - agnosticism, atheism, Christianity, Judaism, Catholicism, Islam, Hinduism, Buddhism, Other; and very serious about it, and somewhat serious about it, but not too serious about it, and laughing about it\n",
    "\n",
    "**sex** - m, f\n",
    "\n",
    "**smokes** - yes, sometimes, when drinking, trying to quit, no\n",
    "\n",
    "**status** - single, seeing someone, married, in an open relationship\n"
   ]
  },
  {
   "cell_type": "markdown",
   "metadata": {},
   "source": [
    "Let's check if the actual data type is the same as their description in the codebook."
   ]
  },
  {
   "cell_type": "code",
   "execution_count": 4,
   "metadata": {},
   "outputs": [
    {
     "name": "stdout",
     "output_type": "stream",
     "text": [
      "<class 'pandas.core.frame.DataFrame'>\n",
      "RangeIndex: 59946 entries, 0 to 59945\n",
      "Data columns (total 11 columns):\n",
      " #   Column     Non-Null Count  Dtype \n",
      "---  ------     --------------  ----- \n",
      " 0   age        59946 non-null  int64 \n",
      " 1   diet       35551 non-null  object\n",
      " 2   drinks     56961 non-null  object\n",
      " 3   drugs      45866 non-null  object\n",
      " 4   job        51748 non-null  object\n",
      " 5   offspring  24385 non-null  object\n",
      " 6   pets       40025 non-null  object\n",
      " 7   religion   39720 non-null  object\n",
      " 8   sex        59946 non-null  object\n",
      " 9   smokes     54434 non-null  object\n",
      " 10  status     59946 non-null  object\n",
      "dtypes: int64(1), object(10)\n",
      "memory usage: 5.0+ MB\n"
     ]
    }
   ],
   "source": [
    "df.info()"
   ]
  },
  {
   "cell_type": "markdown",
   "metadata": {},
   "source": [
    "### Missing values"
   ]
  },
  {
   "cell_type": "code",
   "execution_count": 5,
   "metadata": {},
   "outputs": [
    {
     "data": {
      "text/plain": [
       "age          0.000000\n",
       "diet         0.406950\n",
       "drinks       0.049795\n",
       "drugs        0.234878\n",
       "job          0.136756\n",
       "offspring    0.593217\n",
       "pets         0.332316\n",
       "religion     0.337404\n",
       "sex          0.000000\n",
       "smokes       0.091949\n",
       "status       0.000000\n",
       "dtype: float64"
      ]
     },
     "execution_count": 5,
     "metadata": {},
     "output_type": "execute_result"
    }
   ],
   "source": [
    "df.isnull().mean()"
   ]
  },
  {
   "cell_type": "markdown",
   "metadata": {},
   "source": [
    "The database has 60k rows, but there's a huge number of missing values, especially in the `offspring` column. People have their own personal reasons not to answer a survey, like taboo or fear of exposition. That makes it a MNAR (Missing Not At Random) scenario, which is quite difficult to handle. I'm not a huge fan of imputing the missing values with estimates in this case (even with multivariate methods like KNN) because doing so will likely create some sort of bias. "
   ]
  },
  {
   "cell_type": "code",
   "execution_count": 6,
   "metadata": {},
   "outputs": [
    {
     "data": {
      "text/plain": [
       "(8462, 11)"
      ]
     },
     "execution_count": 6,
     "metadata": {},
     "output_type": "execute_result"
    }
   ],
   "source": [
    "df.dropna(axis=0).shape"
   ]
  },
  {
   "cell_type": "markdown",
   "metadata": {},
   "source": [
    "That will would leave us only ~15% of original data, which is still beter than coming up with estimates (and risking affect the $\\chi^2$ tests later).\n",
    "\n",
    "Nonetheless, there's no need to drop all the missing rows right now. While analyzing the variables individually, I can drop *just the missing values that belong to the variables being analyzed.* That way, I still got a bit of statistical power for chi-squared tests. After the individual analyzes are done, then all missing values will be dropped before training the machine learning model.\n",
    "\n",
    "In sum: the NaNs-containing rows are going to be dropped shortly before I evaluate the final model. Until then, only the missing values in the target variable will be dropped, along with the missing values in each of the column being analyzed along Section 4 - Evaluation."
   ]
  },
  {
   "cell_type": "markdown",
   "metadata": {},
   "source": [
    "## 3. Preparing the data"
   ]
  },
  {
   "cell_type": "markdown",
   "metadata": {},
   "source": [
    "### Defining and creating the target variable\n",
    "\n",
    "First, we need to clearly define what substance abuse is. According to [Wikipedia](https://en.wikipedia.org/wiki/Substance_abuse):\n",
    "\n",
    "> Substance abuse, also known as drug abuse, is use of a drug in amounts or by methods which are harmful to the individual or others. (...) Drugs most often associated with this term include: alcohol, amphetamines, barbiturates, benzodiazepines, cannabis, cocaine, hallucinogens, methaqualone, and opioids.\n",
    "\n",
    "The OkCupid dataset isn't precise in terms of which drugs its users consume, but it gives us a few clues about quantity: \n",
    "\n",
    "- The `drinks` variable has 6 possible values: very often, often, socially, rarely, desperately, not at all\n",
    "- The `drugs` variable has 3 possible values: never, sometimes, often\n",
    "\n",
    "I'm going to assume that users who drink \"very often\", or use drugs \"often\" are likely candidates for the group of users with a substance problem. I dismissed \"desperately\" entries because this sounds more like an answer to signal you're cool.\n",
    "\n",
    "I'm going to name it as `abuse`, and convert the possible values of `drinks` and `drugs` the variables `alcohol_problem`, `drugs_problem`, and `both_problems`, which will either be 0 or 1. But before that, I'm going to drop the missing values in both columns because I want the target column to be devoid of NaNs."
   ]
  },
  {
   "cell_type": "code",
   "execution_count": 7,
   "metadata": {
    "scrolled": true
   },
   "outputs": [
    {
     "data": {
      "text/plain": [
       "(44253, 11)"
      ]
     },
     "execution_count": 7,
     "metadata": {},
     "output_type": "execute_result"
    }
   ],
   "source": [
    "df.dropna(axis=0, subset=[\"drinks\", \"drugs\"], inplace=True)\n",
    "df.shape"
   ]
  },
  {
   "cell_type": "markdown",
   "metadata": {},
   "source": [
    "Good, dropping the null values for the target variable left us with 75% of the original data, which is acceptable for me."
   ]
  },
  {
   "cell_type": "code",
   "execution_count": 8,
   "metadata": {},
   "outputs": [],
   "source": [
    "# Creates alcohol_problem column with values:\n",
    "# 1 if drinks = \"very often\", 0 if anything else.\n",
    "# Not considering the \"desperately\" entries improved the model accuracy at the end of this notebook,\n",
    "# which kinda proves my point.\n",
    "df[\"alcohol_problem\"] = df['drinks'].str.contains(\"very often\")\n",
    "\n",
    "# Creates drugs_problem column with values:\n",
    "# 1 if drinks = \"often\"\n",
    "# 0 if anything else\n",
    "df[\"drugs_problem\"] = df['drugs'].str.contains(\"often\")\n",
    "\n",
    "# Users have an abuse problem (abuse = 1) if they have either an alcohol or drug abuse problem;\n",
    "df['abuse'] = (df['alcohol_problem'] | df['drugs_problem'])"
   ]
  },
  {
   "cell_type": "markdown",
   "metadata": {},
   "source": [
    "A user may have a drug abuse problem, an alcohol abuse problem, or both. I want to discriminate each so that I can make a stacked bar plot in the analysis section."
   ]
  },
  {
   "cell_type": "code",
   "execution_count": 9,
   "metadata": {},
   "outputs": [],
   "source": [
    "df['both_problems'] = (df[\"drugs_problem\"] & df[\"alcohol_problem\"])\n",
    "df['alcohol_problem_only'] = (df['alcohol_problem'] & ~df['drugs_problem'])\n",
    "df['drugs_problem_only'] = (~df['alcohol_problem'] & df['drugs_problem'])"
   ]
  },
  {
   "cell_type": "markdown",
   "metadata": {},
   "source": [
    "### Age "
   ]
  },
  {
   "cell_type": "markdown",
   "metadata": {},
   "source": [
    "Several populational traits have a potentially strong correlation with age (e.g. having kids). Therefore I want to create a variable called `age_group` so that I can assess whether my hypotheses hold for all ages when analyzing the plots."
   ]
  },
  {
   "cell_type": "code",
   "execution_count": 10,
   "metadata": {},
   "outputs": [],
   "source": [
    "age_group_labels = [\"18 to 25\", \"25 to 29\", \"30 to 39\", \"40+\"]\n",
    "df[\"age_group\"] = pd.cut(df['age'], bins=[18,25,30,40,100], labels=age_group_labels)"
   ]
  },
  {
   "cell_type": "markdown",
   "metadata": {},
   "source": [
    "The decision upon age intervals was such that each bin contained roughly the same number of users."
   ]
  },
  {
   "cell_type": "code",
   "execution_count": 11,
   "metadata": {},
   "outputs": [
    {
     "data": {
      "text/plain": [
       "30 to 39    12734\n",
       "25 to 29    12611\n",
       "18 to 25    10472\n",
       "40+          8202\n",
       "Name: age_group, dtype: int64"
      ]
     },
     "execution_count": 11,
     "metadata": {},
     "output_type": "execute_result"
    }
   ],
   "source": [
    "df[\"age_group\"].value_counts()"
   ]
  },
  {
   "cell_type": "markdown",
   "metadata": {},
   "source": [
    "### Gender"
   ]
  },
  {
   "cell_type": "code",
   "execution_count": 12,
   "metadata": {},
   "outputs": [],
   "source": [
    "# Creates a female variable, so that gender can be either 0 or 1 to maintain the same format as\n",
    "# the other variables\n",
    "df[\"female\"] = df[\"sex\"].replace({\"m\": 0, \"f\": 1})"
   ]
  },
  {
   "cell_type": "markdown",
   "metadata": {},
   "source": [
    "### Jobs"
   ]
  },
  {
   "cell_type": "code",
   "execution_count": 13,
   "metadata": {},
   "outputs": [],
   "source": [
    "# Create an \"unemployed\" variable to reduce the number of features for the machine learning model\n",
    "df[\"unemployed\"] = df[\"job\"].copy()\n",
    "df.loc[df[\"job\"].notna(), \"unemployed\"] = (df[\"job\"] == \"unemployed\") | (df[\"job\"] == \"rather not say\")"
   ]
  },
  {
   "cell_type": "markdown",
   "metadata": {},
   "source": [
    "### Status"
   ]
  },
  {
   "cell_type": "markdown",
   "metadata": {},
   "source": [
    "The `okcupid_codebook.txt` file tells that all missing values are presented as an empty string in the CSV file. That's not the case with `status`. (I thought it was strange that such a column didn't have one single missing value in a dataset with 60k answers!) The missing values here are stated as \"unknown\". I'll replace those with NaNs."
   ]
  },
  {
   "cell_type": "code",
   "execution_count": 14,
   "metadata": {},
   "outputs": [],
   "source": [
    "df['status'].replace(\"unknown\", np.nan, inplace=True)"
   ]
  },
  {
   "cell_type": "markdown",
   "metadata": {},
   "source": [
    "According to the `okcupid_codebook.txt` file, the possible values of `status` are single, seeing someone, married, and in an open relationship. I'll replace the value \"available\" with the latter since it's more explainative."
   ]
  },
  {
   "cell_type": "code",
   "execution_count": 15,
   "metadata": {},
   "outputs": [],
   "source": [
    "df[\"status\"] = df[\"status\"].replace({\"available\": \"in an open relationship\"})\n",
    "\n",
    "# Create a \"married\" variable to reduce the number of features for the machine learning model\n",
    "df[\"married\"] = df[\"status\"].str.contains(\"married\")"
   ]
  },
  {
   "cell_type": "markdown",
   "metadata": {},
   "source": [
    "### Offspring "
   ]
  },
  {
   "cell_type": "markdown",
   "metadata": {},
   "source": [
    "Whoever answered \"doesn't have kids\" (and might or might not want them), or simply \"wants kids\" will have the `offspring` variable set to zero, while everything else will be replaced with ones."
   ]
  },
  {
   "cell_type": "code",
   "execution_count": 16,
   "metadata": {},
   "outputs": [],
   "source": [
    "df['offspring'].replace(['doesn&rsquo;t have kids',\n",
    "                         'doesn&rsquo;t have kids, and doesn&rsquo;t want any',\n",
    "                         'doesn&rsquo;t have kids, but might want them',\n",
    "                         'doesn&rsquo;t have kids, but wants them',\n",
    "                         'might want kids',\n",
    "                         'doesn&rsquo;t want kids',\n",
    "                         'wants kids'], 0, inplace=True)\n",
    "\n",
    "df['offspring'].replace(['has a kid',\n",
    "                         'has a kid, and might want more',\n",
    "                         'has a kid, and wants more',\n",
    "                         'has a kid, but doesn&rsquo;t want more',\n",
    "                         'has kids',\n",
    "                         'has kids, and might want more',\n",
    "                         'has kids, and wants more',\n",
    "                         'has kids, but doesn&rsquo;t want more',], 1, inplace=True)"
   ]
  },
  {
   "cell_type": "markdown",
   "metadata": {},
   "source": [
    "### Pets "
   ]
  },
  {
   "cell_type": "code",
   "execution_count": 17,
   "metadata": {},
   "outputs": [],
   "source": [
    "# 1 if person has dogs (or cats), 0 otherwise\n",
    "df['has_dogs'] = df['pets'].str.contains('has dogs')\n",
    "df['has_cats'] = df['pets'].str.contains('has cats')\n",
    "\n",
    "# Make a copy of pets so that all NaNs are at the right position, then\n",
    "# has_pets = 1 when user either has a dog or a cat\n",
    "df['has_pets'] = df['pets']\n",
    "df.loc[df['pets'].notna(), 'has_pets'] = (df['has_dogs'] == 1) | (df['has_cats'] == 1)"
   ]
  },
  {
   "cell_type": "markdown",
   "metadata": {},
   "source": [
    "### Religion \n",
    "\n",
    "The `religion` variable has several possible values plus a few modifiers (\"laughing about it, \"somewhat serious about it\", etc). I thought of creating a new variable out of these modifiers called `religious`, which is going to be 1 if:\n",
    "- `religion` is not atheism or agnosticism (for obvious reasons), and\n",
    "- the `religion` modifier is \"very serious about it\"."
   ]
  },
  {
   "cell_type": "code",
   "execution_count": 18,
   "metadata": {},
   "outputs": [],
   "source": [
    "# religious is 1 if \"very serious\", 0 otherwise\n",
    "df['religious'] = df['religion'].str.contains('very serious')\n",
    "\n",
    "# Conditions: religious remains 1 IF original value is 1 AND not atheist or agnostic\n",
    "cond_religious = df['religious'] == 1\n",
    "cond_notna = df['religious'].notna()\n",
    "cond_not_atheist = ~(df['religion'].str.contains(\"agnosticism\") | df['religion'].str.contains(\"atheism\"))\n",
    "\n",
    "# Replace only rows where values are not nulls. If I don't do that, condition testing will turn\n",
    "# missing values into boolean, because NaN doesn't contain strings \"agnosticism\" or \"atheism\"\n",
    "df.loc[cond_notna, \"religious\"] = cond_religious & cond_not_atheist"
   ]
  },
  {
   "cell_type": "markdown",
   "metadata": {},
   "source": [
    "### Healthy variables"
   ]
  },
  {
   "cell_type": "markdown",
   "metadata": {},
   "source": [
    "Smokers will be smokers, independently of frequency, so setting the variable to 0 who answer \"no\" and 1 for everyone else."
   ]
  },
  {
   "cell_type": "code",
   "execution_count": 19,
   "metadata": {},
   "outputs": [],
   "source": [
    "df[\"smokes\"] = df[\"smokes\"].replace({\"yes\": 1,\n",
    "                                    \"sometimes\": 1,\n",
    "                                    \"when drinking\": 1,\n",
    "                                    \"trying to quit\": 1,\n",
    "                                    \"no\": 0})"
   ]
  },
  {
   "cell_type": "markdown",
   "metadata": {},
   "source": [
    "The \"diet\" variable has 6 possible values (anything, vegetarian, vegan, kosher, halal, and other) and 2 modifiers (mostly/strictly), which might create unnecessary dummy variables that won't add value to the model. So let's boil it down to diet type without the nuance."
   ]
  },
  {
   "cell_type": "code",
   "execution_count": 20,
   "metadata": {},
   "outputs": [],
   "source": [
    "df.loc[df['diet'].notna(), 'vegetarian'] = df['diet'].str.contains(\"vegetarian\") | df['diet'].str.contains(\"vegan\")"
   ]
  },
  {
   "cell_type": "markdown",
   "metadata": {},
   "source": [
    "## 4. Evaluation"
   ]
  },
  {
   "cell_type": "markdown",
   "metadata": {},
   "source": [
    "Auxiliary functions:"
   ]
  },
  {
   "cell_type": "code",
   "execution_count": 21,
   "metadata": {},
   "outputs": [],
   "source": [
    "def chi_test(df, column):\n",
    "    \"\"\"Calculates the p-value of chi-squared tests for a chosen column. The function also\n",
    "    performs the test for all age group in the DataFrame.\n",
    "    \"\"\"\n",
    "    df_dropna = df.dropna(axis=0, subset=[column, 'abuse'])\n",
    "    print(\"Chi-squared test\")\n",
    "    print(\"----------------\")\n",
    "    for group in age_group_labels:\n",
    "        df_group = df_dropna[df_dropna[\"age_group\"] == group]\n",
    "        cont_table = pd.crosstab(df_group[column], df_group['abuse'])\n",
    "        c, p, dof, expected = chi2_contingency(cont_table)\n",
    "        print(f\"Age group: {group}, p = {p:.2g}, chi2 = {c:.2g}, n = {len(df_group[column])}\")\n",
    "  "
   ]
  },
  {
   "cell_type": "code",
   "execution_count": 22,
   "metadata": {},
   "outputs": [],
   "source": [
    "def vert_barplot(df, bars, label, groupby, title=None, color=None, figsize=(9,5)):\n",
    "    \"\"\"Groups the DataFrame by a specified label (like \"age_group), and plots a pretty bar chart\n",
    "    with custom parameters.\n",
    "    \n",
    "    Parameters\n",
    "    ----------\n",
    "    \n",
    "    df : DataFrame\n",
    "    bars : list of tuples\n",
    "        Contains pairs of columns labels and values to be plotted.\n",
    "        Example: [(\"offspring\", 0), (\"offspring, 1\")]\n",
    "    groupby : str\n",
    "        Column label by which the DataFrame is going to be grouped\n",
    "    title : str\n",
    "        x-axis label\n",
    "    color : list\n",
    "        List of colors to be passed to the plotting method.\n",
    "    figsize : tuple\n",
    "        Figure size\n",
    "    \"\"\"\n",
    "    \n",
    "    df_dropna = df.dropna(axis=0, subset=[x[0] for x in bars].append(\"abuse\"))\n",
    "    table_mean = []\n",
    "    for i in range(len(bars)):\n",
    "        col_name = bars[i][0]\n",
    "        col_value = bars[i][1]\n",
    "        table_mean.append(df_dropna[df_dropna[col_name] == col_value]\n",
    "                                .groupby(groupby)[\"abuse\"]\n",
    "                                .mean()\n",
    "                                .to_frame())\n",
    "    table_p = pd.concat(table_mean, axis=1)\n",
    "    \n",
    "    table_percent = table_p * 100  # percentages should be multiplied by 100\n",
    "    \n",
    "    \n",
    "    table_percent.columns = label\n",
    "    table_percent.plot.bar(figsize=figsize,\n",
    "                           color=color,\n",
    "                           rot=0,\n",
    "                           capsize=0)\n",
    "    plt.ylabel(\"% of users with substance problem\")\n",
    "    plt.xlabel(title)\n",
    "    sns.despine()\n",
    "    plt.tight_layout()  # prevents excess white space in the borders\n",
    "    plt.savefig(f\"../results/{bars[0][0]}.png\")\n",
    "    plt.show()\n",
    "  "
   ]
  },
  {
   "cell_type": "code",
   "execution_count": 23,
   "metadata": {},
   "outputs": [],
   "source": [
    "def horz_barplot(df, column, figsize=(10,10), barwidth=0.75, legend_height=1.05):\n",
    "    \"\"\"Groups the DataFrame by a specified label (like \"age_group), and plots a pretty horizontal\n",
    "    bar chart with custom parameters.\n",
    "    \n",
    "    Parameters\n",
    "    ----------\n",
    "    \n",
    "    df : DataFrame\n",
    "    column : str\n",
    "        Column label to be stacked\n",
    "    figsize : tuple\n",
    "        Figure size\n",
    "    barwidth : float\n",
    "        Bar width passed to Matplotlib\n",
    "    legend_height : float\n",
    "        Legend box position above the chart (relative pos)\n",
    "    \"\"\"\n",
    "    df_dropna = df.dropna(axis=0, subset=[column, \"abuse\"])\n",
    "    column_stacked = df_dropna.groupby(column).mean()[['alcohol_problem_only',\n",
    "                                                   'drugs_problem_only',\n",
    "                                                   'both_problems',\n",
    "                                                   'abuse']].sort_values('abuse')*100\n",
    "    sns.set_palette(\"rocket_r\")\n",
    "    column_stacked.drop('abuse', axis=1, inplace=True)\n",
    "    column_stacked.plot(kind='barh', stacked=True, figsize=figsize, width=barwidth, linewidth=0)\n",
    "    plt.ylabel(\"\")\n",
    "    plt.xlabel(\"% of users with possible substance problems\")\n",
    "    plt.gca().invert_yaxis()\n",
    "    plt.legend(loc='upper center', \n",
    "               bbox_to_anchor=(0.5, legend_height),\n",
    "              ncol=3, fancybox=True, shadow=True)\n",
    "    sns.despine()\n",
    "    plt.tight_layout()\n",
    "    plt.savefig(f\"../results/{column}.png\")\n",
    "    plt.show()"
   ]
  },
  {
   "cell_type": "markdown",
   "metadata": {},
   "source": [
    "### Answering the questions"
   ]
  },
  {
   "cell_type": "code",
   "execution_count": 24,
   "metadata": {
    "scrolled": true
   },
   "outputs": [
    {
     "data": {
      "text/plain": [
       "False    43506\n",
       "True       747\n",
       "Name: abuse, dtype: int64"
      ]
     },
     "execution_count": 24,
     "metadata": {},
     "output_type": "execute_result"
    }
   ],
   "source": [
    "df[\"abuse\"].value_counts()"
   ]
  },
  {
   "cell_type": "markdown",
   "metadata": {},
   "source": [
    "Less than 3% of the users in this dataset have a probable substance problem. This is a specially imbalanced dataset, so any attempts to predict an outcome will likely be impacted. Techniques to deal with it can be found at the end of the document."
   ]
  },
  {
   "cell_type": "markdown",
   "metadata": {},
   "source": [
    "### Question #1 - Which age group shows the largest percentage of people with a possible substance addiction problem? And does substance abuse disproportionately affect any gender?"
   ]
  },
  {
   "cell_type": "code",
   "execution_count": 25,
   "metadata": {},
   "outputs": [
    {
     "data": {
      "image/png": "[encoded data removed]",
      "text/plain": [
       "<Figure size 648x360 with 1 Axes>"
      ]
     },
     "metadata": {
      "needs_background": "light"
     },
     "output_type": "display_data"
    }
   ],
   "source": [
    "gender_colors = sns.color_palette(\"colorblind\").as_hex()\n",
    "color=[gender_colors[0], gender_colors[4]]\n",
    "vert_barplot(df=df,\n",
    "             bars=[(\"female\", 0), (\"female\", 1)],\n",
    "             label=[\"male\", \"female\"],\n",
    "             groupby=\"age_group\",\n",
    "             title=\"age group\",\n",
    "             color=color)"
   ]
  },
  {
   "cell_type": "code",
   "execution_count": 26,
   "metadata": {},
   "outputs": [
    {
     "name": "stdout",
     "output_type": "stream",
     "text": [
      "Chi-squared test\n",
      "----------------\n",
      "Age group: 18 to 25, p = 0.58, chi2 = 0.31, n = 10472\n",
      "Age group: 25 to 29, p = 0.66, chi2 = 0.19, n = 12611\n",
      "Age group: 30 to 39, p = 0.0011, chi2 = 11, n = 12734\n",
      "Age group: 40+, p = 0.016, chi2 = 5.8, n = 8202\n"
     ]
    }
   ],
   "source": [
    "chi_test(df, \"female\")"
   ]
  },
  {
   "cell_type": "markdown",
   "metadata": {},
   "source": [
    "### Question #2 - Which kind profession is more vulnerable to substance abuse?"
   ]
  },
  {
   "cell_type": "code",
   "execution_count": 27,
   "metadata": {},
   "outputs": [
    {
     "data": {
      "image/png": "[encoded data removed]",
      "text/plain": [
       "<Figure size 720x720 with 1 Axes>"
      ]
     },
     "metadata": {
      "needs_background": "light"
     },
     "output_type": "display_data"
    }
   ],
   "source": [
    "horz_barplot(df, \"job\")"
   ]
  },
  {
   "cell_type": "markdown",
   "metadata": {},
   "source": [
    "### Question #3 - Are people with kids or partners less likely to have a substance abuse problem?\n"
   ]
  },
  {
   "cell_type": "code",
   "execution_count": 28,
   "metadata": {},
   "outputs": [
    {
     "data": {
      "image/png": "[encoded data removed]",
      "text/plain": [
       "<Figure size 720x288 with 1 Axes>"
      ]
     },
     "metadata": {
      "needs_background": "light"
     },
     "output_type": "display_data"
    }
   ],
   "source": [
    "horz_barplot(df, \"status\", figsize=(10,4), barwidth=0.6, legend_height=1.3)"
   ]
  },
  {
   "cell_type": "markdown",
   "metadata": {},
   "source": [
    "Young adults are much less likely to have kids, and that will impact the outcome of the correlation study with substance abuse. It would be more reasonable to observe differences by age groups."
   ]
  },
  {
   "cell_type": "code",
   "execution_count": 29,
   "metadata": {},
   "outputs": [
    {
     "data": {
      "text/html": [
       "<div>\n",
       "<style scoped>\n",
       "    .dataframe tbody tr th:only-of-type {\n",
       "        vertical-align: middle;\n",
       "    }\n",
       "\n",
       "    .dataframe tbody tr th {\n",
       "        vertical-align: top;\n",
       "    }\n",
       "\n",
       "    .dataframe thead th {\n",
       "        text-align: right;\n",
       "    }\n",
       "</style>\n",
       "<table border=\"1\" class=\"dataframe\">\n",
       "  <thead>\n",
       "    <tr style=\"text-align: right;\">\n",
       "      <th></th>\n",
       "      <th>no. of users</th>\n",
       "      <th>percentage without kids</th>\n",
       "    </tr>\n",
       "    <tr>\n",
       "      <th>age group</th>\n",
       "      <th></th>\n",
       "      <th></th>\n",
       "    </tr>\n",
       "  </thead>\n",
       "  <tbody>\n",
       "    <tr>\n",
       "      <th>18 to 25</th>\n",
       "      <td>10472</td>\n",
       "      <td>96.084190</td>\n",
       "    </tr>\n",
       "    <tr>\n",
       "      <th>25 to 29</th>\n",
       "      <td>12611</td>\n",
       "      <td>94.438503</td>\n",
       "    </tr>\n",
       "    <tr>\n",
       "      <th>30 to 39</th>\n",
       "      <td>12734</td>\n",
       "      <td>82.391714</td>\n",
       "    </tr>\n",
       "    <tr>\n",
       "      <th>40+</th>\n",
       "      <td>8202</td>\n",
       "      <td>43.238213</td>\n",
       "    </tr>\n",
       "  </tbody>\n",
       "</table>\n",
       "</div>"
      ],
      "text/plain": [
       "           no. of users  percentage without kids\n",
       "age group                                       \n",
       "18 to 25          10472                96.084190\n",
       "25 to 29          12611                94.438503\n",
       "30 to 39          12734                82.391714\n",
       "40+                8202                43.238213"
      ]
     },
     "execution_count": 29,
     "metadata": {},
     "output_type": "execute_result"
    }
   ],
   "source": [
    "table_offspring = pd.concat([df[\"age_group\"].value_counts(), (1-df.groupby(\"age_group\")[\"offspring\"].mean())*100], axis=1)\n",
    "table_offspring.columns = [\"no. of users\", \"percentage without kids\"]\n",
    "table_offspring.index.rename(\"age group\", inplace=True)\n",
    "table_offspring"
   ]
  },
  {
   "cell_type": "code",
   "execution_count": 30,
   "metadata": {},
   "outputs": [
    {
     "data": {
      "image/png": "[encoded data removed]",
      "text/plain": [
       "<Figure size 648x360 with 1 Axes>"
      ]
     },
     "metadata": {
      "needs_background": "light"
     },
     "output_type": "display_data"
    }
   ],
   "source": [
    "vert_barplot(df=df,\n",
    "             bars=[(\"offspring\", 1), (\"offspring\",0)], \n",
    "             label=[\"with kids\", \"without kids\"],\n",
    "             groupby=\"age_group\",\n",
    "             title=\"age group\",\n",
    "             color=sns.color_palette(\"Paired\"))"
   ]
  },
  {
   "cell_type": "code",
   "execution_count": 31,
   "metadata": {},
   "outputs": [
    {
     "name": "stdout",
     "output_type": "stream",
     "text": [
      "Chi-squared test\n",
      "----------------\n",
      "Age group: 18 to 25, p = 0.0071, chi2 = 7.2, n = 4086\n",
      "Age group: 25 to 29, p = 0.86, chi2 = 0.031, n = 4675\n",
      "Age group: 30 to 39, p = 0.47, chi2 = 0.51, n = 5310\n",
      "Age group: 40+, p = 0.021, chi2 = 5.3, n = 4836\n"
     ]
    }
   ],
   "source": [
    "chi_test(df, \"offspring\")"
   ]
  },
  {
   "cell_type": "code",
   "execution_count": 32,
   "metadata": {},
   "outputs": [
    {
     "data": {
      "image/png": "[encoded data removed]",
      "text/plain": [
       "<Figure size 648x360 with 1 Axes>"
      ]
     },
     "metadata": {
      "needs_background": "light"
     },
     "output_type": "display_data"
    }
   ],
   "source": [
    "vert_barplot(df=df,\n",
    "             bars=[(\"has_cats\", 1), (\"has_dogs\",0), (\"has_pets\", 0)], \n",
    "             label=[\"cat owners\", \"dog owners\", \"no pets\"],\n",
    "             groupby=\"age_group\",\n",
    "             title=\"age group\",\n",
    "             color=sns.color_palette(\"Paired\"))"
   ]
  },
  {
   "cell_type": "code",
   "execution_count": 33,
   "metadata": {},
   "outputs": [
    {
     "name": "stdout",
     "output_type": "stream",
     "text": [
      "Chi-squared test\n",
      "----------------\n",
      "Age group: 18 to 25, p = 0.077, chi2 = 3.1, n = 7112\n",
      "Age group: 25 to 29, p = 0.015, chi2 = 5.9, n = 8496\n",
      "Age group: 30 to 39, p = 0.0091, chi2 = 6.8, n = 8604\n",
      "Age group: 40+, p = 0.59, chi2 = 0.29, n = 5880\n"
     ]
    }
   ],
   "source": [
    "chi_test(df, \"has_cats\")"
   ]
  },
  {
   "cell_type": "code",
   "execution_count": 34,
   "metadata": {},
   "outputs": [
    {
     "name": "stdout",
     "output_type": "stream",
     "text": [
      "Chi-squared test\n",
      "----------------\n",
      "Age group: 18 to 25, p = 0.89, chi2 = 0.02, n = 7112\n",
      "Age group: 25 to 29, p = 0.13, chi2 = 2.3, n = 8496\n",
      "Age group: 30 to 39, p = 0.59, chi2 = 0.29, n = 8604\n",
      "Age group: 40+, p = 0.9, chi2 = 0.016, n = 5880\n"
     ]
    }
   ],
   "source": [
    "chi_test(df, \"has_dogs\")"
   ]
  },
  {
   "cell_type": "markdown",
   "metadata": {},
   "source": [
    "### Question #4 - Are religious people less likely to have a substance abuse problem?"
   ]
  },
  {
   "cell_type": "code",
   "execution_count": 35,
   "metadata": {},
   "outputs": [
    {
     "data": {
      "image/png": "[encoded data removed]",
      "text/plain": [
       "<Figure size 648x360 with 1 Axes>"
      ]
     },
     "metadata": {
      "needs_background": "light"
     },
     "output_type": "display_data"
    }
   ],
   "source": [
    "vert_barplot(df=df,\n",
    "             bars=[(\"religious\", 1), (\"religious\",0)], \n",
    "             label=[\"takes religion seriously\", \"atheist or cool about it\"],\n",
    "             groupby=\"age_group\",\n",
    "             title=\"age group\",\n",
    "             color=sns.color_palette(\"Paired\"))"
   ]
  },
  {
   "cell_type": "code",
   "execution_count": 36,
   "metadata": {},
   "outputs": [
    {
     "name": "stdout",
     "output_type": "stream",
     "text": [
      "Chi-squared test\n",
      "----------------\n",
      "Age group: 18 to 25, p = 7.5e-06, chi2 = 20, n = 7099\n",
      "Age group: 25 to 29, p = 0.00058, chi2 = 12, n = 8496\n",
      "Age group: 30 to 39, p = 0.0058, chi2 = 7.6, n = 8744\n",
      "Age group: 40+, p = 0.046, chi2 = 4, n = 6391\n"
     ]
    }
   ],
   "source": [
    "chi_test(df, \"religious\")"
   ]
  },
  {
   "cell_type": "markdown",
   "metadata": {},
   "source": [
    "### Question #5 - Does making healthy choices (e.g., not smoking or eating plant-based diets) correlate negatively with substance abuse?"
   ]
  },
  {
   "cell_type": "code",
   "execution_count": 37,
   "metadata": {},
   "outputs": [
    {
     "data": {
      "image/png": "[encoded data removed]",
      "text/plain": [
       "<Figure size 648x360 with 1 Axes>"
      ]
     },
     "metadata": {
      "needs_background": "light"
     },
     "output_type": "display_data"
    }
   ],
   "source": [
    "palette = sns.color_palette(\"colorblind\").as_hex()\n",
    "color = [palette[2], palette[1]]\n",
    "vert_barplot(df=df,\n",
    "             bars=[(\"vegetarian\", 1), (\"vegetarian\",0)], \n",
    "             label=[\"vegetarian\", \"non-vegetarian\"],\n",
    "             groupby=\"age_group\",\n",
    "             title=\"age group\",\n",
    "             color=color)"
   ]
  },
  {
   "cell_type": "code",
   "execution_count": 38,
   "metadata": {},
   "outputs": [
    {
     "name": "stdout",
     "output_type": "stream",
     "text": [
      "Chi-squared test\n",
      "----------------\n",
      "Age group: 18 to 25, p = 0.66, chi2 = 0.19, n = 6897\n",
      "Age group: 25 to 29, p = 0.88, chi2 = 0.023, n = 7681\n",
      "Age group: 30 to 39, p = 0.77, chi2 = 0.087, n = 7437\n",
      "Age group: 40+, p = 0.95, chi2 = 0.0036, n = 4707\n"
     ]
    }
   ],
   "source": [
    "chi_test(df, \"vegetarian\")"
   ]
  },
  {
   "cell_type": "code",
   "execution_count": 39,
   "metadata": {},
   "outputs": [
    {
     "data": {
      "image/png": "[encoded data removed]",
      "text/plain": [
       "<Figure size 648x360 with 1 Axes>"
      ]
     },
     "metadata": {
      "needs_background": "light"
     },
     "output_type": "display_data"
    }
   ],
   "source": [
    "vert_barplot(df=df,\n",
    "             bars=[(\"smokes\", 1), (\"smokes\",0)], \n",
    "             label=[\"smoker\", \"non-smoker\"],\n",
    "             groupby=\"age_group\",\n",
    "             title=\"age group\",\n",
    "             color=sns.color_palette(\"rocket_r\", n_colors=2))"
   ]
  },
  {
   "cell_type": "code",
   "execution_count": 40,
   "metadata": {},
   "outputs": [
    {
     "name": "stdout",
     "output_type": "stream",
     "text": [
      "Chi-squared test\n",
      "----------------\n",
      "Age group: 18 to 25, p = 4.3e-68, chi2 = 3e+02, n = 9966\n",
      "Age group: 25 to 29, p = 1.1e-55, chi2 = 2.5e+02, n = 12004\n",
      "Age group: 30 to 39, p = 9.1e-36, chi2 = 1.6e+02, n = 12284\n",
      "Age group: 40+, p = 7.3e-10, chi2 = 38, n = 8012\n"
     ]
    }
   ],
   "source": [
    "chi_test(df, \"smokes\")"
   ]
  },
  {
   "cell_type": "markdown",
   "metadata": {},
   "source": [
    "### Model evaluation"
   ]
  },
  {
   "cell_type": "markdown",
   "metadata": {},
   "source": [
    "Let's clear up all unused columns and drop all rows with missing values."
   ]
  },
  {
   "cell_type": "code",
   "execution_count": 41,
   "metadata": {},
   "outputs": [],
   "source": [
    "df_useful = df.drop([\"diet\",\"pets\",\"religion\",\"age_group\", \"alcohol_problem\",\n",
    "                    \"alcohol_problem_only\", \"drugs_problem\", \"drugs_problem_only\",\n",
    "                    \"both_problems\", \"has_pets\", \"job\", \"status\", \"sex\",\"drinks\", \"drugs\"], axis=1)\n",
    "\n",
    "df_useful.dropna(axis=0, inplace=True)"
   ]
  },
  {
   "cell_type": "markdown",
   "metadata": {},
   "source": [
    "There are a few categorical variables remaining. Let's transform them into dummy variables."
   ]
  },
  {
   "cell_type": "code",
   "execution_count": 42,
   "metadata": {},
   "outputs": [
    {
     "name": "stdout",
     "output_type": "stream",
     "text": [
      "<class 'pandas.core.frame.DataFrame'>\n",
      "Int64Index: 8462 entries, 0 to 59944\n",
      "Data columns (total 11 columns):\n",
      " #   Column      Non-Null Count  Dtype  \n",
      "---  ------      --------------  -----  \n",
      " 0   age         8462 non-null   int64  \n",
      " 1   offspring   8462 non-null   float64\n",
      " 2   smokes      8462 non-null   float64\n",
      " 3   abuse       8462 non-null   bool   \n",
      " 4   female      8462 non-null   int64  \n",
      " 5   unemployed  8462 non-null   object \n",
      " 6   married     8462 non-null   object \n",
      " 7   has_dogs    8462 non-null   object \n",
      " 8   has_cats    8462 non-null   object \n",
      " 9   religious   8462 non-null   object \n",
      " 10  vegetarian  8462 non-null   object \n",
      "dtypes: bool(1), float64(2), int64(2), object(6)\n",
      "memory usage: 735.5+ KB\n"
     ]
    }
   ],
   "source": [
    "df_useful.info()"
   ]
  },
  {
   "cell_type": "code",
   "execution_count": 43,
   "metadata": {},
   "outputs": [],
   "source": [
    "from sklearn.linear_model import LogisticRegression\n",
    "from sklearn.model_selection import train_test_split\n",
    "from sklearn.preprocessing import StandardScaler\n",
    "from sklearn.metrics import precision_score, roc_auc_score, f1_score, recall_score, plot_roc_curve\n",
    "from sklearn.utils import resample\n",
    "from sklearn.pipeline import make_pipeline\n",
    "from sklearn.model_selection import StratifiedKFold, cross_val_score"
   ]
  },
  {
   "cell_type": "markdown",
   "metadata": {},
   "source": [
    "To ensure convergence, I could create a pipeline and pre-treat the data with StandardScaler. But I want the data to be as pure as possible, and the LogisticRegression without penalty. All of that so to ensure that I get **interpretability** from the LR coefficients."
   ]
  },
  {
   "cell_type": "code",
   "execution_count": 44,
   "metadata": {},
   "outputs": [],
   "source": [
    "model = LogisticRegression(penalty=\"none\",  max_iter=200)\n",
    "\n",
    "y = df_useful[\"abuse\"]\n",
    "X = df_useful.drop([\"abuse\"], axis=1)\n",
    "\n",
    "X_train, X_test, y_train, y_test = train_test_split(X, y, test_size=0.2, random_state=42)\n",
    "\n"
   ]
  },
  {
   "cell_type": "markdown",
   "metadata": {},
   "source": [
    "Our dataset is severely imbalanced and all attempts to train the model will be impacted unless we deal with it first. I decided to upsample the training set, which means randomly replicating positive cases until we have a 50/50 class split in the data set."
   ]
  },
  {
   "cell_type": "code",
   "execution_count": 45,
   "metadata": {},
   "outputs": [],
   "source": [
    "# concatenate our training data back together\n",
    "df_train = pd.concat([X_train, y_train], axis=1)\n",
    "\n",
    "# separate minority and majority classes\n",
    "not_abuse = df_train[df_train[\"abuse\"] == 0]\n",
    "abuse =  df_train[df_train[\"abuse\"] == 1]\n",
    "\n",
    "# upsample minority\n",
    "abuse_upsampled = resample(abuse,\n",
    "                          replace=True, # sample with replacement\n",
    "                          n_samples=len(not_abuse), # match number in majority class\n",
    "                          random_state=42) # reproducible results\n",
    "\n",
    "# combine majority and upsampled minority\n",
    "upsampled = pd.concat([not_abuse, abuse_upsampled])\n",
    "\n",
    "y_train = upsampled.abuse\n",
    "X_train = upsampled.drop('abuse', axis=1)"
   ]
  },
  {
   "cell_type": "code",
   "execution_count": 46,
   "metadata": {},
   "outputs": [
    {
     "data": {
      "text/plain": [
       "LogisticRegression(max_iter=200, penalty='none')"
      ]
     },
     "execution_count": 46,
     "metadata": {},
     "output_type": "execute_result"
    }
   ],
   "source": [
    "model.fit(X_train, y_train)"
   ]
  },
  {
   "cell_type": "markdown",
   "metadata": {},
   "source": [
    "Taking the exponent of model's coefficients will return the odds ratio for each feature. For instance, if you're female you're half as likely to have a substance abuse problem, whereas being unenmployed makes it 4 to 5 times more likely to have a substance abuse problem."
   ]
  },
  {
   "cell_type": "code",
   "execution_count": 47,
   "metadata": {},
   "outputs": [
    {
     "data": {
      "text/html": [
       "<div>\n",
       "<style scoped>\n",
       "    .dataframe tbody tr th:only-of-type {\n",
       "        vertical-align: middle;\n",
       "    }\n",
       "\n",
       "    .dataframe tbody tr th {\n",
       "        vertical-align: top;\n",
       "    }\n",
       "\n",
       "    .dataframe thead th {\n",
       "        text-align: right;\n",
       "    }\n",
       "</style>\n",
       "<table border=\"1\" class=\"dataframe\">\n",
       "  <thead>\n",
       "    <tr style=\"text-align: right;\">\n",
       "      <th></th>\n",
       "      <th>coef</th>\n",
       "    </tr>\n",
       "  </thead>\n",
       "  <tbody>\n",
       "    <tr>\n",
       "      <th>age</th>\n",
       "      <td>0.951449</td>\n",
       "    </tr>\n",
       "    <tr>\n",
       "      <th>offspring</th>\n",
       "      <td>1.105201</td>\n",
       "    </tr>\n",
       "    <tr>\n",
       "      <th>smokes</th>\n",
       "      <td>5.052464</td>\n",
       "    </tr>\n",
       "    <tr>\n",
       "      <th>female</th>\n",
       "      <td>0.593098</td>\n",
       "    </tr>\n",
       "    <tr>\n",
       "      <th>unemployed</th>\n",
       "      <td>4.571028</td>\n",
       "    </tr>\n",
       "    <tr>\n",
       "      <th>married</th>\n",
       "      <td>0.000037</td>\n",
       "    </tr>\n",
       "    <tr>\n",
       "      <th>has_dogs</th>\n",
       "      <td>0.872053</td>\n",
       "    </tr>\n",
       "    <tr>\n",
       "      <th>has_cats</th>\n",
       "      <td>2.393097</td>\n",
       "    </tr>\n",
       "    <tr>\n",
       "      <th>religious</th>\n",
       "      <td>1.917964</td>\n",
       "    </tr>\n",
       "    <tr>\n",
       "      <th>vegetarian</th>\n",
       "      <td>1.141564</td>\n",
       "    </tr>\n",
       "  </tbody>\n",
       "</table>\n",
       "</div>"
      ],
      "text/plain": [
       "                coef\n",
       "age         0.951449\n",
       "offspring   1.105201\n",
       "smokes      5.052464\n",
       "female      0.593098\n",
       "unemployed  4.571028\n",
       "married     0.000037\n",
       "has_dogs    0.872053\n",
       "has_cats    2.393097\n",
       "religious   1.917964\n",
       "vegetarian  1.141564"
      ]
     },
     "execution_count": 47,
     "metadata": {},
     "output_type": "execute_result"
    }
   ],
   "source": [
    "coef_table = pd.DataFrame(model.coef_[0], index=X_train.columns, columns=[\"coef\"])\n",
    "np.exp(coef_table)"
   ]
  },
  {
   "cell_type": "code",
   "execution_count": 48,
   "metadata": {},
   "outputs": [
    {
     "data": {
      "image/png": "[encoded data removed]",
      "text/plain": [
       "<Figure size 720x360 with 1 Axes>"
      ]
     },
     "metadata": {
      "needs_background": "light"
     },
     "output_type": "display_data"
    }
   ],
   "source": [
    "palette = sns.color_palette(\"colorblind\").as_hex()\n",
    "colors = [palette[3] if x < 0 else palette[2] for x in coef_table.values]\n",
    "pos = np.arange(len(coef_table))\n",
    "plt.figure(figsize=(10,5))\n",
    "plt.barh(pos, coef_table[\"coef\"], color=colors)\n",
    "plt.yticks(pos, coef_table.index)\n",
    "plt.axvline(x=0, color='.2')\n",
    "sns.despine()\n",
    "plt.tight_layout()\n",
    "plt.savefig(\"../results/coef.png\")\n",
    "plt.show()"
   ]
  },
  {
   "cell_type": "code",
   "execution_count": 49,
   "metadata": {},
   "outputs": [
    {
     "data": {
      "text/plain": [
       "array([1.23450645e-05, 3.98038857e-01, 3.40180526e-01, ...,\n",
       "       8.68516201e-01, 7.86804688e-01, 8.44627339e-01])"
      ]
     },
     "execution_count": 49,
     "metadata": {},
     "output_type": "execute_result"
    }
   ],
   "source": [
    "model.predict_proba(X_test)[:,1]"
   ]
  },
  {
   "cell_type": "code",
   "execution_count": 50,
   "metadata": {},
   "outputs": [
    {
     "name": "stdout",
     "output_type": "stream",
     "text": [
      "Accuracy: 0.7796810395747195\n",
      "Recall: 0.825\n",
      "ROC AUC: 0.8442604355716878\n"
     ]
    }
   ],
   "source": [
    "print(\"Accuracy:\",model.score(X_test, y_test))\n",
    "print(\"Recall:\",recall_score(y_test, model.predict(X_test)))\n",
    "print(\"ROC AUC:\",roc_auc_score(y_test, model.predict_proba(X_test)[:,1]))"
   ]
  },
  {
   "cell_type": "markdown",
   "metadata": {},
   "source": [
    "According to the metrics, the model performed better than I initially expected, even dropping all missing values in the table and working with 15% of the original data."
   ]
  },
  {
   "cell_type": "code",
   "execution_count": 51,
   "metadata": {},
   "outputs": [
    {
     "data": {
      "text/plain": [
       "<sklearn.metrics._plot.roc_curve.RocCurveDisplay at 0x7f507a794040>"
      ]
     },
     "execution_count": 51,
     "metadata": {},
     "output_type": "execute_result"
    },
    {
     "data": {
      "image/png": "[encoded data removed]",
      "text/plain": [
       "<Figure size 432x288 with 1 Axes>"
      ]
     },
     "metadata": {
      "needs_background": "light"
     },
     "output_type": "display_data"
    }
   ],
   "source": [
    "plot_roc_curve(model, X_test, y_test)"
   ]
  },
  {
   "cell_type": "code",
   "execution_count": 52,
   "metadata": {},
   "outputs": [
    {
     "data": {
      "text/plain": [
       "0.221415607985481"
      ]
     },
     "execution_count": 52,
     "metadata": {},
     "output_type": "execute_result"
    }
   ],
   "source": [
    "1 - (y_test[y_test == 0] == model.predict(X_test[y_test == 0])).mean()"
   ]
  },
  {
   "cell_type": "markdown",
   "metadata": {
    "scrolled": false
   },
   "source": [
    "The ROC curve shows that the model is decent at detecting positive cases, but it still needs a bit of work concerning false positives. At its optimal decision threshold (near to the curve knee), the model has 82.5% probability of correctly detecting positive cases and 22.2% probability of false alarm, which would be slightly annoying in a real world application, to say the least."
   ]
  },
  {
   "cell_type": "markdown",
   "metadata": {},
   "source": [
    "## How other models will perform?\n",
    "\n",
    "We could try other kinds of models and see how they perform in comparison the Logistic Regression (like the Random Forest)."
   ]
  },
  {
   "cell_type": "code",
   "execution_count": 53,
   "metadata": {},
   "outputs": [],
   "source": [
    "from sklearn.ensemble import RandomForestClassifier\n",
    "from sklearn.model_selection import GridSearchCV"
   ]
  },
  {
   "cell_type": "code",
   "execution_count": 54,
   "metadata": {},
   "outputs": [
    {
     "name": "stdout",
     "output_type": "stream",
     "text": [
      "Random Forest auROC: 0.8414322444041138\n"
     ]
    }
   ],
   "source": [
    "# The more estimators the better, until a certain point. Let's start with 500.\n",
    "forest = RandomForestClassifier(n_estimators=500, max_depth=3)\n",
    "\n",
    "forest.fit(X_train, y_train)\n",
    "print(\"Random Forest auROC:\", roc_auc_score(y_test, forest.predict_proba(X_test)[:,1]))"
   ]
  },
  {
   "cell_type": "markdown",
   "metadata": {},
   "source": [
    "Why did it perform so badly? Maybe doing a cross-validated GridSearch to see if things can be improved."
   ]
  },
  {
   "cell_type": "code",
   "execution_count": 66,
   "metadata": {},
   "outputs": [
    {
     "name": "stdout",
     "output_type": "stream",
     "text": [
      "Fitting 5 folds for each of 84 candidates, totalling 420 fits\n"
     ]
    },
    {
     "data": {
      "text/plain": [
       "GridSearchCV(estimator=RandomForestClassifier(n_estimators=500), n_jobs=5,\n",
       "             param_grid={'criterion': ['gini', 'entropy'],\n",
       "                         'max_depth': [None, 5, 10, 15, 30, 60],\n",
       "                         'n_estimators': [200, 400, 500, 600, 800, 900, 1000]},\n",
       "             scoring='roc_auc', verbose=3)"
      ]
     },
     "execution_count": 66,
     "metadata": {},
     "output_type": "execute_result"
    }
   ],
   "source": [
    "parameters = {\"n_estimators\": [200,400,500,600,800,900,1000],\n",
    "              \"criterion\": [\"gini\", \"entropy\"],\n",
    "              \"max_depth\": [None, 5, 10, 15, 30, 60],\n",
    "           }\n",
    "clf = GridSearchCV(forest, parameters, scoring='roc_auc', verbose=3, n_jobs=5)\n",
    "clf.fit(X_train, y_train)"
   ]
  },
  {
   "cell_type": "code",
   "execution_count": 86,
   "metadata": {},
   "outputs": [
    {
     "name": "stdout",
     "output_type": "stream",
     "text": [
      "{'criterion': 'gini', 'max_depth': None, 'n_estimators': 200} 0.953 +/- 0.004\n",
      "{'criterion': 'gini', 'max_depth': None, 'n_estimators': 400} 0.953 +/- 0.003\n",
      "{'criterion': 'gini', 'max_depth': None, 'n_estimators': 500} 0.953 +/- 0.003\n",
      "{'criterion': 'gini', 'max_depth': None, 'n_estimators': 600} 0.953 +/- 0.003\n",
      "{'criterion': 'gini', 'max_depth': None, 'n_estimators': 800} 0.953 +/- 0.003\n",
      "{'criterion': 'gini', 'max_depth': None, 'n_estimators': 900} 0.953 +/- 0.003\n",
      "{'criterion': 'gini', 'max_depth': None, 'n_estimators': 1000} 0.953 +/- 0.003\n",
      "{'criterion': 'gini', 'max_depth': 5, 'n_estimators': 200} 0.836 +/- 0.006\n",
      "{'criterion': 'gini', 'max_depth': 5, 'n_estimators': 400} 0.836 +/- 0.006\n",
      "{'criterion': 'gini', 'max_depth': 5, 'n_estimators': 500} 0.836 +/- 0.005\n",
      "{'criterion': 'gini', 'max_depth': 5, 'n_estimators': 600} 0.836 +/- 0.006\n",
      "{'criterion': 'gini', 'max_depth': 5, 'n_estimators': 800} 0.836 +/- 0.006\n",
      "{'criterion': 'gini', 'max_depth': 5, 'n_estimators': 900} 0.835 +/- 0.005\n",
      "{'criterion': 'gini', 'max_depth': 5, 'n_estimators': 1000} 0.836 +/- 0.005\n",
      "{'criterion': 'gini', 'max_depth': 10, 'n_estimators': 200} 0.932 +/- 0.003\n",
      "{'criterion': 'gini', 'max_depth': 10, 'n_estimators': 400} 0.932 +/- 0.003\n",
      "{'criterion': 'gini', 'max_depth': 10, 'n_estimators': 500} 0.931 +/- 0.003\n",
      "{'criterion': 'gini', 'max_depth': 10, 'n_estimators': 600} 0.932 +/- 0.003\n",
      "{'criterion': 'gini', 'max_depth': 10, 'n_estimators': 800} 0.932 +/- 0.002\n",
      "{'criterion': 'gini', 'max_depth': 10, 'n_estimators': 900} 0.931 +/- 0.003\n",
      "{'criterion': 'gini', 'max_depth': 10, 'n_estimators': 1000} 0.932 +/- 0.003\n",
      "{'criterion': 'gini', 'max_depth': 15, 'n_estimators': 200} 0.953 +/- 0.003\n",
      "{'criterion': 'gini', 'max_depth': 15, 'n_estimators': 400} 0.953 +/- 0.003\n",
      "{'criterion': 'gini', 'max_depth': 15, 'n_estimators': 500} 0.953 +/- 0.003\n",
      "{'criterion': 'gini', 'max_depth': 15, 'n_estimators': 600} 0.953 +/- 0.003\n",
      "{'criterion': 'gini', 'max_depth': 15, 'n_estimators': 800} 0.953 +/- 0.003\n",
      "{'criterion': 'gini', 'max_depth': 15, 'n_estimators': 900} 0.953 +/- 0.003\n",
      "{'criterion': 'gini', 'max_depth': 15, 'n_estimators': 1000} 0.953 +/- 0.003\n",
      "{'criterion': 'gini', 'max_depth': 30, 'n_estimators': 200} 0.953 +/- 0.003\n",
      "{'criterion': 'gini', 'max_depth': 30, 'n_estimators': 400} 0.953 +/- 0.003\n",
      "{'criterion': 'gini', 'max_depth': 30, 'n_estimators': 500} 0.953 +/- 0.003\n",
      "{'criterion': 'gini', 'max_depth': 30, 'n_estimators': 600} 0.953 +/- 0.003\n",
      "{'criterion': 'gini', 'max_depth': 30, 'n_estimators': 800} 0.953 +/- 0.003\n",
      "{'criterion': 'gini', 'max_depth': 30, 'n_estimators': 900} 0.953 +/- 0.003\n",
      "{'criterion': 'gini', 'max_depth': 30, 'n_estimators': 1000} 0.953 +/- 0.003\n",
      "{'criterion': 'gini', 'max_depth': 60, 'n_estimators': 200} 0.953 +/- 0.003\n",
      "{'criterion': 'gini', 'max_depth': 60, 'n_estimators': 400} 0.953 +/- 0.003\n",
      "{'criterion': 'gini', 'max_depth': 60, 'n_estimators': 500} 0.953 +/- 0.003\n",
      "{'criterion': 'gini', 'max_depth': 60, 'n_estimators': 600} 0.953 +/- 0.003\n",
      "{'criterion': 'gini', 'max_depth': 60, 'n_estimators': 800} 0.953 +/- 0.003\n",
      "{'criterion': 'gini', 'max_depth': 60, 'n_estimators': 900} 0.953 +/- 0.003\n",
      "{'criterion': 'gini', 'max_depth': 60, 'n_estimators': 1000} 0.953 +/- 0.003\n",
      "{'criterion': 'entropy', 'max_depth': None, 'n_estimators': 200} 0.953 +/- 0.003\n",
      "{'criterion': 'entropy', 'max_depth': None, 'n_estimators': 400} 0.953 +/- 0.003\n",
      "{'criterion': 'entropy', 'max_depth': None, 'n_estimators': 500} 0.953 +/- 0.003\n",
      "{'criterion': 'entropy', 'max_depth': None, 'n_estimators': 600} 0.953 +/- 0.003\n",
      "{'criterion': 'entropy', 'max_depth': None, 'n_estimators': 800} 0.953 +/- 0.003\n",
      "{'criterion': 'entropy', 'max_depth': None, 'n_estimators': 900} 0.953 +/- 0.003\n",
      "{'criterion': 'entropy', 'max_depth': None, 'n_estimators': 1000} 0.953 +/- 0.003\n",
      "{'criterion': 'entropy', 'max_depth': 5, 'n_estimators': 200} 0.835 +/- 0.006\n",
      "{'criterion': 'entropy', 'max_depth': 5, 'n_estimators': 400} 0.835 +/- 0.006\n",
      "{'criterion': 'entropy', 'max_depth': 5, 'n_estimators': 500} 0.835 +/- 0.006\n",
      "{'criterion': 'entropy', 'max_depth': 5, 'n_estimators': 600} 0.835 +/- 0.005\n",
      "{'criterion': 'entropy', 'max_depth': 5, 'n_estimators': 800} 0.835 +/- 0.006\n",
      "{'criterion': 'entropy', 'max_depth': 5, 'n_estimators': 900} 0.835 +/- 0.006\n",
      "{'criterion': 'entropy', 'max_depth': 5, 'n_estimators': 1000} 0.835 +/- 0.006\n",
      "{'criterion': 'entropy', 'max_depth': 10, 'n_estimators': 200} 0.930 +/- 0.003\n",
      "{'criterion': 'entropy', 'max_depth': 10, 'n_estimators': 400} 0.929 +/- 0.003\n",
      "{'criterion': 'entropy', 'max_depth': 10, 'n_estimators': 500} 0.930 +/- 0.003\n",
      "{'criterion': 'entropy', 'max_depth': 10, 'n_estimators': 600} 0.929 +/- 0.002\n",
      "{'criterion': 'entropy', 'max_depth': 10, 'n_estimators': 800} 0.929 +/- 0.003\n",
      "{'criterion': 'entropy', 'max_depth': 10, 'n_estimators': 900} 0.929 +/- 0.003\n",
      "{'criterion': 'entropy', 'max_depth': 10, 'n_estimators': 1000} 0.930 +/- 0.003\n",
      "{'criterion': 'entropy', 'max_depth': 15, 'n_estimators': 200} 0.953 +/- 0.003\n",
      "{'criterion': 'entropy', 'max_depth': 15, 'n_estimators': 400} 0.953 +/- 0.003\n",
      "{'criterion': 'entropy', 'max_depth': 15, 'n_estimators': 500} 0.953 +/- 0.003\n",
      "{'criterion': 'entropy', 'max_depth': 15, 'n_estimators': 600} 0.953 +/- 0.003\n",
      "{'criterion': 'entropy', 'max_depth': 15, 'n_estimators': 800} 0.953 +/- 0.003\n",
      "{'criterion': 'entropy', 'max_depth': 15, 'n_estimators': 900} 0.953 +/- 0.003\n",
      "{'criterion': 'entropy', 'max_depth': 15, 'n_estimators': 1000} 0.953 +/- 0.003\n",
      "{'criterion': 'entropy', 'max_depth': 30, 'n_estimators': 200} 0.953 +/- 0.003\n",
      "{'criterion': 'entropy', 'max_depth': 30, 'n_estimators': 400} 0.953 +/- 0.003\n",
      "{'criterion': 'entropy', 'max_depth': 30, 'n_estimators': 500} 0.953 +/- 0.003\n",
      "{'criterion': 'entropy', 'max_depth': 30, 'n_estimators': 600} 0.953 +/- 0.003\n",
      "{'criterion': 'entropy', 'max_depth': 30, 'n_estimators': 800} 0.953 +/- 0.003\n",
      "{'criterion': 'entropy', 'max_depth': 30, 'n_estimators': 900} 0.953 +/- 0.003\n",
      "{'criterion': 'entropy', 'max_depth': 30, 'n_estimators': 1000} 0.953 +/- 0.003\n",
      "{'criterion': 'entropy', 'max_depth': 60, 'n_estimators': 200} 0.953 +/- 0.003\n",
      "{'criterion': 'entropy', 'max_depth': 60, 'n_estimators': 400} 0.953 +/- 0.003\n",
      "{'criterion': 'entropy', 'max_depth': 60, 'n_estimators': 500} 0.953 +/- 0.003\n",
      "{'criterion': 'entropy', 'max_depth': 60, 'n_estimators': 600} 0.953 +/- 0.003\n",
      "{'criterion': 'entropy', 'max_depth': 60, 'n_estimators': 800} 0.953 +/- 0.003\n",
      "{'criterion': 'entropy', 'max_depth': 60, 'n_estimators': 900} 0.953 +/- 0.003\n",
      "{'criterion': 'entropy', 'max_depth': 60, 'n_estimators': 1000} 0.953 +/- 0.003\n"
     ]
    }
   ],
   "source": [
    "for params, mean, std in zip(clf.cv_results_['params'],\n",
    "                             clf.cv_results_['mean_test_score'],\n",
    "                             clf.cv_results_['std_test_score']):\n",
    "    print(\"{} {:.3f} +/- {:.3f}\".format(params,mean,std))\n"
   ]
  },
  {
   "cell_type": "markdown",
   "metadata": {},
   "source": [
    "Weird. The standard deviation for all models are interestingly small. And the model performs great whatever the parameters. Even the number of trees doesn't significantly influence the model's performance, so that we can get away with a pretty decent score with just 200 estimators. But as we saw before, the model performs badly when tested against the validation set. What could be going wrong?"
   ]
  },
  {
   "cell_type": "code",
   "execution_count": 90,
   "metadata": {},
   "outputs": [
    {
     "name": "stdout",
     "output_type": "stream",
     "text": [
      "Confusion matrix, without normalization\n",
      "[[1418  235]\n",
      " [  23   17]]\n",
      "Normalized confusion matrix\n",
      "[[0.85783424 0.14216576]\n",
      " [0.575      0.425     ]]\n"
     ]
    },
    {
     "data": {
      "image/png": "[encoded data removed]",
      "text/plain": [
       "<Figure size 432x288 with 2 Axes>"
      ]
     },
     "metadata": {
      "needs_background": "light"
     },
     "output_type": "display_data"
    },
    {
     "data": {
      "image/png": "[encoded data removed]",
      "text/plain": [
       "<Figure size 432x288 with 2 Axes>"
      ]
     },
     "metadata": {
      "needs_background": "light"
     },
     "output_type": "display_data"
    }
   ],
   "source": [
    "from sklearn.metrics import plot_confusion_matrix\n",
    "# Plot non-normalized confusion matrix\n",
    "titles_options = [(\"Confusion matrix, without normalization\", None),\n",
    "                  (\"Normalized confusion matrix\", 'true')]\n",
    "for title, normalize in titles_options:\n",
    "    disp = plot_confusion_matrix(forest, X_test, y_test,\n",
    "                                # display_labels=class_names,\n",
    "                                 cmap=plt.cm.Blues,\n",
    "                                 normalize=normalize)\n",
    "    disp.ax_.set_title(title)\n",
    "\n",
    "    print(title)\n",
    "    print(disp.confusion_matrix)\n",
    "\n",
    "plt.show()"
   ]
  },
  {
   "cell_type": "markdown",
   "metadata": {},
   "source": [
    "The problem is that Random Forests are based on Decision Trees, which are highly sensible to unbalanced classes. The models are probably _overfitting_, and that would explain why the models score so high in the cross-validation GridSearch. In that case, I'm gonna use the most realistic value (with a limited max_depth), and see how it performs against the Logistic Regression."
   ]
  },
  {
   "cell_type": "code",
   "execution_count": 55,
   "metadata": {},
   "outputs": [
    {
     "data": {
      "image/png": "[encoded data removed]",
      "text/plain": [
       "<Figure size 432x288 with 1 Axes>"
      ]
     },
     "metadata": {
      "needs_background": "light"
     },
     "output_type": "display_data"
    }
   ],
   "source": [
    "forest = RandomForestClassifier(n_estimators=500, max_depth=3)\n",
    "forest.fit(X_train, y_train)\n",
    "\n",
    "fig, ax = plt.subplots()\n",
    "plot_roc_curve(model, X_test, y_test, ax=ax, color=\"orange\")\n",
    "plot_roc_curve(forest, X_test, y_test, ax=ax, color=\"blue\")\n",
    "plt.show()"
   ]
  },
  {
   "cell_type": "code",
   "execution_count": null,
   "metadata": {},
   "outputs": [],
   "source": []
  }
 ],
 "metadata": {
  "kernelspec": {
   "display_name": "Python 3",
   "language": "python",
   "name": "python3"
  },
  "language_info": {
   "codemirror_mode": {
    "name": "ipython",
    "version": 3
   },
   "file_extension": ".py",
   "mimetype": "text/x-python",
   "name": "python",
   "nbconvert_exporter": "python",
   "pygments_lexer": "ipython3",
   "version": "3.9.4"
  }
 },
 "nbformat": 4,
 "nbformat_minor": 4
}
