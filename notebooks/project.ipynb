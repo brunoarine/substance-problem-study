{
 "cells": [
  {
   "cell_type": "code",
   "execution_count": 1,
   "metadata": {},
   "outputs": [],
   "source": [
    "import pandas as pd\n",
    "import numpy as np\n",
    "import seaborn as sns\n",
    "import matplotlib.pyplot as plt"
   ]
  },
  {
   "cell_type": "code",
   "execution_count": 2,
   "metadata": {},
   "outputs": [],
   "source": [
    "df = pd.read_csv(\"../data/profiles.csv\")"
   ]
  },
  {
   "cell_type": "markdown",
   "metadata": {},
   "source": [
    "## Remove unneeded variables\n",
    "\n",
    "First, let's drop all the columns we won't use."
   ]
  },
  {
   "cell_type": "code",
   "execution_count": 3,
   "metadata": {},
   "outputs": [],
   "source": [
    "df.drop(['last_online', 'location', 'sign', 'speaks', \"ethnicity\"], axis=1, inplace=True)\n",
    "df.drop([f\"essay{n}\" for n in np.arange(0,10)], axis=1, inplace=True)"
   ]
  },
  {
   "cell_type": "markdown",
   "metadata": {},
   "source": [
    "## Refactor \"diet\" variable\n",
    "\n",
    "The \"diet\" variable has 6 possible cuisines (anything, vegetarian, vegan, kosher, halal, and other) and 2 changers (mostly/strictly), which might create unnecessary dummy variables that won't add value to the model. So let's boil it down to diet type without the nuance."
   ]
  },
  {
   "cell_type": "code",
   "execution_count": 4,
   "metadata": {},
   "outputs": [],
   "source": [
    "df.dropna(axis=0, subset=['diet'], inplace=True)\n",
    "df['vegetarian'] = df['diet'].apply(lambda x: 1 if (\"vegetarian\" in x) or (\"vegan\" in x) else 0)\n",
    "df.drop(\"diet\", axis=1, inplace=True)"
   ]
  },
  {
   "cell_type": "markdown",
   "metadata": {},
   "source": [
    "## Convert \"drink\" values into a numerical scale"
   ]
  },
  {
   "cell_type": "code",
   "execution_count": 5,
   "metadata": {},
   "outputs": [],
   "source": [
    "df[\"heavy_drinker\"] = df['drinks'].apply(lambda x: 1 if (x==\"very often\") or (x==\"desperately\") else 0)\n",
    "df.drop(\"drinks\", axis=1, inplace=True)"
   ]
  },
  {
   "cell_type": "code",
   "execution_count": 6,
   "metadata": {},
   "outputs": [],
   "source": [
    "df[\"drug_user\"] = df['drugs'].apply(lambda x: 1 if (x==\"often\") else 0)\n",
    "df.drop(\"drugs\", axis=1, inplace=True)"
   ]
  },
  {
   "cell_type": "markdown",
   "metadata": {},
   "source": [
    "## Extract offspring"
   ]
  },
  {
   "cell_type": "code",
   "execution_count": 7,
   "metadata": {},
   "outputs": [],
   "source": [
    "df['offspring'].replace(['doesn&rsquo;t have kids',\n",
    "                         'doesn&rsquo;t have kids, and doesn&rsquo;t want any',\n",
    "                         'doesn&rsquo;t have kids, but might want them',\n",
    "                         'doesn&rsquo;t have kids, but wants them',\n",
    "                         'might want kids',\n",
    "                         'doesn&rsquo;t want kids',\n",
    "                         'wants kids'], 0, inplace=True)\n",
    "\n",
    "df['offspring'].replace(['has a kid',\n",
    "                         'has a kid, and might want more',\n",
    "                         'has a kid, and wants more',\n",
    "                         'has a kid, but doesn&rsquo;t want more',\n",
    "                         'has kids',\n",
    "                         'has kids, and might want more',\n",
    "                         'has kids, and wants more',\n",
    "                         'has kids, but doesn&rsquo;t want more',], 1, inplace=True)"
   ]
  },
  {
   "cell_type": "markdown",
   "metadata": {},
   "source": [
    "## Cleaning up religion\n",
    "\n",
    "Let's remove the religion variable modifiers."
   ]
  },
  {
   "cell_type": "code",
   "execution_count": 8,
   "metadata": {},
   "outputs": [],
   "source": [
    "df['religion'].replace([\" and laughing about it\",\n",
    "                       \" and somewhat serious about it\",\n",
    "                       \" and very serious about it\",\n",
    "                       \" but not too serious about it\"], \"\", regex=True, inplace=True)"
   ]
  },
  {
   "cell_type": "code",
   "execution_count": 9,
   "metadata": {},
   "outputs": [
    {
     "data": {
      "text/plain": [
       "0         agnosticism\n",
       "1         agnosticism\n",
       "2                 NaN\n",
       "3                 NaN\n",
       "5             atheism\n",
       "             ...     \n",
       "59936         atheism\n",
       "59937         judaism\n",
       "59942     agnosticism\n",
       "59943    christianity\n",
       "59944     agnosticism\n",
       "Name: religion, Length: 35551, dtype: object"
      ]
     },
     "execution_count": 9,
     "metadata": {},
     "output_type": "execute_result"
    }
   ],
   "source": [
    "df['religion']"
   ]
  },
  {
   "cell_type": "markdown",
   "metadata": {},
   "source": [
    "## Extract pet information"
   ]
  },
  {
   "cell_type": "code",
   "execution_count": 10,
   "metadata": {},
   "outputs": [],
   "source": [
    "df[\"pets\"].fillna(\"Unknown\", inplace=True)\n",
    "df['has_dogs'] = df['pets'].apply(lambda x: 1 if (\"has dogs\" in x) else 0)\n",
    "df['has_cats'] = df['pets'].apply(lambda x: 1 if (\"has cats\" in x) else 0)\n",
    "df['has_pets'] = df[['has_dogs', 'has_cats']].any(axis=1)\n",
    "df.drop('pets', axis=1, inplace=True)"
   ]
  },
  {
   "cell_type": "markdown",
   "metadata": {},
   "source": [
    "## Create dummy variables from categorical columns"
   ]
  },
  {
   "cell_type": "code",
   "execution_count": 11,
   "metadata": {},
   "outputs": [],
   "source": [
    "def create_dummy(df):\n",
    "    \"\"\"\n",
    "    Creates dummy variables for all the categorial variables in a DataFrame and concatenates it\n",
    "    with the original numerical columns.\n",
    "    Input: pandas DataFrame\n",
    "    Output: pandas DataFrame\n",
    "    \"\"\"\n",
    "    cat_cols = df.select_dtypes(include=\"object\").columns\n",
    "    num_cols = df.select_dtypes(exclude=\"object\").columns\n",
    "    dummy_df = pd.get_dummies(df[cat_cols],\n",
    "                              prefix=cat_cols,\n",
    "                              prefix_sep=\"_\",\n",
    "                              dummy_na=True,\n",
    "                              columns=cat_cols)\n",
    "                              \n",
    "    df_new = pd.concat([df[num_cols], dummy_df], axis=1)\n",
    "    return df_new"
   ]
  },
  {
   "cell_type": "code",
   "execution_count": 12,
   "metadata": {},
   "outputs": [],
   "source": [
    "df_dummy = pd.concat([create_dummy(df), df[['job', 'religion', 'status']], ], axis=1)"
   ]
  },
  {
   "cell_type": "code",
   "execution_count": 13,
   "metadata": {},
   "outputs": [],
   "source": [
    "df_dummy['abuse'] = df[['heavy_drinker', 'drug_user']].any(axis=1)"
   ]
  },
  {
   "cell_type": "code",
   "execution_count": 14,
   "metadata": {},
   "outputs": [],
   "source": [
    "sns.set_theme(style=\"whitegrid\")"
   ]
  },
  {
   "cell_type": "markdown",
   "metadata": {},
   "source": [
    "### Which profession has the largest probability of substance abuse?"
   ]
  },
  {
   "cell_type": "code",
   "execution_count": 15,
   "metadata": {},
   "outputs": [
    {
     "data": {
      "text/html": [
       "<div>\n",
       "<style scoped>\n",
       "    .dataframe tbody tr th:only-of-type {\n",
       "        vertical-align: middle;\n",
       "    }\n",
       "\n",
       "    .dataframe tbody tr th {\n",
       "        vertical-align: top;\n",
       "    }\n",
       "\n",
       "    .dataframe thead th {\n",
       "        text-align: right;\n",
       "    }\n",
       "</style>\n",
       "<table border=\"1\" class=\"dataframe\">\n",
       "  <thead>\n",
       "    <tr style=\"text-align: right;\">\n",
       "      <th></th>\n",
       "      <th>abuse</th>\n",
       "    </tr>\n",
       "    <tr>\n",
       "      <th>job</th>\n",
       "      <th></th>\n",
       "    </tr>\n",
       "  </thead>\n",
       "  <tbody>\n",
       "    <tr>\n",
       "      <th>banking / financial / real estate</th>\n",
       "      <td>0.008785</td>\n",
       "    </tr>\n",
       "    <tr>\n",
       "      <th>science / tech / engineering</th>\n",
       "      <td>0.011955</td>\n",
       "    </tr>\n",
       "    <tr>\n",
       "      <th>education / academia</th>\n",
       "      <td>0.012264</td>\n",
       "    </tr>\n",
       "    <tr>\n",
       "      <th>transportation</th>\n",
       "      <td>0.013453</td>\n",
       "    </tr>\n",
       "    <tr>\n",
       "      <th>medicine / health</th>\n",
       "      <td>0.014191</td>\n",
       "    </tr>\n",
       "    <tr>\n",
       "      <th>executive / management</th>\n",
       "      <td>0.014573</td>\n",
       "    </tr>\n",
       "    <tr>\n",
       "      <th>clerical / administrative</th>\n",
       "      <td>0.014675</td>\n",
       "    </tr>\n",
       "    <tr>\n",
       "      <th>sales / marketing / biz dev</th>\n",
       "      <td>0.016599</td>\n",
       "    </tr>\n",
       "    <tr>\n",
       "      <th>construction / craftsmanship</th>\n",
       "      <td>0.017628</td>\n",
       "    </tr>\n",
       "    <tr>\n",
       "      <th>computer / hardware / software</th>\n",
       "      <td>0.019005</td>\n",
       "    </tr>\n",
       "    <tr>\n",
       "      <th>law / legal services</th>\n",
       "      <td>0.022005</td>\n",
       "    </tr>\n",
       "    <tr>\n",
       "      <th>political / government</th>\n",
       "      <td>0.023474</td>\n",
       "    </tr>\n",
       "    <tr>\n",
       "      <th>student</th>\n",
       "      <td>0.026726</td>\n",
       "    </tr>\n",
       "    <tr>\n",
       "      <th>other</th>\n",
       "      <td>0.026987</td>\n",
       "    </tr>\n",
       "    <tr>\n",
       "      <th>entertainment / media</th>\n",
       "      <td>0.027946</td>\n",
       "    </tr>\n",
       "    <tr>\n",
       "      <th>artistic / musical / writer</th>\n",
       "      <td>0.029824</td>\n",
       "    </tr>\n",
       "    <tr>\n",
       "      <th>hospitality / travel</th>\n",
       "      <td>0.031927</td>\n",
       "    </tr>\n",
       "    <tr>\n",
       "      <th>retired</th>\n",
       "      <td>0.039216</td>\n",
       "    </tr>\n",
       "    <tr>\n",
       "      <th>military</th>\n",
       "      <td>0.040323</td>\n",
       "    </tr>\n",
       "    <tr>\n",
       "      <th>rather not say</th>\n",
       "      <td>0.100372</td>\n",
       "    </tr>\n",
       "    <tr>\n",
       "      <th>unemployed</th>\n",
       "      <td>0.119318</td>\n",
       "    </tr>\n",
       "  </tbody>\n",
       "</table>\n",
       "</div>"
      ],
      "text/plain": [
       "                                      abuse\n",
       "job                                        \n",
       "banking / financial / real estate  0.008785\n",
       "science / tech / engineering       0.011955\n",
       "education / academia               0.012264\n",
       "transportation                     0.013453\n",
       "medicine / health                  0.014191\n",
       "executive / management             0.014573\n",
       "clerical / administrative          0.014675\n",
       "sales / marketing / biz dev        0.016599\n",
       "construction / craftsmanship       0.017628\n",
       "computer / hardware / software     0.019005\n",
       "law / legal services               0.022005\n",
       "political / government             0.023474\n",
       "student                            0.026726\n",
       "other                              0.026987\n",
       "entertainment / media              0.027946\n",
       "artistic / musical / writer        0.029824\n",
       "hospitality / travel               0.031927\n",
       "retired                            0.039216\n",
       "military                           0.040323\n",
       "rather not say                     0.100372\n",
       "unemployed                         0.119318"
      ]
     },
     "execution_count": 15,
     "metadata": {},
     "output_type": "execute_result"
    }
   ],
   "source": [
    "job_relative = df_dummy.groupby(\"job\")['abuse'].mean().sort_values().to_frame()\n",
    "job_relative"
   ]
  },
  {
   "cell_type": "code",
   "execution_count": 16,
   "metadata": {},
   "outputs": [
    {
     "data": {
      "image/png": "[encoded data removed]",
      "text/plain": [
       "<Figure size 720x720 with 1 Axes>"
      ]
     },
     "metadata": {},
     "output_type": "display_data"
    }
   ],
   "source": [
    "sns.set_style(\"white\")\n",
    "plt.figure(figsize=(10,10))\n",
    "sns.barplot(x=\"abuse\", y=job_relative.index, data=job_relative, orient=\"h\", color=\"b\")\n",
    "plt.ylabel(\"\")\n",
    "sns.despine()\n",
    "plt.show()"
   ]
  },
  {
   "cell_type": "code",
   "execution_count": 17,
   "metadata": {},
   "outputs": [
    {
     "data": {
      "text/html": [
       "<div>\n",
       "<style scoped>\n",
       "    .dataframe tbody tr th:only-of-type {\n",
       "        vertical-align: middle;\n",
       "    }\n",
       "\n",
       "    .dataframe tbody tr th {\n",
       "        vertical-align: top;\n",
       "    }\n",
       "\n",
       "    .dataframe thead th {\n",
       "        text-align: right;\n",
       "    }\n",
       "</style>\n",
       "<table border=\"1\" class=\"dataframe\">\n",
       "  <thead>\n",
       "    <tr style=\"text-align: right;\">\n",
       "      <th></th>\n",
       "      <th>abuse</th>\n",
       "    </tr>\n",
       "    <tr>\n",
       "      <th>job</th>\n",
       "      <th></th>\n",
       "    </tr>\n",
       "  </thead>\n",
       "  <tbody>\n",
       "    <tr>\n",
       "      <th>transportation</th>\n",
       "      <td>3</td>\n",
       "    </tr>\n",
       "    <tr>\n",
       "      <th>military</th>\n",
       "      <td>5</td>\n",
       "    </tr>\n",
       "    <tr>\n",
       "      <th>clerical / administrative</th>\n",
       "      <td>7</td>\n",
       "    </tr>\n",
       "    <tr>\n",
       "      <th>retired</th>\n",
       "      <td>8</td>\n",
       "    </tr>\n",
       "    <tr>\n",
       "      <th>political / government</th>\n",
       "      <td>10</td>\n",
       "    </tr>\n",
       "    <tr>\n",
       "      <th>construction / craftsmanship</th>\n",
       "      <td>11</td>\n",
       "    </tr>\n",
       "    <tr>\n",
       "      <th>banking / financial / real estate</th>\n",
       "      <td>12</td>\n",
       "    </tr>\n",
       "    <tr>\n",
       "      <th>law / legal services</th>\n",
       "      <td>18</td>\n",
       "    </tr>\n",
       "    <tr>\n",
       "      <th>unemployed</th>\n",
       "      <td>21</td>\n",
       "    </tr>\n",
       "    <tr>\n",
       "      <th>executive / management</th>\n",
       "      <td>21</td>\n",
       "    </tr>\n",
       "    <tr>\n",
       "      <th>education / academia</th>\n",
       "      <td>26</td>\n",
       "    </tr>\n",
       "    <tr>\n",
       "      <th>rather not say</th>\n",
       "      <td>27</td>\n",
       "    </tr>\n",
       "    <tr>\n",
       "      <th>hospitality / travel</th>\n",
       "      <td>28</td>\n",
       "    </tr>\n",
       "    <tr>\n",
       "      <th>medicine / health</th>\n",
       "      <td>32</td>\n",
       "    </tr>\n",
       "    <tr>\n",
       "      <th>entertainment / media</th>\n",
       "      <td>37</td>\n",
       "    </tr>\n",
       "    <tr>\n",
       "      <th>science / tech / engineering</th>\n",
       "      <td>37</td>\n",
       "    </tr>\n",
       "    <tr>\n",
       "      <th>sales / marketing / biz dev</th>\n",
       "      <td>45</td>\n",
       "    </tr>\n",
       "    <tr>\n",
       "      <th>computer / hardware / software</th>\n",
       "      <td>55</td>\n",
       "    </tr>\n",
       "    <tr>\n",
       "      <th>artistic / musical / writer</th>\n",
       "      <td>83</td>\n",
       "    </tr>\n",
       "    <tr>\n",
       "      <th>student</th>\n",
       "      <td>84</td>\n",
       "    </tr>\n",
       "    <tr>\n",
       "      <th>other</th>\n",
       "      <td>127</td>\n",
       "    </tr>\n",
       "  </tbody>\n",
       "</table>\n",
       "</div>"
      ],
      "text/plain": [
       "                                   abuse\n",
       "job                                     \n",
       "transportation                         3\n",
       "military                               5\n",
       "clerical / administrative              7\n",
       "retired                                8\n",
       "political / government                10\n",
       "construction / craftsmanship          11\n",
       "banking / financial / real estate     12\n",
       "law / legal services                  18\n",
       "unemployed                            21\n",
       "executive / management                21\n",
       "education / academia                  26\n",
       "rather not say                        27\n",
       "hospitality / travel                  28\n",
       "medicine / health                     32\n",
       "entertainment / media                 37\n",
       "science / tech / engineering          37\n",
       "sales / marketing / biz dev           45\n",
       "computer / hardware / software        55\n",
       "artistic / musical / writer           83\n",
       "student                               84\n",
       "other                                127"
      ]
     },
     "execution_count": 17,
     "metadata": {},
     "output_type": "execute_result"
    }
   ],
   "source": [
    "job_abs = df_dummy.groupby(\"job\")['abuse'].sum().sort_values().to_frame()\n",
    "job_abs"
   ]
  },
  {
   "cell_type": "code",
   "execution_count": 18,
   "metadata": {},
   "outputs": [
    {
     "data": {
      "image/png": "[encoded data removed]",
      "text/plain": [
       "<Figure size 720x720 with 1 Axes>"
      ]
     },
     "metadata": {},
     "output_type": "display_data"
    }
   ],
   "source": [
    "plt.figure(figsize=(10,10))\n",
    "sns.barplot(x=\"abuse\", y=job_abs.index, data=job_abs, orient=\"h\", color=\"b\")\n",
    "plt.ylabel(\"\")\n",
    "sns.despine()\n",
    "plt.show()"
   ]
  },
  {
   "cell_type": "markdown",
   "metadata": {},
   "source": [
    "### Does having kids decrease the likelihood of substance abuse?"
   ]
  },
  {
   "cell_type": "code",
   "execution_count": 19,
   "metadata": {},
   "outputs": [],
   "source": [
    "kids = df_dummy.dropna(axis=0, subset=[\"offspring\"]).groupby(\"offspring\")[\"abuse\"].mean().to_frame()"
   ]
  },
  {
   "cell_type": "code",
   "execution_count": 20,
   "metadata": {},
   "outputs": [
    {
     "data": {
      "text/html": [
       "<div>\n",
       "<style scoped>\n",
       "    .dataframe tbody tr th:only-of-type {\n",
       "        vertical-align: middle;\n",
       "    }\n",
       "\n",
       "    .dataframe tbody tr th {\n",
       "        vertical-align: top;\n",
       "    }\n",
       "\n",
       "    .dataframe thead th {\n",
       "        text-align: right;\n",
       "    }\n",
       "</style>\n",
       "<table border=\"1\" class=\"dataframe\">\n",
       "  <thead>\n",
       "    <tr style=\"text-align: right;\">\n",
       "      <th></th>\n",
       "      <th>abuse</th>\n",
       "    </tr>\n",
       "    <tr>\n",
       "      <th>has kids</th>\n",
       "      <th></th>\n",
       "    </tr>\n",
       "  </thead>\n",
       "  <tbody>\n",
       "    <tr>\n",
       "      <th>0.0</th>\n",
       "      <td>0.024413</td>\n",
       "    </tr>\n",
       "    <tr>\n",
       "      <th>1.0</th>\n",
       "      <td>0.013984</td>\n",
       "    </tr>\n",
       "  </tbody>\n",
       "</table>\n",
       "</div>"
      ],
      "text/plain": [
       "             abuse\n",
       "has kids          \n",
       "0.0       0.024413\n",
       "1.0       0.013984"
      ]
     },
     "execution_count": 20,
     "metadata": {},
     "output_type": "execute_result"
    }
   ],
   "source": [
    "kids.rename_axis(\"has kids\")"
   ]
  },
  {
   "cell_type": "markdown",
   "metadata": {},
   "source": [
    "### Does owning a pet help?"
   ]
  },
  {
   "cell_type": "code",
   "execution_count": 22,
   "metadata": {},
   "outputs": [
    {
     "data": {
      "text/html": [
       "<div>\n",
       "<style scoped>\n",
       "    .dataframe tbody tr th:only-of-type {\n",
       "        vertical-align: middle;\n",
       "    }\n",
       "\n",
       "    .dataframe tbody tr th {\n",
       "        vertical-align: top;\n",
       "    }\n",
       "\n",
       "    .dataframe thead th {\n",
       "        text-align: right;\n",
       "    }\n",
       "</style>\n",
       "<table border=\"1\" class=\"dataframe\">\n",
       "  <thead>\n",
       "    <tr style=\"text-align: right;\">\n",
       "      <th></th>\n",
       "      <th>abuse</th>\n",
       "    </tr>\n",
       "    <tr>\n",
       "      <th>has_pets</th>\n",
       "      <th></th>\n",
       "    </tr>\n",
       "  </thead>\n",
       "  <tbody>\n",
       "    <tr>\n",
       "      <th>False</th>\n",
       "      <td>0.020522</td>\n",
       "    </tr>\n",
       "    <tr>\n",
       "      <th>True</th>\n",
       "      <td>0.025656</td>\n",
       "    </tr>\n",
       "  </tbody>\n",
       "</table>\n",
       "</div>"
      ],
      "text/plain": [
       "             abuse\n",
       "has_pets          \n",
       "False     0.020522\n",
       "True      0.025656"
      ]
     },
     "execution_count": 22,
     "metadata": {},
     "output_type": "execute_result"
    }
   ],
   "source": [
    "pets = df_dummy.groupby(\"has_pets\")[\"abuse\"].mean().to_frame()\n",
    "pets"
   ]
  },
  {
   "cell_type": "code",
   "execution_count": 23,
   "metadata": {},
   "outputs": [
    {
     "data": {
      "text/plain": [
       "0        False\n",
       "1        False\n",
       "2         True\n",
       "3        False\n",
       "5        False\n",
       "         ...  \n",
       "59936    False\n",
       "59937    False\n",
       "59942    False\n",
       "59943    False\n",
       "59944    False\n",
       "Name: has_pets, Length: 35551, dtype: bool"
      ]
     },
     "execution_count": 23,
     "metadata": {},
     "output_type": "execute_result"
    }
   ],
   "source": []
  },
  {
   "cell_type": "code",
   "execution_count": null,
   "metadata": {},
   "outputs": [],
   "source": []
  }
 ],
 "metadata": {
  "kernelspec": {
   "display_name": "Python 3",
   "language": "python",
   "name": "python3"
  },
  "language_info": {
   "codemirror_mode": {
    "name": "ipython",
    "version": 3
   },
   "file_extension": ".py",
   "mimetype": "text/x-python",
   "name": "python",
   "nbconvert_exporter": "python",
   "pygments_lexer": "ipython3",
   "version": "3.9.2"
  }
 },
 "nbformat": 4,
 "nbformat_minor": 4
}
