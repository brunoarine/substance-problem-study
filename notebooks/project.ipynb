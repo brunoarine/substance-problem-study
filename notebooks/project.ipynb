{
 "cells": [
  {
   "cell_type": "markdown",
   "metadata": {},
   "source": [
    "# Addressing substance problems online\n",
    "\n",
    "This study tries to answer the following questions:\n",
    "\n",
    "1) Is it more common in males of females? Which age?\n",
    "\n",
    "2) Which profession has the largest percentage of users with a probable substance problem?\n",
    "\n",
    "3) Does having kids decrease the likelihood of substance abuse?\n",
    "\n",
    "4) Does taking religion seriously help prevent substance abuse?\n",
    "\n",
    "5) Do healthy choices like not smoking and vegetarian diets correlate negatively with substance abuse?\n",
    "\n"
   ]
  },
  {
   "cell_type": "code",
   "execution_count": 1,
   "metadata": {},
   "outputs": [],
   "source": [
    "import pandas as pd\n",
    "import numpy as np\n",
    "import seaborn as sns\n",
    "import matplotlib.pyplot as plt\n",
    "from scipy.stats import chi2_contingency"
   ]
  },
  {
   "cell_type": "code",
   "execution_count": 2,
   "metadata": {},
   "outputs": [],
   "source": [
    "df = pd.read_csv(\"../data/profiles.csv\")"
   ]
  },
  {
   "cell_type": "markdown",
   "metadata": {},
   "source": [
    "## Selecting the useful variables\n",
    "\n",
    "- diet\n",
    "- drinks\n",
    "- drugs\n",
    "- education\n",
    "- job\n",
    "- offspring\n",
    "- pets\n",
    "- religion\n",
    "- sex\n",
    "- smokes\n",
    "- status\n",
    "\n",
    "Let's ditch all the rest:\n",
    "\n",
    "- body_type\n",
    "- ethnicity\n",
    "- height\n",
    "- income\n",
    "- last_online\n",
    "- location\n",
    "- orientation\n",
    "- sign\n",
    "- speaks\n",
    "- essay from 0 to 9"
   ]
  },
  {
   "cell_type": "code",
   "execution_count": 3,
   "metadata": {},
   "outputs": [],
   "source": [
    "df.drop([\"body_type\", \"ethnicity\", \"height\", \"income\", \"last_online\", \"location\", \"orientation\",\n",
    "        \"sign\", \"speaks\", \"essay0\", \"essay1\", \"essay2\", \"essay3\", \"essay4\", \"essay5\", \"essay6\",\n",
    "        \"essay7\", \"essay8\", \"essay9\"], axis=1, inplace=True)"
   ]
  },
  {
   "cell_type": "markdown",
   "metadata": {},
   "source": [
    "## Defining and creating the target variable\n",
    "\n",
    "Firstly, we need to clearly define what substance abuse is. According to [Wikipedia](https://en.wikipedia.org/wiki/Substance_abuse):\n",
    "\n",
    "> Substance abuse, also known as drug abuse, is use of a drug in amounts or by methods which are harmful to the individual or others. (...) Drugs most often associated with this term include: alcohol, amphetamines, barbiturates, benzodiazepines, cannabis, cocaine, hallucinogens, methaqualone, and opioids.\n",
    "\n",
    "The OkCupid dataset isn't precise in terms of which drugs its users consume, but it gives us a few clues about their quantity. Let's recap:\n",
    "\n",
    "- The `drinks` variable possible values are: very often, often, socially, rarely, desperately, not at all\n",
    "- The `drugs` possible values are: never, sometimes, often\n",
    "\n",
    "I'm going to assume that users who either drink \"very often\" or \"desperately\", or use drugs \"often\" are likely candidates for the group of users with a substance problem. I'm going to name it as `abuse`, and convert the possible values of `drinks` and `drugs` the variables `alcohol_problem`, `drugs_problem`, and `both_problems`, which will either be 0 or 1. "
   ]
  },
  {
   "cell_type": "code",
   "execution_count": 4,
   "metadata": {},
   "outputs": [],
   "source": [
    "df[\"alcohol_problem\"] = df['drinks'].apply(lambda x: 1 if (x==\"very often\") or (x==\"desperately\") else 0)\n",
    "df.drop(\"drinks\", axis=1, inplace=True)\n",
    "\n",
    "df[\"drugs_problem\"] = df['drugs'].apply(lambda x: 1 if (x==\"often\") else 0)\n",
    "df.drop(\"drugs\", axis=1, inplace=True)\n",
    "\n",
    "df['both_problems'] = df[\"drugs_problem\"] & df[\"alcohol_problem\"]\n",
    "df['alcohol_problem_only'] = df['alcohol_problem'] & ~df['drugs_problem']\n",
    "df['drugs_problem_only'] = ~df['alcohol_problem'] & df['drugs_problem']\n",
    "\n",
    "df['abuse'] = df['alcohol_problem'] | df['drugs_problem']"
   ]
  },
  {
   "cell_type": "markdown",
   "metadata": {},
   "source": [
    "## Answering the questions"
   ]
  },
  {
   "cell_type": "code",
   "execution_count": 5,
   "metadata": {},
   "outputs": [],
   "source": [
    "sns.set_style(\"white\")\n",
    "sns.set_palette(\"rocket_r\")\n",
    "sns.set_context(\"notebook\")"
   ]
  },
  {
   "cell_type": "markdown",
   "metadata": {},
   "source": [
    "### Question #1 - Is it more common in males of females? Which age?"
   ]
  },
  {
   "cell_type": "code",
   "execution_count": 6,
   "metadata": {},
   "outputs": [],
   "source": [
    "df[\"age_group\"] = pd.cut(df['age'], bins=[18,24,30,40,50,60,80])"
   ]
  },
  {
   "cell_type": "code",
   "execution_count": 7,
   "metadata": {},
   "outputs": [],
   "source": [
    "df[\"sex\"] = df[\"sex\"].replace({\"m\": 0, \"f\": 1})"
   ]
  },
  {
   "cell_type": "code",
   "execution_count": 8,
   "metadata": {},
   "outputs": [
    {
     "data": {
      "image/png": "[encoded data removed]",
      "text/plain": [
       "<Figure size 720x360 with 1 Axes>"
      ]
     },
     "metadata": {},
     "output_type": "display_data"
    }
   ],
   "source": [
    "sns.set_palette(\"Paired\")\n",
    "\n",
    "male = df[df[\"sex\"] == 0].groupby(\"age_group\")[\"abuse\"].mean().to_frame()\n",
    "female = df[df[\"sex\"] == 1].groupby(\"age_group\")[\"abuse\"].mean().to_frame()\n",
    "has_kids = pd.concat([male, female], axis=1)\n",
    "has_kids.columns = [\"male\", \"female\"]\n",
    "\n",
    "has_kids.plot.bar(figsize=(10,5))\n",
    "plt.ylabel(\"% of users with substance problem\")\n",
    "plt.xlabel(\"age group\")\n",
    "sns.despine()\n",
    "plt.show()"
   ]
  },
  {
   "cell_type": "markdown",
   "metadata": {},
   "source": [
    "### Question #1 - Which profession has the largest percentage of users with a probable substance problem?"
   ]
  },
  {
   "cell_type": "code",
   "execution_count": 9,
   "metadata": {},
   "outputs": [],
   "source": [
    "df[\"job\"].fillna(\"rather not say\", inplace=True)"
   ]
  },
  {
   "cell_type": "markdown",
   "metadata": {},
   "source": [
    "I'm not sure why OkCupid let people choose an item like `rather not say` since not picking any value would have the same result (thus producing NaNs). Anyway, I decided to convert all NaNs into \"rather not say\"."
   ]
  },
  {
   "cell_type": "code",
   "execution_count": 10,
   "metadata": {
    "scrolled": true
   },
   "outputs": [
    {
     "data": {
      "text/html": [
       "<div>\n",
       "<style scoped>\n",
       "    .dataframe tbody tr th:only-of-type {\n",
       "        vertical-align: middle;\n",
       "    }\n",
       "\n",
       "    .dataframe tbody tr th {\n",
       "        vertical-align: top;\n",
       "    }\n",
       "\n",
       "    .dataframe thead th {\n",
       "        text-align: right;\n",
       "    }\n",
       "</style>\n",
       "<table border=\"1\" class=\"dataframe\">\n",
       "  <thead>\n",
       "    <tr style=\"text-align: right;\">\n",
       "      <th></th>\n",
       "      <th>abuse</th>\n",
       "    </tr>\n",
       "    <tr>\n",
       "      <th>job</th>\n",
       "      <th></th>\n",
       "    </tr>\n",
       "  </thead>\n",
       "  <tbody>\n",
       "    <tr>\n",
       "      <th>banking / financial / real estate</th>\n",
       "      <td>0.794351</td>\n",
       "    </tr>\n",
       "    <tr>\n",
       "      <th>executive / management</th>\n",
       "      <td>1.011378</td>\n",
       "    </tr>\n",
       "    <tr>\n",
       "      <th>medicine / health</th>\n",
       "      <td>1.059783</td>\n",
       "    </tr>\n",
       "    <tr>\n",
       "      <th>transportation</th>\n",
       "      <td>1.092896</td>\n",
       "    </tr>\n",
       "    <tr>\n",
       "      <th>education / academia</th>\n",
       "      <td>1.110162</td>\n",
       "    </tr>\n",
       "    <tr>\n",
       "      <th>science / tech / engineering</th>\n",
       "      <td>1.237624</td>\n",
       "    </tr>\n",
       "    <tr>\n",
       "      <th>clerical / administrative</th>\n",
       "      <td>1.366460</td>\n",
       "    </tr>\n",
       "    <tr>\n",
       "      <th>computer / hardware / software</th>\n",
       "      <td>1.507751</td>\n",
       "    </tr>\n",
       "    <tr>\n",
       "      <th>sales / marketing / biz dev</th>\n",
       "      <td>1.548622</td>\n",
       "    </tr>\n",
       "    <tr>\n",
       "      <th>construction / craftsmanship</th>\n",
       "      <td>1.567091</td>\n",
       "    </tr>\n",
       "    <tr>\n",
       "      <th>political / government</th>\n",
       "      <td>1.977401</td>\n",
       "    </tr>\n",
       "    <tr>\n",
       "      <th>law / legal services</th>\n",
       "      <td>2.027516</td>\n",
       "    </tr>\n",
       "    <tr>\n",
       "      <th>rather not say</th>\n",
       "      <td>2.096363</td>\n",
       "    </tr>\n",
       "    <tr>\n",
       "      <th>entertainment / media</th>\n",
       "      <td>2.133333</td>\n",
       "    </tr>\n",
       "    <tr>\n",
       "      <th>student</th>\n",
       "      <td>2.273658</td>\n",
       "    </tr>\n",
       "    <tr>\n",
       "      <th>other</th>\n",
       "      <td>2.279615</td>\n",
       "    </tr>\n",
       "    <tr>\n",
       "      <th>artistic / musical / writer</th>\n",
       "      <td>2.928588</td>\n",
       "    </tr>\n",
       "    <tr>\n",
       "      <th>hospitality / travel</th>\n",
       "      <td>2.932551</td>\n",
       "    </tr>\n",
       "    <tr>\n",
       "      <th>military</th>\n",
       "      <td>2.941176</td>\n",
       "    </tr>\n",
       "    <tr>\n",
       "      <th>retired</th>\n",
       "      <td>3.600000</td>\n",
       "    </tr>\n",
       "    <tr>\n",
       "      <th>unemployed</th>\n",
       "      <td>8.791209</td>\n",
       "    </tr>\n",
       "  </tbody>\n",
       "</table>\n",
       "</div>"
      ],
      "text/plain": [
       "                                      abuse\n",
       "job                                        \n",
       "banking / financial / real estate  0.794351\n",
       "executive / management             1.011378\n",
       "medicine / health                  1.059783\n",
       "transportation                     1.092896\n",
       "education / academia               1.110162\n",
       "science / tech / engineering       1.237624\n",
       "clerical / administrative          1.366460\n",
       "computer / hardware / software     1.507751\n",
       "sales / marketing / biz dev        1.548622\n",
       "construction / craftsmanship       1.567091\n",
       "political / government             1.977401\n",
       "law / legal services               2.027516\n",
       "rather not say                     2.096363\n",
       "entertainment / media              2.133333\n",
       "student                            2.273658\n",
       "other                              2.279615\n",
       "artistic / musical / writer        2.928588\n",
       "hospitality / travel               2.932551\n",
       "military                           2.941176\n",
       "retired                            3.600000\n",
       "unemployed                         8.791209"
      ]
     },
     "execution_count": 10,
     "metadata": {},
     "output_type": "execute_result"
    }
   ],
   "source": [
    "job_relative = df.groupby(\"job\")['abuse'].mean().sort_values().to_frame()\n",
    "job_relative*100"
   ]
  },
  {
   "cell_type": "code",
   "execution_count": 11,
   "metadata": {},
   "outputs": [
    {
     "data": {
      "image/png": "[encoded data removed]",
      "text/plain": [
       "<Figure size 720x720 with 1 Axes>"
      ]
     },
     "metadata": {},
     "output_type": "display_data"
    }
   ],
   "source": [
    "sns.set_style(\"white\")\n",
    "sns.set_palette(\"rocket_r\")\n",
    "sns.set_context(\"notebook\")\n",
    "\n",
    "jobs_stacked = df.groupby(\"job\").mean()[['alcohol_problem_only',\n",
    "                                               'drugs_problem_only',\n",
    "                                               'both_problems',\n",
    "                                               'abuse']].sort_values('abuse')*100\n",
    "jobs_stacked.drop('abuse', axis=1, inplace=True)\n",
    "jobs_stacked.plot(kind='barh', stacked=True, figsize=(10,10), width=0.75, linewidth=0)\n",
    "plt.ylabel(\"\")\n",
    "plt.xlabel(\"% of users with possible substance problems\")\n",
    "plt.gca().invert_yaxis()\n",
    "plt.legend(loc='upper center', bbox_to_anchor=(0.5, 1.05),\n",
    "          ncol=3, fancybox=True, shadow=True)\n",
    "sns.despine()\n",
    "plt.show()"
   ]
  },
  {
   "cell_type": "markdown",
   "metadata": {},
   "source": [
    "### Question 2) Does having kids decrease the likelihood of substance abuse?\n"
   ]
  },
  {
   "cell_type": "markdown",
   "metadata": {},
   "source": [
    "According to the `okcupid_codebook.txt` file, the possible values of `status` are single, seeing someone, married, and in an open relationship. I'll replace the value \"available\" with the latter since it's more explainative."
   ]
  },
  {
   "cell_type": "code",
   "execution_count": 12,
   "metadata": {},
   "outputs": [],
   "source": [
    "df[\"status\"] = df[\"status\"].replace({\"available\": \"in an open relationship\"})"
   ]
  },
  {
   "cell_type": "code",
   "execution_count": 13,
   "metadata": {},
   "outputs": [
    {
     "data": {
      "image/png": "[encoded data removed]",
      "text/plain": [
       "<Figure size 720x360 with 1 Axes>"
      ]
     },
     "metadata": {},
     "output_type": "display_data"
    }
   ],
   "source": [
    "sns.set_style(\"white\")\n",
    "sns.set_palette(\"rocket_r\")\n",
    "sns.set_context(\"notebook\")\n",
    "\n",
    "status_stacked = df.groupby(\"status\").mean()[['alcohol_problem_only',\n",
    "                                               'drugs_problem_only',\n",
    "                                               'both_problems',\n",
    "                                               'abuse']].sort_values('abuse')*100\n",
    "status_stacked.drop('abuse', axis=1, inplace=True)\n",
    "status_stacked.plot(kind='barh', stacked=True, figsize=(10,5), width=0.75, linewidth=0)\n",
    "plt.ylabel(\"\")\n",
    "plt.xlabel(\"% of users with possible substance problems\")\n",
    "plt.gca().invert_yaxis()\n",
    "plt.legend(loc='upper center', bbox_to_anchor=(0.5, 1.05),\n",
    "          ncol=3, fancybox=True, shadow=True)\n",
    "sns.despine()\n",
    "plt.show()"
   ]
  },
  {
   "cell_type": "markdown",
   "metadata": {},
   "source": [
    "This variable is tricky. Almost 60% of the respondents chose not to say whether they had kids, so dropping the NaNs may greatly affect the outcomes."
   ]
  },
  {
   "cell_type": "code",
   "execution_count": 14,
   "metadata": {},
   "outputs": [
    {
     "data": {
      "text/plain": [
       "0.5932172288392887"
      ]
     },
     "execution_count": 14,
     "metadata": {},
     "output_type": "execute_result"
    }
   ],
   "source": [
    "df['offspring'].isnull().mean()"
   ]
  },
  {
   "cell_type": "markdown",
   "metadata": {},
   "source": [
    "Whoever said that \"doesn't have kids\" (and might or might not want them), or simply \"wants kids\" will have the offspring variable set to zero, while everything else will be replaced with ones."
   ]
  },
  {
   "cell_type": "code",
   "execution_count": 15,
   "metadata": {},
   "outputs": [],
   "source": [
    "df.dropna(axis=0, subset=[\"offspring\"], inplace=True)\n",
    "df['offspring'].replace(['doesn&rsquo;t have kids',\n",
    "                         'doesn&rsquo;t have kids, and doesn&rsquo;t want any',\n",
    "                         'doesn&rsquo;t have kids, but might want them',\n",
    "                         'doesn&rsquo;t have kids, but wants them',\n",
    "                         'might want kids',\n",
    "                         'doesn&rsquo;t want kids',\n",
    "                         'wants kids'], 0, inplace=True)\n",
    "\n",
    "df['offspring'].replace(['has a kid',\n",
    "                         'has a kid, and might want more',\n",
    "                         'has a kid, and wants more',\n",
    "                         'has a kid, but doesn&rsquo;t want more',\n",
    "                         'has kids',\n",
    "                         'has kids, and might want more',\n",
    "                         'has kids, and wants more',\n",
    "                         'has kids, but doesn&rsquo;t want more',], 1, inplace=True)"
   ]
  },
  {
   "cell_type": "markdown",
   "metadata": {},
   "source": [
    "There's also the problem of colinearity with age. Young adults are much less likely to have kids, and that will impact the outcome of the correlation study with substance abuse. It would be more reasonable to observe differences by age groups."
   ]
  },
  {
   "cell_type": "code",
   "execution_count": 16,
   "metadata": {},
   "outputs": [
    {
     "data": {
      "text/html": [
       "<div>\n",
       "<style scoped>\n",
       "    .dataframe tbody tr th:only-of-type {\n",
       "        vertical-align: middle;\n",
       "    }\n",
       "\n",
       "    .dataframe tbody tr th {\n",
       "        vertical-align: top;\n",
       "    }\n",
       "\n",
       "    .dataframe thead th {\n",
       "        text-align: right;\n",
       "    }\n",
       "</style>\n",
       "<table border=\"1\" class=\"dataframe\">\n",
       "  <thead>\n",
       "    <tr style=\"text-align: right;\">\n",
       "      <th></th>\n",
       "      <th>no. of users</th>\n",
       "      <th>percentage without kids</th>\n",
       "    </tr>\n",
       "    <tr>\n",
       "      <th>age group</th>\n",
       "      <th></th>\n",
       "      <th></th>\n",
       "    </tr>\n",
       "  </thead>\n",
       "  <tbody>\n",
       "    <tr>\n",
       "      <th>(18, 24]</th>\n",
       "      <td>3943</td>\n",
       "      <td>96.221151</td>\n",
       "    </tr>\n",
       "    <tr>\n",
       "      <th>(24, 30]</th>\n",
       "      <td>7291</td>\n",
       "      <td>95.103552</td>\n",
       "    </tr>\n",
       "    <tr>\n",
       "      <th>(30, 40]</th>\n",
       "      <td>7109</td>\n",
       "      <td>83.415389</td>\n",
       "    </tr>\n",
       "    <tr>\n",
       "      <th>(40, 50]</th>\n",
       "      <td>3527</td>\n",
       "      <td>55.231075</td>\n",
       "    </tr>\n",
       "    <tr>\n",
       "      <th>(50, 60]</th>\n",
       "      <td>1664</td>\n",
       "      <td>31.069712</td>\n",
       "    </tr>\n",
       "    <tr>\n",
       "      <th>(60, 80]</th>\n",
       "      <td>677</td>\n",
       "      <td>25.406204</td>\n",
       "    </tr>\n",
       "  </tbody>\n",
       "</table>\n",
       "</div>"
      ],
      "text/plain": [
       "           no. of users  percentage without kids\n",
       "age group                                       \n",
       "(18, 24]           3943                96.221151\n",
       "(24, 30]           7291                95.103552\n",
       "(30, 40]           7109                83.415389\n",
       "(40, 50]           3527                55.231075\n",
       "(50, 60]           1664                31.069712\n",
       "(60, 80]            677                25.406204"
      ]
     },
     "execution_count": 16,
     "metadata": {},
     "output_type": "execute_result"
    }
   ],
   "source": [
    "table_offspring = pd.concat([df[\"age_group\"].value_counts(), (1-df.groupby(\"age_group\")[\"offspring\"].mean())*100], axis=1)\n",
    "table_offspring.columns = [\"no. of users\", \"percentage without kids\"]\n",
    "table_offspring.index.rename(\"age group\", inplace=True)\n",
    "table_offspring"
   ]
  },
  {
   "cell_type": "code",
   "execution_count": 17,
   "metadata": {},
   "outputs": [
    {
     "data": {
      "image/png": "[encoded data removed]",
      "text/plain": [
       "<Figure size 720x360 with 1 Axes>"
      ]
     },
     "metadata": {},
     "output_type": "display_data"
    }
   ],
   "source": [
    "sns.set_palette(\"Paired\")\n",
    "\n",
    "has_kids_yes = df[df[\"offspring\"] == True].groupby(\"age_group\")[\"abuse\"].mean().to_frame()\n",
    "has_kids_no = df[df[\"offspring\"] == False].groupby(\"age_group\")[\"abuse\"].mean().to_frame()\n",
    "has_kids = pd.concat([has_kids_yes, has_kids_no], axis=1)\n",
    "has_kids.columns = [\"with kids\", \"without kids\"]\n",
    "\n",
    "has_kids.plot.bar(figsize=(10,5))\n",
    "plt.ylabel(\"% of users with substance problem\")\n",
    "plt.xlabel(\"age group\")\n",
    "sns.despine()\n",
    "plt.show()"
   ]
  },
  {
   "cell_type": "markdown",
   "metadata": {},
   "source": [
    "Now I'm curious. Kids may not help prevent substance abuse with age, but what about pets?"
   ]
  },
  {
   "cell_type": "code",
   "execution_count": 18,
   "metadata": {},
   "outputs": [],
   "source": [
    "df.dropna(axis=0, subset=[\"pets\"], inplace=True)\n",
    "df['has_dogs'] = df['pets'].apply(lambda x: 1 if (\"has dogs\" in x) else 0)\n",
    "df['has_cats'] = df['pets'].apply(lambda x: 1 if (\"has cats\" in x) else 0)\n",
    "df['has_pets'] = df[['has_dogs', 'has_cats']].any(axis=1)"
   ]
  },
  {
   "cell_type": "code",
   "execution_count": 20,
   "metadata": {},
   "outputs": [
    {
     "data": {
      "image/png": "[encoded data removed]",
      "text/plain": [
       "<Figure size 720x360 with 1 Axes>"
      ]
     },
     "metadata": {},
     "output_type": "display_data"
    }
   ],
   "source": [
    "sns.set_palette(\"Paired\")\n",
    "has_cats = df[df[\"has_cats\"] == True].groupby(\"age_group\")[\"abuse\"].mean().to_frame()\n",
    "has_dogs = df[df[\"has_dogs\"] == True].groupby(\"age_group\")[\"abuse\"].mean().to_frame()\n",
    "has_none = df[df[\"has_pets\"] == False].groupby(\"age_group\")[\"abuse\"].mean().to_frame()\n",
    "has_pets = pd.concat([has_cats, has_dogs, has_none], axis=1)\n",
    "has_pets.columns = [\"cat owners\", \"dog owners\", \"no pets\"]\n",
    "\n",
    "has_pets.plot.bar(figsize=(10,5))\n",
    "plt.ylabel(\"% of users with substance problem\")\n",
    "plt.xlabel(\"age group\")\n",
    "sns.despine()\n",
    "plt.show()"
   ]
  },
  {
   "cell_type": "markdown",
   "metadata": {},
   "source": [
    "## 3) Does taking religion seriously help prevent substance abuse?"
   ]
  },
  {
   "cell_type": "markdown",
   "metadata": {},
   "source": [
    "The `religion` variable has several possible values plus a few modifiers (\"laughing about it, \"somewhat serious about it\", etc). I thought of creating a new variable out of these modifiers called `religious`, which is going to be 1 if `religion` is not atheism or agnosticism (for obvious reasons), and the `religion` modifier has the \"very serious about it\" modifier. "
   ]
  },
  {
   "cell_type": "code",
   "execution_count": null,
   "metadata": {},
   "outputs": [],
   "source": [
    "df.dropna(axis=0, subset=[\"religion\"], inplace=True)\n",
    "df['religious'] = df['religion'].apply(lambda x: 1 if \"very serious\" in x else 0)\n",
    "df['religious'] = ~df['religion'].isin([\"agnosticism\", \"atheism\"]) & df['religious'] == 1\n",
    "\n",
    "df['religion'].replace([\" and laughing about it\",\n",
    "                       \" and somewhat serious about it\",\n",
    "                       \" and very serious about it\",\n",
    "                       \" but not too serious about it\"], \"\", regex=True, inplace=True)"
   ]
  },
  {
   "cell_type": "code",
   "execution_count": null,
   "metadata": {
    "scrolled": true
   },
   "outputs": [],
   "source": [
    "sns.set_palette(\"Paired\")\n",
    "\n",
    "religious_yes = df[df[\"religious\"] == True].groupby(\"age_group\")[\"abuse\"].mean().to_frame()\n",
    "religious_no = df[df[\"religious\"] == False].groupby(\"age_group\")[\"abuse\"].mean().to_frame()\n",
    "religious = pd.concat([religious_yes, religious_no], axis=1)\n",
    "religious.columns = [\"takes religion seriously\", \"atheist or cool about it\"]\n",
    "\n",
    "religious.plot.bar(figsize=(10,5))\n",
    "plt.ylabel(\"% of users with substance problem\")\n",
    "plt.xlabel(\"age group\")\n",
    "sns.despine()\n",
    "plt.show()"
   ]
  },
  {
   "cell_type": "markdown",
   "metadata": {},
   "source": [
    "### Question #5 - Do healthy choices like not smoking and vegetarian diets correlate negatively with substance abuse?"
   ]
  },
  {
   "cell_type": "code",
   "execution_count": null,
   "metadata": {},
   "outputs": [],
   "source": [
    "df[\"smokes\"] = df[\"smokes\"].replace({\"yes\": 1,\n",
    "                                    \"sometimes\": 1,\n",
    "                                    \"when drinking\": 1,\n",
    "                                    \"trying to quit\": 1,\n",
    "                                    \"no\": 0})"
   ]
  },
  {
   "cell_type": "markdown",
   "metadata": {},
   "source": [
    "The \"diet\" variable has 6 possible values (anything, vegetarian, vegan, kosher, halal, and other) and 2 modifiers (mostly/strictly), which might create unnecessary dummy variables that won't add value to the model. So let's boil it down to diet type without the nuance."
   ]
  },
  {
   "cell_type": "code",
   "execution_count": null,
   "metadata": {},
   "outputs": [],
   "source": [
    "df.dropna(axis=0, subset=['diet'], inplace=True)\n",
    "df['vegetarian'] = df['diet'].apply(lambda x: 1 if (\"vegetarian\" in x) or (\"vegan\" in x) else 0)"
   ]
  },
  {
   "cell_type": "code",
   "execution_count": null,
   "metadata": {},
   "outputs": [],
   "source": [
    "sns.set_palette(\"crest\")\n",
    "\n",
    "vegetarian_yes = df[df[\"vegetarian\"] == True].groupby(\"age_group\")[\"abuse\"].mean().to_frame()\n",
    "vegetarian_no = df[df[\"vegetarian\"] == False].groupby(\"age_group\")[\"abuse\"].mean().to_frame()\n",
    "vegetarian = pd.concat([vegetarian_yes, vegetarian_no], axis=1)\n",
    "vegetarian.columns = [\"vegetarian\", \"not vegetarian\"]\n",
    "\n",
    "vegetarian.plot.bar(figsize=(10,5))\n",
    "plt.ylabel(\"% of users with substance problem\")\n",
    "plt.xlabel(\"age group\")\n",
    "sns.despine()\n",
    "plt.show()"
   ]
  },
  {
   "cell_type": "code",
   "execution_count": null,
   "metadata": {},
   "outputs": [],
   "source": [
    "sns.set_palette(\"rocket_r\", n_colors=2)\n",
    "\n",
    "smokes_yes = df[df[\"smokes\"] == True].groupby(\"age_group\")[\"abuse\"].mean().to_frame()\n",
    "smokes_no = df[df[\"smokes\"] == False].groupby(\"age_group\")[\"abuse\"].mean().to_frame()\n",
    "smokes = pd.concat([smokes_yes, smokes_no], axis=1)\n",
    "smokes.columns = [\"smoker\", \"non-smoker\"]\n",
    "\n",
    "smokes.plot.bar(figsize=(10,5))\n",
    "plt.ylabel(\"% of users with substance problem\")\n",
    "plt.xlabel(\"age group\")\n",
    "sns.despine()\n",
    "plt.show()"
   ]
  },
  {
   "cell_type": "code",
   "execution_count": 5,
   "metadata": {},
   "outputs": [],
   "source": [
    "df_useful = df[]"
   ]
  },
  {
   "cell_type": "markdown",
   "metadata": {},
   "source": [
    "## Exploratory analysis"
   ]
  },
  {
   "cell_type": "code",
   "execution_count": 11,
   "metadata": {},
   "outputs": [],
   "source": [
    "def create_dummy(df):\n",
    "    \"\"\"\n",
    "    Creates dummy variables for all the categorial variables in a DataFrame and concatenates it\n",
    "    with the original numerical columns.\n",
    "    Input: pandas DataFrame\n",
    "    Output: pandas DataFrame\n",
    "    \"\"\"\n",
    "    cat_cols = df.select_dtypes(include=\"object\").columns\n",
    "    num_cols = df.select_dtypes(exclude=\"object\").columns\n",
    "    dummy_df = pd.get_dummies(df[cat_cols],\n",
    "                              prefix=cat_cols,\n",
    "                              prefix_sep=\"_\",\n",
    "                              dummy_na=True,\n",
    "                              columns=cat_cols)\n",
    "                              \n",
    "    df_new = pd.concat([df[num_cols], dummy_df], axis=1)\n",
    "    return df_new"
   ]
  },
  {
   "cell_type": "code",
   "execution_count": 12,
   "metadata": {},
   "outputs": [],
   "source": [
    "df_dummy = pd.concat([create_dummy(df), df[['job', 'religion', 'status', 'education']], ], axis=1)"
   ]
  },
  {
   "cell_type": "code",
   "execution_count": 13,
   "metadata": {},
   "outputs": [],
   "source": [
    "sns.set_theme(style=\"whitegrid\")"
   ]
  },
  {
   "cell_type": "code",
   "execution_count": 119,
   "metadata": {},
   "outputs": [],
   "source": [
    "from sklearn.linear_model import LogisticRegression\n",
    "from sklearn.model_selection import train_test_split\n",
    "from sklearn.preprocessing import StandardScaler\n",
    "from sklearn.model_selection import StratifiedKFold\n",
    "from sklearn.ensemble import RandomForestClassifier\n",
    "from sklearn.metrics import precision_score, roc_auc_score\n",
    "from sklearn.utils import resample\n",
    "from sklearn.pipeline import make_pipeline"
   ]
  },
  {
   "cell_type": "code",
   "execution_count": 76,
   "metadata": {},
   "outputs": [],
   "source": [
    "model = make_pipeline(StandardScaler(), LogisticRegression(max_iter=200))\n",
    "\n",
    "y = df_dummy[\"abuse\"]\n",
    "X = df_dummy.drop(\"abuse\", axis=1)\n",
    "X.drop(['job',\n",
    "        'religion',\n",
    "        'status', \n",
    "        \"has_pets\",\n",
    "        \"alcohol_problem\", \n",
    "        \"drugs_problem\",\n",
    "        \"both_problems\",\n",
    "        \"alcohol_problem_only\",\n",
    "        \"drugs_problem_only\",\n",
    "        \"education\"], axis=1, inplace=True)\n",
    "\n",
    "X_train, X_test, y_train, y_test = train_test_split(X, y, test_size=0.2, random_state=42)\n",
    "\n",
    "\n",
    "# concatenate our training data back together\n",
    "X = pd.concat([pd.DataFrame(X_train), y_train], axis=1)\n",
    "\n",
    "# separate minority and majority classes\n",
    "not_abuse = X[X.abuse==0]\n",
    "abuse = X[X.abuse==1]\n",
    "\n",
    "# upsample minority\n",
    "abuse_upsampled = resample(abuse,\n",
    "                          replace=True, # sample with replacement\n",
    "                          n_samples=len(not_abuse), # match number in majority class\n",
    "                          random_state=42) # reproducible results\n",
    "\n",
    "# combine majority and upsampled minority\n",
    "upsampled = pd.concat([not_abuse, abuse_upsampled])\n",
    "\n",
    "y_train = upsampled.abuse\n",
    "X_train = upsampled.drop('abuse', axis=1)"
   ]
  },
  {
   "cell_type": "code",
   "execution_count": 77,
   "metadata": {},
   "outputs": [
    {
     "data": {
      "text/plain": [
       "Pipeline(steps=[('standardscaler', StandardScaler()),\n",
       "                ('logisticregression', LogisticRegression(max_iter=200))])"
      ]
     },
     "execution_count": 77,
     "metadata": {},
     "output_type": "execute_result"
    }
   ],
   "source": [
    "model.fit(X_train, y_train)"
   ]
  },
  {
   "cell_type": "code",
   "execution_count": 81,
   "metadata": {},
   "outputs": [],
   "source": [
    "coef_table = pd.DataFrame(model.named_steps[\"logisticregression\"].coef_[0], index=X_train.columns, columns=[\"coef\"])"
   ]
  },
  {
   "cell_type": "code",
   "execution_count": 135,
   "metadata": {},
   "outputs": [
    {
     "data": {
      "text/html": [
       "<div>\n",
       "<style scoped>\n",
       "    .dataframe tbody tr th:only-of-type {\n",
       "        vertical-align: middle;\n",
       "    }\n",
       "\n",
       "    .dataframe tbody tr th {\n",
       "        vertical-align: top;\n",
       "    }\n",
       "\n",
       "    .dataframe thead th {\n",
       "        text-align: right;\n",
       "    }\n",
       "</style>\n",
       "<table border=\"1\" class=\"dataframe\">\n",
       "  <thead>\n",
       "    <tr style=\"text-align: right;\">\n",
       "      <th></th>\n",
       "      <th>coef</th>\n",
       "    </tr>\n",
       "  </thead>\n",
       "  <tbody>\n",
       "    <tr>\n",
       "      <th>job_unemployed</th>\n",
       "      <td>0.040878</td>\n",
       "    </tr>\n",
       "    <tr>\n",
       "      <th>status_available</th>\n",
       "      <td>0.042761</td>\n",
       "    </tr>\n",
       "    <tr>\n",
       "      <th>job_artistic / musical / writer</th>\n",
       "      <td>0.047561</td>\n",
       "    </tr>\n",
       "    <tr>\n",
       "      <th>religion_hinduism</th>\n",
       "      <td>0.049310</td>\n",
       "    </tr>\n",
       "    <tr>\n",
       "      <th>body_type_rather not say</th>\n",
       "      <td>0.050172</td>\n",
       "    </tr>\n",
       "    <tr>\n",
       "      <th>job_construction / craftsmanship</th>\n",
       "      <td>0.052299</td>\n",
       "    </tr>\n",
       "    <tr>\n",
       "      <th>education_college/university</th>\n",
       "      <td>0.052865</td>\n",
       "    </tr>\n",
       "    <tr>\n",
       "      <th>education_graduated from high school</th>\n",
       "      <td>0.054320</td>\n",
       "    </tr>\n",
       "    <tr>\n",
       "      <th>education_working on law school</th>\n",
       "      <td>0.063536</td>\n",
       "    </tr>\n",
       "    <tr>\n",
       "      <th>sex_m</th>\n",
       "      <td>0.064808</td>\n",
       "    </tr>\n",
       "    <tr>\n",
       "      <th>education_graduated from med school</th>\n",
       "      <td>0.066554</td>\n",
       "    </tr>\n",
       "    <tr>\n",
       "      <th>education_working on college/university</th>\n",
       "      <td>0.067016</td>\n",
       "    </tr>\n",
       "    <tr>\n",
       "      <th>job_other</th>\n",
       "      <td>0.071445</td>\n",
       "    </tr>\n",
       "    <tr>\n",
       "      <th>education_two-year college</th>\n",
       "      <td>0.082040</td>\n",
       "    </tr>\n",
       "    <tr>\n",
       "      <th>body_type_skinny</th>\n",
       "      <td>0.083463</td>\n",
       "    </tr>\n",
       "    <tr>\n",
       "      <th>offspring</th>\n",
       "      <td>0.086577</td>\n",
       "    </tr>\n",
       "    <tr>\n",
       "      <th>education_working on ph.d program</th>\n",
       "      <td>0.086618</td>\n",
       "    </tr>\n",
       "    <tr>\n",
       "      <th>orientation_bisexual</th>\n",
       "      <td>0.086926</td>\n",
       "    </tr>\n",
       "    <tr>\n",
       "      <th>smokes_sometimes</th>\n",
       "      <td>0.087885</td>\n",
       "    </tr>\n",
       "    <tr>\n",
       "      <th>education_working on high school</th>\n",
       "      <td>0.089777</td>\n",
       "    </tr>\n",
       "    <tr>\n",
       "      <th>body_type_full figured</th>\n",
       "      <td>0.091602</td>\n",
       "    </tr>\n",
       "    <tr>\n",
       "      <th>smokes_when drinking</th>\n",
       "      <td>0.102399</td>\n",
       "    </tr>\n",
       "    <tr>\n",
       "      <th>education_working on space camp</th>\n",
       "      <td>0.110706</td>\n",
       "    </tr>\n",
       "    <tr>\n",
       "      <th>education_dropped out of space camp</th>\n",
       "      <td>0.115184</td>\n",
       "    </tr>\n",
       "    <tr>\n",
       "      <th>education_space camp</th>\n",
       "      <td>0.121790</td>\n",
       "    </tr>\n",
       "    <tr>\n",
       "      <th>job_executive / management</th>\n",
       "      <td>0.130083</td>\n",
       "    </tr>\n",
       "    <tr>\n",
       "      <th>education_dropped out of two-year college</th>\n",
       "      <td>0.132160</td>\n",
       "    </tr>\n",
       "    <tr>\n",
       "      <th>status_seeing someone</th>\n",
       "      <td>0.134278</td>\n",
       "    </tr>\n",
       "    <tr>\n",
       "      <th>has_cats</th>\n",
       "      <td>0.157200</td>\n",
       "    </tr>\n",
       "    <tr>\n",
       "      <th>vegetarian</th>\n",
       "      <td>0.163408</td>\n",
       "    </tr>\n",
       "    <tr>\n",
       "      <th>income</th>\n",
       "      <td>0.167255</td>\n",
       "    </tr>\n",
       "    <tr>\n",
       "      <th>job_law / legal services</th>\n",
       "      <td>0.174590</td>\n",
       "    </tr>\n",
       "    <tr>\n",
       "      <th>education_graduated from space camp</th>\n",
       "      <td>0.174645</td>\n",
       "    </tr>\n",
       "    <tr>\n",
       "      <th>body_type_jacked</th>\n",
       "      <td>0.177840</td>\n",
       "    </tr>\n",
       "    <tr>\n",
       "      <th>job_rather not say</th>\n",
       "      <td>0.183789</td>\n",
       "    </tr>\n",
       "    <tr>\n",
       "      <th>religion_islam</th>\n",
       "      <td>0.202552</td>\n",
       "    </tr>\n",
       "    <tr>\n",
       "      <th>religion_atheism</th>\n",
       "      <td>0.206763</td>\n",
       "    </tr>\n",
       "    <tr>\n",
       "      <th>religious</th>\n",
       "      <td>0.278215</td>\n",
       "    </tr>\n",
       "    <tr>\n",
       "      <th>body_type_used up</th>\n",
       "      <td>0.374283</td>\n",
       "    </tr>\n",
       "    <tr>\n",
       "      <th>smokes_yes</th>\n",
       "      <td>0.450898</td>\n",
       "    </tr>\n",
       "  </tbody>\n",
       "</table>\n",
       "</div>"
      ],
      "text/plain": [
       "                                               coef\n",
       "job_unemployed                             0.040878\n",
       "status_available                           0.042761\n",
       "job_artistic / musical / writer            0.047561\n",
       "religion_hinduism                          0.049310\n",
       "body_type_rather not say                   0.050172\n",
       "job_construction / craftsmanship           0.052299\n",
       "education_college/university               0.052865\n",
       "education_graduated from high school       0.054320\n",
       "education_working on law school            0.063536\n",
       "sex_m                                      0.064808\n",
       "education_graduated from med school        0.066554\n",
       "education_working on college/university    0.067016\n",
       "job_other                                  0.071445\n",
       "education_two-year college                 0.082040\n",
       "body_type_skinny                           0.083463\n",
       "offspring                                  0.086577\n",
       "education_working on ph.d program          0.086618\n",
       "orientation_bisexual                       0.086926\n",
       "smokes_sometimes                           0.087885\n",
       "education_working on high school           0.089777\n",
       "body_type_full figured                     0.091602\n",
       "smokes_when drinking                       0.102399\n",
       "education_working on space camp            0.110706\n",
       "education_dropped out of space camp        0.115184\n",
       "education_space camp                       0.121790\n",
       "job_executive / management                 0.130083\n",
       "education_dropped out of two-year college  0.132160\n",
       "status_seeing someone                      0.134278\n",
       "has_cats                                   0.157200\n",
       "vegetarian                                 0.163408\n",
       "income                                     0.167255\n",
       "job_law / legal services                   0.174590\n",
       "education_graduated from space camp        0.174645\n",
       "body_type_jacked                           0.177840\n",
       "job_rather not say                         0.183789\n",
       "religion_islam                             0.202552\n",
       "religion_atheism                           0.206763\n",
       "religious                                  0.278215\n",
       "body_type_used up                          0.374283\n",
       "smokes_yes                                 0.450898"
      ]
     },
     "execution_count": 135,
     "metadata": {},
     "output_type": "execute_result"
    }
   ],
   "source": [
    "coef_table.sort_values(\"coef\").tail(40)"
   ]
  },
  {
   "cell_type": "code",
   "execution_count": 142,
   "metadata": {},
   "outputs": [],
   "source": [
    "features = [\"smokes_yes\", \"religious\", \"age\", \"job_unemployed\",\n",
    "           ]"
   ]
  },
  {
   "cell_type": "code",
   "execution_count": 143,
   "metadata": {},
   "outputs": [
    {
     "data": {
      "text/plain": [
       "0.050505050505050504"
      ]
     },
     "execution_count": 143,
     "metadata": {},
     "output_type": "execute_result"
    }
   ],
   "source": [
    "model.fit(X_train[features], y_train)\n",
    "precision_score(y_test, model.predict(X_test[features]))"
   ]
  },
  {
   "cell_type": "code",
   "execution_count": 144,
   "metadata": {},
   "outputs": [
    {
     "data": {
      "text/plain": [
       "0.6456858950287415"
      ]
     },
     "execution_count": 144,
     "metadata": {},
     "output_type": "execute_result"
    }
   ],
   "source": [
    "roc_auc_score(y_test, model.predict(X_test[features]))"
   ]
  },
  {
   "cell_type": "code",
   "execution_count": null,
   "metadata": {},
   "outputs": [],
   "source": []
  }
 ],
 "metadata": {
  "kernelspec": {
   "display_name": "Python 3",
   "language": "python",
   "name": "python3"
  },
  "language_info": {
   "codemirror_mode": {
    "name": "ipython",
    "version": 3
   },
   "file_extension": ".py",
   "mimetype": "text/x-python",
   "name": "python",
   "nbconvert_exporter": "python",
   "pygments_lexer": "ipython3",
   "version": "3.9.2"
  }
 },
 "nbformat": 4,
 "nbformat_minor": 4
}
