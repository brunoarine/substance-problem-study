{
 "cells": [
  {
   "cell_type": "markdown",
   "metadata": {},
   "source": [
    "# The most common traits of substance abuse\n",
    "\n",
    "In 2017, nearly 20 million American adults (almost 7% of the population) battled a substance abuse problem, costing the US more than $740 billion annually in lost workplace productivity, healthcare expenses, and crime-related costs, according to the [American Addiction Centers](https://americanaddictioncenters.org/rehab-guide/addiction-statistics).\n",
    "\n",
    "Substance abuse has a cure, but many people are too ashamed to reach out for help, which makes the problem even harder to address.\n",
    "\n",
    "What if we could tell whether someone has a potential problem with drugs without asking them explicitly? Maybe we could look out for common traits among people who suffer with substance abuse problems and provide aid in advance. Organizations could target ad campaigns at the right people and right moment and increase their effectiveness.\n",
    "\n",
    "But what would these common traits be?\n",
    "\n",
    "## 1. Problem understanding\n",
    "\n",
    "This study will try to answer the following questions:\n",
    "\n",
    "1. Which age group shows the largest share of people with a possible substance problem? And which gender?\n",
    "\n",
    "2. Which kind of professional is more vulnerable to substance abuse?\n",
    "\n",
    "3. Are people with kids or partners less likely to have a substance problem?\n",
    "\n",
    "4. Are religious people less likely to have a substance problem?\n",
    "\n",
    "5. Does making healthy choices (e.g., not smoking or eating plant-based diets) correlate negatively with substance abuse?\n",
    "\n",
    "And last but not least, how accurately can we predict substance abuse with just this bunch of information?\n",
    "\n",
    "## 2. Data understanding\n",
    "\n",
    "To tackle the previous questions, I'm going to use the [OkCupid Profile Dataset](https://github.com/rudeboybert/JSE_OkCupid), a file containing answers from 60k users covering a number of topics; from marital status, job, and kids, to alcohol and drugs consumption.\n"
   ]
  },
  {
   "cell_type": "code",
   "execution_count": 87,
   "metadata": {},
   "outputs": [],
   "source": [
    "import pandas as pd\n",
    "import numpy as np\n",
    "import seaborn as sns\n",
    "import matplotlib.pyplot as plt\n",
    "from scipy.stats import chi2_contingency"
   ]
  },
  {
   "cell_type": "code",
   "execution_count": 45,
   "metadata": {},
   "outputs": [],
   "source": [
    "df = pd.read_csv(\"../data/profiles.csv\")"
   ]
  },
  {
   "cell_type": "markdown",
   "metadata": {},
   "source": [
    "### Selecting the useful variables\n",
    "\n",
    "These are the variables that will help me address the proposed questions:\n",
    "- diet\n",
    "- drinks\n",
    "- drugs\n",
    "- job\n",
    "- offspring\n",
    "- pets\n",
    "- religion\n",
    "- sex\n",
    "- smokes\n",
    "- status\n",
    "\n",
    "Let's ditch all the rest:\n",
    "\n",
    "- body_type\n",
    "- education\n",
    "- ethnicity\n",
    "- height\n",
    "- income\n",
    "- last_online\n",
    "- location\n",
    "- orientation\n",
    "- sign\n",
    "- speaks\n",
    "- essay from 0 to 9"
   ]
  },
  {
   "cell_type": "code",
   "execution_count": 46,
   "metadata": {},
   "outputs": [],
   "source": [
    "df.drop([\"body_type\", \"education\", \"ethnicity\", \"height\", \"income\", \"last_online\", \"location\", \"orientation\",\n",
    "        \"sign\", \"speaks\", \"essay0\", \"essay1\", \"essay2\", \"essay3\", \"essay4\", \"essay5\", \"essay6\",\n",
    "        \"essay7\", \"essay8\", \"essay9\"], axis=1, inplace=True)"
   ]
  },
  {
   "cell_type": "markdown",
   "metadata": {},
   "source": [
    "### Variable descriptions\n",
    "\n",
    "The following details are also provided in the dataset codebook.\n",
    "\n",
    "Missing data is blank. Some variables have two factors, which are denoted in this codebook by a semicolon (e.g. \"graduated from; two-year college) though they are found without punctuation in the dataset. Details for specific variables are found in parenthesis.\n",
    "\n",
    "**diet** - mostly/strictly; anything, vegetarian, vegan, kosher, halal, other\n",
    "\n",
    "**drinks** - very often, often, socially, rarely, desperately, not at all\n",
    "\n",
    "**drugs** - never, sometimes, often\n",
    "\n",
    "**job** - student, art/music/writing, banking/finance, administration, technology, construction, education, entertainment/media, management, hospitality, law, medicine, military, politics/government, sales/marketing, science/engineering, transportation, unemployed, other, rather not say, retire\n",
    "\n",
    "**offspring** - has a kid, has kids, doesnt have a kid, doesn't want kids; ,and/,but might want them, wants them, doesnt want any, doesnt want more\n",
    "\n",
    "**orientation** - straight, gay, bisexual\n",
    "\n",
    "**pets** - has dogs, likes dogs, dislikes dogs; and has cats, likes cats, dislikes cats\n",
    "\n",
    "**religion** - agnosticism, atheism, Christianity, Judaism, Catholicism, Islam, Hinduism, Buddhism, Other; and very serious about it, and somewhat serious about it, but not too serious about it, and laughing about it\n",
    "\n",
    "**sex** - m, f\n",
    "\n",
    "**smokes** - yes, sometimes, when drinking, trying to quit, no\n",
    "\n",
    "**status** - single, seeing someone, married, in an open relationship\n"
   ]
  },
  {
   "cell_type": "markdown",
   "metadata": {},
   "source": [
    "Let's check if the actual data type is the same as their description in the codebook."
   ]
  },
  {
   "cell_type": "code",
   "execution_count": 47,
   "metadata": {},
   "outputs": [
    {
     "name": "stdout",
     "output_type": "stream",
     "text": [
      "<class 'pandas.core.frame.DataFrame'>\n",
      "RangeIndex: 59946 entries, 0 to 59945\n",
      "Data columns (total 11 columns):\n",
      " #   Column     Non-Null Count  Dtype \n",
      "---  ------     --------------  ----- \n",
      " 0   age        59946 non-null  int64 \n",
      " 1   diet       35551 non-null  object\n",
      " 2   drinks     56961 non-null  object\n",
      " 3   drugs      45866 non-null  object\n",
      " 4   job        51748 non-null  object\n",
      " 5   offspring  24385 non-null  object\n",
      " 6   pets       40025 non-null  object\n",
      " 7   religion   39720 non-null  object\n",
      " 8   sex        59946 non-null  object\n",
      " 9   smokes     54434 non-null  object\n",
      " 10  status     59946 non-null  object\n",
      "dtypes: int64(1), object(10)\n",
      "memory usage: 5.0+ MB\n"
     ]
    }
   ],
   "source": [
    "df.info()"
   ]
  },
  {
   "cell_type": "markdown",
   "metadata": {},
   "source": [
    "### Missing values"
   ]
  },
  {
   "cell_type": "code",
   "execution_count": 48,
   "metadata": {},
   "outputs": [
    {
     "data": {
      "text/plain": [
       "age          0.000000\n",
       "diet         0.406950\n",
       "drinks       0.049795\n",
       "drugs        0.234878\n",
       "job          0.136756\n",
       "offspring    0.593217\n",
       "pets         0.332316\n",
       "religion     0.337404\n",
       "sex          0.000000\n",
       "smokes       0.091949\n",
       "status       0.000000\n",
       "dtype: float64"
      ]
     },
     "execution_count": 48,
     "metadata": {},
     "output_type": "execute_result"
    }
   ],
   "source": [
    "df.isnull().mean()"
   ]
  },
  {
   "cell_type": "markdown",
   "metadata": {},
   "source": [
    "The database has 60k rows, but there's a huge number of missing values, especially in the `offspring` column. People have their own personal reasons not to answer a survey, like taboo or fear of exposition. That makes it a MNAR (Missing Not At Random) scenario, which is quite difficult to handle. I'm not a huge fan of imputing the missing values with estimates in this case (even with multivariate methods like KNN) because doing so will likely create some sort of bias. Dropping all missing values at once will drastically reduce statistical power, but I think it's the most prudent thing to do in this case."
   ]
  },
  {
   "cell_type": "code",
   "execution_count": 49,
   "metadata": {},
   "outputs": [],
   "source": [
    "df.dropna(axis=0, inplace=True)"
   ]
  },
  {
   "cell_type": "markdown",
   "metadata": {},
   "source": [
    "## 3. Preparing the data"
   ]
  },
  {
   "cell_type": "markdown",
   "metadata": {},
   "source": [
    "### Defining and creating the target variable\n",
    "\n",
    "First, we need to clearly define what substance abuse is. According to [Wikipedia](https://en.wikipedia.org/wiki/Substance_abuse):\n",
    "\n",
    "> Substance abuse, also known as drug abuse, is use of a drug in amounts or by methods which are harmful to the individual or others. (...) Drugs most often associated with this term include: alcohol, amphetamines, barbiturates, benzodiazepines, cannabis, cocaine, hallucinogens, methaqualone, and opioids.\n",
    "\n",
    "The OkCupid dataset isn't precise in terms of which drugs its users consume, but it gives us a few clues about quantity: \n",
    "\n",
    "- The `drinks` variable has 6 possible values: very often, often, socially, rarely, desperately, not at all\n",
    "- The `drugs` variable has 3 possible values: never, sometimes, often\n",
    "\n",
    "I'm going to assume that users who drink \"very often\", or use drugs \"often\" are likely candidates for the group of users with a substance problem. I dismissed \"desperately\" entries because this sounds more like an answer to signal you're cool.\n",
    "\n",
    "I'm going to name it as `abuse`, and convert the possible values of `drinks` and `drugs` the variables `alcohol_problem`, `drugs_problem`, and `both_problems`, which will either be 0 or 1. "
   ]
  },
  {
   "cell_type": "code",
   "execution_count": 50,
   "metadata": {},
   "outputs": [],
   "source": [
    "# Not considering the \"desperately\" entries improved the model accuracy at the end of this notebook,\n",
    "# which kinda proves my point.\n",
    "\n",
    "# Creates alcohol_problem column with values:\n",
    "# 1 if drinks = \"very often\"\n",
    "# 0 if anything else\n",
    "df[\"alcohol_problem\"] = df['drinks'].apply(lambda x: 1 if (x==\"very often\") else 0)\n",
    "df.drop(\"drinks\", axis=1, inplace=True)\n",
    "\n",
    "# Creates drugs_problem column with values:\n",
    "# 1 if drinks = \"often\"\n",
    "# 0 if anything else\n",
    "df[\"drugs_problem\"] = df['drugs'].apply(lambda x: 1 if (x==\"often\") else 0)\n",
    "df.drop(\"drugs\", axis=1, inplace=True)\n",
    "\n",
    "# Users have an abuse problem (abuse = 1) if they have either an alcohol or drug abuse problem;\n",
    "# variable has int dtype to conform with the other columns, though Python won't really care\n",
    "df['abuse'] = (df['alcohol_problem'] | df['drugs_problem']).astype(int)"
   ]
  },
  {
   "cell_type": "code",
   "execution_count": 51,
   "metadata": {},
   "outputs": [
    {
     "data": {
      "text/plain": [
       "0.01323564169227133"
      ]
     },
     "execution_count": 51,
     "metadata": {},
     "output_type": "execute_result"
    }
   ],
   "source": [
    "df[\"alcohol_problem\"].mean()"
   ]
  },
  {
   "cell_type": "markdown",
   "metadata": {},
   "source": [
    "A user may have a drug abuse problem, an alcohol abuse problem, or both. I want to discriminate each so that I can make a stacked bar plot at the analysis section."
   ]
  },
  {
   "cell_type": "code",
   "execution_count": 52,
   "metadata": {},
   "outputs": [],
   "source": [
    "df['both_problems'] = (df[\"drugs_problem\"] & df[\"alcohol_problem\"]).astype(int)\n",
    "df['alcohol_problem_only'] = (df['alcohol_problem'] & ~df['drugs_problem']).astype(int)\n",
    "df['drugs_problem_only'] = (~df['alcohol_problem'] & df['drugs_problem']).astype(int)\n"
   ]
  },
  {
   "cell_type": "markdown",
   "metadata": {},
   "source": [
    "### Age "
   ]
  },
  {
   "cell_type": "markdown",
   "metadata": {},
   "source": [
    "Several populational traits have a potentially strong correlation with age (e.g. having kids). Therefore I want to create a variable called `age_group` so that I can assess whether my hypotheses hold for all ages when analyzing the plots."
   ]
  },
  {
   "cell_type": "code",
   "execution_count": 53,
   "metadata": {},
   "outputs": [],
   "source": [
    "df[\"age_group\"] = pd.cut(df['age'], bins=[18,25,30,40,100], labels=[\"18 to 24\",\n",
    "                                                                  \"25 to 29\",\n",
    "                                                                  \"30 to 39\",\n",
    "                                                                  \"40+\"])"
   ]
  },
  {
   "cell_type": "markdown",
   "metadata": {},
   "source": [
    "The age groups values were decided so that each bin contained roughly the same number of users."
   ]
  },
  {
   "cell_type": "code",
   "execution_count": 54,
   "metadata": {},
   "outputs": [
    {
     "data": {
      "text/plain": [
       "30 to 39    2212\n",
       "25 to 29    2120\n",
       "40+         2026\n",
       "18 to 24    2025\n",
       "Name: age_group, dtype: int64"
      ]
     },
     "execution_count": 54,
     "metadata": {},
     "output_type": "execute_result"
    }
   ],
   "source": [
    "df[\"age_group\"].value_counts()"
   ]
  },
  {
   "cell_type": "markdown",
   "metadata": {},
   "source": [
    "### Gender"
   ]
  },
  {
   "cell_type": "code",
   "execution_count": 55,
   "metadata": {},
   "outputs": [],
   "source": [
    "# Creates a female variable, so that gender can be either 0 or 1 to maintain the same format as\n",
    "# the other variables\n",
    "df[\"female\"] = df[\"sex\"].replace({\"m\": 0, \"f\": 1})"
   ]
  },
  {
   "cell_type": "markdown",
   "metadata": {},
   "source": [
    "### Status"
   ]
  },
  {
   "cell_type": "markdown",
   "metadata": {},
   "source": [
    "According to the `okcupid_codebook.txt` file, the possible values of `status` are single, seeing someone, married, and in an open relationship. I'll replace the value \"available\" with the latter since it's more explainative."
   ]
  },
  {
   "cell_type": "code",
   "execution_count": 56,
   "metadata": {},
   "outputs": [],
   "source": [
    "df[\"status\"] = df[\"status\"].replace({\"available\": \"in an open relationship\"})"
   ]
  },
  {
   "cell_type": "markdown",
   "metadata": {},
   "source": [
    "### Offspring "
   ]
  },
  {
   "cell_type": "markdown",
   "metadata": {},
   "source": [
    "Whoever said that \"doesn't have kids\" (and might or might not want them), or simply \"wants kids\" will have the offspring variable set to zero, while everything else will be replaced with ones."
   ]
  },
  {
   "cell_type": "code",
   "execution_count": 57,
   "metadata": {},
   "outputs": [],
   "source": [
    "df['offspring'].replace(['doesn&rsquo;t have kids',\n",
    "                         'doesn&rsquo;t have kids, and doesn&rsquo;t want any',\n",
    "                         'doesn&rsquo;t have kids, but might want them',\n",
    "                         'doesn&rsquo;t have kids, but wants them',\n",
    "                         'might want kids',\n",
    "                         'doesn&rsquo;t want kids',\n",
    "                         'wants kids'], 0, inplace=True)\n",
    "\n",
    "df['offspring'].replace(['has a kid',\n",
    "                         'has a kid, and might want more',\n",
    "                         'has a kid, and wants more',\n",
    "                         'has a kid, but doesn&rsquo;t want more',\n",
    "                         'has kids',\n",
    "                         'has kids, and might want more',\n",
    "                         'has kids, and wants more',\n",
    "                         'has kids, but doesn&rsquo;t want more',], 1, inplace=True)"
   ]
  },
  {
   "cell_type": "markdown",
   "metadata": {},
   "source": [
    "### Pets "
   ]
  },
  {
   "cell_type": "code",
   "execution_count": 58,
   "metadata": {},
   "outputs": [],
   "source": [
    "df['has_dogs'] = df['pets'].apply(lambda x: 1 if (\"has dogs\" in x) else 0).astype(int)\n",
    "df['has_cats'] = df['pets'].apply(lambda x: 1 if (\"has cats\" in x) else 0).astype(int)\n",
    "\n",
    "# has_pets = 1 when user either has a dog or a cat\n",
    "df['has_pets'] = df[['has_dogs', 'has_cats']].any(axis=1).astype(int)"
   ]
  },
  {
   "cell_type": "markdown",
   "metadata": {},
   "source": [
    "### Religion \n",
    "\n",
    "The `religion` variable has several possible values plus a few modifiers (\"laughing about it, \"somewhat serious about it\", etc). I thought of creating a new variable out of these modifiers called `religious`, which is going to be 1 if `religion` is not atheism or agnosticism (for obvious reasons), and the `religion` modifier has the \"very serious about it\" modifier. "
   ]
  },
  {
   "cell_type": "code",
   "execution_count": 59,
   "metadata": {},
   "outputs": [],
   "source": [
    "df.dropna(axis=0, subset=[\"religion\"], inplace=True)\n",
    "df['religious'] = df['religion'].apply(lambda x: 1 if \"very serious\" in x else 0)\n",
    "df['religious'] = ~df['religion'].isin([\"agnosticism\", \"atheism\"]) & df['religious'] == 1\n",
    "\n",
    "df['religion'].replace([\" and laughing about it\",\n",
    "                       \" and somewhat serious about it\",\n",
    "                       \" and very serious about it\",\n",
    "                       \" but not too serious about it\"], \"\", regex=True, inplace=True)"
   ]
  },
  {
   "cell_type": "markdown",
   "metadata": {},
   "source": [
    "### Healthy variables"
   ]
  },
  {
   "cell_type": "code",
   "execution_count": 60,
   "metadata": {},
   "outputs": [],
   "source": [
    "df[\"smokes\"] = df[\"smokes\"].replace({\"yes\": 1,\n",
    "                                    \"sometimes\": 1,\n",
    "                                    \"when drinking\": 1,\n",
    "                                    \"trying to quit\": 1,\n",
    "                                    \"no\": 0})"
   ]
  },
  {
   "cell_type": "markdown",
   "metadata": {},
   "source": [
    "The \"diet\" variable has 6 possible values (anything, vegetarian, vegan, kosher, halal, and other) and 2 modifiers (mostly/strictly), which might create unnecessary dummy variables that won't add value to the model. So let's boil it down to diet type without the nuance."
   ]
  },
  {
   "cell_type": "code",
   "execution_count": 61,
   "metadata": {},
   "outputs": [],
   "source": [
    "df['vegetarian'] = df['diet'].apply(lambda x: 1 if (\"vegetarian\" in x) or (\"vegan\" in x) else 0)"
   ]
  },
  {
   "cell_type": "markdown",
   "metadata": {},
   "source": [
    "## Summary\n",
    "\n",
    "After the data transforming:"
   ]
  },
  {
   "cell_type": "code",
   "execution_count": 62,
   "metadata": {},
   "outputs": [
    {
     "name": "stdout",
     "output_type": "stream",
     "text": [
      "<class 'pandas.core.frame.DataFrame'>\n",
      "Int64Index: 8462 entries, 0 to 59944\n",
      "Data columns (total 22 columns):\n",
      " #   Column                Non-Null Count  Dtype   \n",
      "---  ------                --------------  -----   \n",
      " 0   age                   8462 non-null   int64   \n",
      " 1   diet                  8462 non-null   object  \n",
      " 2   job                   8462 non-null   object  \n",
      " 3   offspring             8462 non-null   int64   \n",
      " 4   pets                  8462 non-null   object  \n",
      " 5   religion              8462 non-null   object  \n",
      " 6   sex                   8462 non-null   object  \n",
      " 7   smokes                8462 non-null   int64   \n",
      " 8   status                8462 non-null   object  \n",
      " 9   alcohol_problem       8462 non-null   int64   \n",
      " 10  drugs_problem         8462 non-null   int64   \n",
      " 11  abuse                 8462 non-null   int64   \n",
      " 12  both_problems         8462 non-null   int64   \n",
      " 13  alcohol_problem_only  8462 non-null   int64   \n",
      " 14  drugs_problem_only    8462 non-null   int64   \n",
      " 15  age_group             8383 non-null   category\n",
      " 16  female                8462 non-null   int64   \n",
      " 17  has_dogs              8462 non-null   int64   \n",
      " 18  has_cats              8462 non-null   int64   \n",
      " 19  has_pets              8462 non-null   int64   \n",
      " 20  religious             8462 non-null   bool    \n",
      " 21  vegetarian            8462 non-null   int64   \n",
      "dtypes: bool(1), category(1), int64(14), object(6)\n",
      "memory usage: 1.4+ MB\n"
     ]
    }
   ],
   "source": [
    "df.info()"
   ]
  },
  {
   "cell_type": "markdown",
   "metadata": {},
   "source": [
    "## 4. Results (Evaluation)"
   ]
  },
  {
   "cell_type": "markdown",
   "metadata": {},
   "source": [
    "Auxiliary functions:"
   ]
  },
  {
   "cell_type": "code",
   "execution_count": 106,
   "metadata": {},
   "outputs": [],
   "source": [
    "def vert_barplot(df, bars, label, groupby, title=None, color=None, figsize=(10,5)):\n",
    "    \"\"\"\n",
    "    Groups the DataFrame by a specified label (like \"age_group), and plots a pretty bar chart\n",
    "    with custom parameters.\n",
    "    \n",
    "    Parameters\n",
    "    ----------\n",
    "    \n",
    "    df : DataFrame\n",
    "    bars : list of tuples\n",
    "        Contains pairs of columns labels and values to be plotted.\n",
    "        Example: [(\"offspring\", 0), (\"offspring, 1\")]\n",
    "    groupby : str\n",
    "        Column label by which the DataFrame is going to be grouped\n",
    "    title : str\n",
    "        x-axis label\n",
    "    color : list\n",
    "        List of colors to be passed to the plotting method.\n",
    "    figsize : tuple\n",
    "        Figure size\n",
    "    \"\"\"\n",
    "    \n",
    "    table_mean = []\n",
    "    table_sum = []\n",
    "    for i in range(len(bars)):\n",
    "        col_name = bars[i][0]\n",
    "        col_value = bars[i][1]\n",
    "        table_mean.append(df[df[col_name] == col_value]\n",
    "                                .groupby(groupby)[\"abuse\"]\n",
    "                                .mean()\n",
    "                                .to_frame())\n",
    "#         table_sum.append(df[df[col_name] == col_value]\n",
    "#                                 .groupby(groupby)[\"abuse\"]\n",
    "#                                 .sum()\n",
    "#                                 .to_frame())\n",
    "    table_p = pd.concat(table_mean, axis=1)\n",
    "#    table_n = pd.concat(table_sum, axis=1)\n",
    "    \n",
    "    z = 1.65\n",
    "#     table_error = z*np.sqrt(table_p*(1-table_p)/table_n) * 100\n",
    "    table_percent = table_p * 100  # percentages should be multiplied by 100\n",
    "    \n",
    "    fig, ax = plt.subplots()\n",
    "    \n",
    "    table_percent.columns = label\n",
    "#     table_error.columns = label\n",
    "    plot = table_percent.plot.bar(ax=ax, figsize=figsize,\n",
    "                           color=color,\n",
    "                           rot=0,\n",
    "#                            yerr=table_error,\n",
    "                           capsize=0,\n",
    "                           error_kw=dict(ecolor='black', elinewidth=0.5, lolims=True))\n",
    "    for ch in plot.get_children():\n",
    "        # this is silly, but it appears that the first Line in the children are the caplines...\n",
    "        # see more: https://stackoverflow.com/questions/45204202/pandas-bar-plot-error-bar\n",
    "        if str(ch).startswith('Line2D'): \n",
    "            ch.set_marker('_')\n",
    "            ch.set_markersize(10) # to change its size\n",
    "    plt.ylabel(\"% of users with substance problem\")\n",
    "    plt.xlabel(title)\n",
    "    sns.despine()\n",
    "    plt.show()"
   ]
  },
  {
   "cell_type": "code",
   "execution_count": 96,
   "metadata": {
    "scrolled": true
   },
   "outputs": [
    {
     "data": {
      "text/plain": [
       "0    8259\n",
       "1     203\n",
       "Name: abuse, dtype: int64"
      ]
     },
     "execution_count": 96,
     "metadata": {},
     "output_type": "execute_result"
    }
   ],
   "source": [
    "df[\"abuse\"].value_counts()"
   ]
  },
  {
   "cell_type": "markdown",
   "metadata": {},
   "source": [
    "Less than 3% of the users in this dataset have a probable substance problem. This is a specially imbalanced dataset, so any attempts to predict an outcome will likely be impacted. Techniques to deal with it can be found at the end of the document."
   ]
  },
  {
   "cell_type": "markdown",
   "metadata": {},
   "source": [
    "### Question #1 - Which age group shows the largest percentage of people with a possible substance addiction problem? And does substance abuse disproportionately affect any gender?"
   ]
  },
  {
   "cell_type": "code",
   "execution_count": 107,
   "metadata": {},
   "outputs": [
    {
     "data": {
      "image/png": "[encoded data removed]",
      "text/plain": [
       "<Figure size 720x360 with 1 Axes>"
      ]
     },
     "metadata": {
      "needs_background": "light"
     },
     "output_type": "display_data"
    }
   ],
   "source": [
    "gender_colors = sns.color_palette(\"colorblind\").as_hex()\n",
    "color=[gender_colors[0], gender_colors[4]]\n",
    "vert_barplot(df=df,\n",
    "             bars=[(\"female\", 0), (\"female\", 1)],\n",
    "             label=[\"male\", \"female\"],\n",
    "             groupby=\"age_group\",\n",
    "             title=\"age group\",\n",
    "             color=color)"
   ]
  },
  {
   "cell_type": "code",
   "execution_count": 92,
   "metadata": {},
   "outputs": [
    {
     "data": {
      "text/plain": [
       "0.0005573223177977707"
      ]
     },
     "execution_count": 92,
     "metadata": {},
     "output_type": "execute_result"
    }
   ],
   "source": [
    "c, p, dof, expected = chi2_contingency(pd.crosstab(df['female'], df['abuse'],)) # Print the p-value\n",
    "p"
   ]
  },
  {
   "cell_type": "markdown",
   "metadata": {},
   "source": [
    "### Question #2 - Which kind profession is more vulnerable to substance abuse?"
   ]
  },
  {
   "cell_type": "code",
   "execution_count": 66,
   "metadata": {},
   "outputs": [
    {
     "data": {
      "image/png": "[encoded data removed]",
      "text/plain": [
       "<Figure size 720x720 with 1 Axes>"
      ]
     },
     "metadata": {
      "needs_background": "light"
     },
     "output_type": "display_data"
    }
   ],
   "source": [
    "sns.set_palette(\"rocket_r\")\n",
    "\n",
    "jobs_stacked = df.groupby(\"job\").mean()[['alcohol_problem_only',\n",
    "                                               'drugs_problem_only',\n",
    "                                               'both_problems',\n",
    "                                               'abuse']].sort_values('abuse')*100\n",
    "jobs_stacked.drop('abuse', axis=1, inplace=True)\n",
    "jobs_stacked.plot(kind='barh', stacked=True, figsize=(10,10), width=0.75, linewidth=0)\n",
    "plt.ylabel(\"\")\n",
    "plt.xlabel(\"% of users with possible substance problems\")\n",
    "plt.gca().invert_yaxis()\n",
    "plt.legend(loc='upper center', bbox_to_anchor=(0.5, 1.05),\n",
    "          ncol=3, fancybox=True, shadow=True)\n",
    "sns.despine()\n",
    "plt.show()"
   ]
  },
  {
   "cell_type": "markdown",
   "metadata": {},
   "source": [
    "### Question #3 - Are people with kids or partners less likely to have a substance abuse problem?\n"
   ]
  },
  {
   "cell_type": "code",
   "execution_count": 67,
   "metadata": {},
   "outputs": [
    {
     "data": {
      "image/png": "[encoded data removed]",
      "text/plain": [
       "<Figure size 720x360 with 1 Axes>"
      ]
     },
     "metadata": {
      "needs_background": "light"
     },
     "output_type": "display_data"
    }
   ],
   "source": [
    "sns.set_palette(\"rocket_r\")\n",
    "\n",
    "status_stacked = df.groupby(\"status\").mean()[['alcohol_problem_only',\n",
    "                                               'drugs_problem_only',\n",
    "                                               'both_problems',\n",
    "                                               'abuse']].sort_values('abuse')*100\n",
    "status_stacked.drop('abuse', axis=1, inplace=True)\n",
    "status_stacked.plot(kind='barh', stacked=True, figsize=(10,5), width=0.5, linewidth=0)\n",
    "plt.ylabel(\"\")\n",
    "plt.xlabel(\"% of users with possible substance problems\")\n",
    "plt.gca().invert_yaxis()\n",
    "plt.legend(loc='upper center', bbox_to_anchor=(0.5, 1.05),\n",
    "          ncol=3, fancybox=True, shadow=True)\n",
    "sns.despine()\n",
    "plt.show()"
   ]
  },
  {
   "cell_type": "markdown",
   "metadata": {},
   "source": [
    "There's also the problem of colinearity with age. Young adults are much less likely to have kids, and that will impact the outcome of the correlation study with substance abuse. It would be more reasonable to observe differences by age groups."
   ]
  },
  {
   "cell_type": "code",
   "execution_count": 68,
   "metadata": {},
   "outputs": [
    {
     "data": {
      "text/html": [
       "<div>\n",
       "<style scoped>\n",
       "    .dataframe tbody tr th:only-of-type {\n",
       "        vertical-align: middle;\n",
       "    }\n",
       "\n",
       "    .dataframe tbody tr th {\n",
       "        vertical-align: top;\n",
       "    }\n",
       "\n",
       "    .dataframe thead th {\n",
       "        text-align: right;\n",
       "    }\n",
       "</style>\n",
       "<table border=\"1\" class=\"dataframe\">\n",
       "  <thead>\n",
       "    <tr style=\"text-align: right;\">\n",
       "      <th></th>\n",
       "      <th>no. of users</th>\n",
       "      <th>percentage without kids</th>\n",
       "    </tr>\n",
       "    <tr>\n",
       "      <th>age group</th>\n",
       "      <th></th>\n",
       "      <th></th>\n",
       "    </tr>\n",
       "  </thead>\n",
       "  <tbody>\n",
       "    <tr>\n",
       "      <th>18 to 24</th>\n",
       "      <td>2025</td>\n",
       "      <td>97.086420</td>\n",
       "    </tr>\n",
       "    <tr>\n",
       "      <th>25 to 29</th>\n",
       "      <td>2120</td>\n",
       "      <td>96.603774</td>\n",
       "    </tr>\n",
       "    <tr>\n",
       "      <th>30 to 39</th>\n",
       "      <td>2212</td>\n",
       "      <td>85.940325</td>\n",
       "    </tr>\n",
       "    <tr>\n",
       "      <th>40+</th>\n",
       "      <td>2026</td>\n",
       "      <td>46.989141</td>\n",
       "    </tr>\n",
       "  </tbody>\n",
       "</table>\n",
       "</div>"
      ],
      "text/plain": [
       "           no. of users  percentage without kids\n",
       "age group                                       \n",
       "18 to 24           2025                97.086420\n",
       "25 to 29           2120                96.603774\n",
       "30 to 39           2212                85.940325\n",
       "40+                2026                46.989141"
      ]
     },
     "execution_count": 68,
     "metadata": {},
     "output_type": "execute_result"
    }
   ],
   "source": [
    "table_offspring = pd.concat([df[\"age_group\"].value_counts(), (1-df.groupby(\"age_group\")[\"offspring\"].mean())*100], axis=1)\n",
    "table_offspring.columns = [\"no. of users\", \"percentage without kids\"]\n",
    "table_offspring.index.rename(\"age group\", inplace=True)\n",
    "table_offspring"
   ]
  },
  {
   "cell_type": "code",
   "execution_count": 69,
   "metadata": {},
   "outputs": [
    {
     "data": {
      "image/png": "[encoded data removed]",
      "text/plain": [
       "<Figure size 720x360 with 1 Axes>"
      ]
     },
     "metadata": {
      "needs_background": "light"
     },
     "output_type": "display_data"
    }
   ],
   "source": [
    "vert_barplot(df=df,\n",
    "             bars=[(\"offspring\", 1), (\"offspring\",0)], \n",
    "             label=[\"with kids\", \"without kids\"],\n",
    "             groupby=\"age_group\",\n",
    "             title=\"age group\",\n",
    "             color=sns.color_palette(\"Paired\"))"
   ]
  },
  {
   "cell_type": "code",
   "execution_count": 70,
   "metadata": {},
   "outputs": [
    {
     "data": {
      "image/png": "[encoded data removed]",
      "text/plain": [
       "<Figure size 720x360 with 1 Axes>"
      ]
     },
     "metadata": {
      "needs_background": "light"
     },
     "output_type": "display_data"
    }
   ],
   "source": [
    "vert_barplot(df=df,\n",
    "             bars=[(\"has_cats\", 1), (\"has_dogs\",0), (\"has_pets\", 0)], \n",
    "             label=[\"cat owners\", \"dog owners\", \"no pets\"],\n",
    "             groupby=\"age_group\",\n",
    "             title=\"age group\",\n",
    "             color=sns.color_palette(\"Paired\"))"
   ]
  },
  {
   "cell_type": "markdown",
   "metadata": {},
   "source": [
    "### Question #4 - Are religious people less likely to have a substance abuse problem?"
   ]
  },
  {
   "cell_type": "code",
   "execution_count": 71,
   "metadata": {},
   "outputs": [
    {
     "data": {
      "image/png": "[encoded data removed]",
      "text/plain": [
       "<Figure size 720x360 with 1 Axes>"
      ]
     },
     "metadata": {
      "needs_background": "light"
     },
     "output_type": "display_data"
    }
   ],
   "source": [
    "vert_barplot(df=df,\n",
    "             bars=[(\"religious\", 1), (\"religious\",0)], \n",
    "             label=[\"takes religion seriously\", \"atheist or cool about it\"],\n",
    "             groupby=\"age_group\",\n",
    "             title=\"age group\",\n",
    "             color=sns.color_palette(\"Paired\"))"
   ]
  },
  {
   "cell_type": "markdown",
   "metadata": {},
   "source": [
    "### Question #5 - Does making healthy choices (e.g., not smoking or eating plant-based diets) correlate negatively with substance abuse?"
   ]
  },
  {
   "cell_type": "code",
   "execution_count": 72,
   "metadata": {},
   "outputs": [
    {
     "data": {
      "image/png": "[encoded data removed]",
      "text/plain": [
       "<Figure size 720x360 with 1 Axes>"
      ]
     },
     "metadata": {
      "needs_background": "light"
     },
     "output_type": "display_data"
    }
   ],
   "source": [
    "palette = sns.color_palette(\"colorblind\").as_hex()\n",
    "color = [palette[2], palette[1]]\n",
    "vert_barplot(df=df,\n",
    "             bars=[(\"vegetarian\", 1), (\"vegetarian\",0)], \n",
    "             label=[\"vegetarian\", \"non-vegetarian\"],\n",
    "             groupby=\"age_group\",\n",
    "             title=\"age group\",\n",
    "             color=color)"
   ]
  },
  {
   "cell_type": "code",
   "execution_count": 73,
   "metadata": {},
   "outputs": [
    {
     "data": {
      "image/png": "[encoded data removed]",
      "text/plain": [
       "<Figure size 720x360 with 1 Axes>"
      ]
     },
     "metadata": {
      "needs_background": "light"
     },
     "output_type": "display_data"
    }
   ],
   "source": [
    "vert_barplot(df=df,\n",
    "             bars=[(\"smokes\", 1), (\"smokes\",0)], \n",
    "             label=[\"smoker\", \"non-smoker\"],\n",
    "             groupby=\"age_group\",\n",
    "             title=\"age group\",\n",
    "             color=sns.color_palette(\"rocket_r\", n_colors=2))"
   ]
  },
  {
   "cell_type": "markdown",
   "metadata": {},
   "source": [
    "### Model evaluation"
   ]
  },
  {
   "cell_type": "markdown",
   "metadata": {},
   "source": [
    "Let's clear up all unused columns."
   ]
  },
  {
   "cell_type": "code",
   "execution_count": 74,
   "metadata": {},
   "outputs": [],
   "source": [
    "df[\"unemployed\"] = (df[\"job\"] == \"unemployed\") | (df[\"job\"] == \"rather not say\")\n",
    "df[\"married\"] = df[\"status\"] == \"married\""
   ]
  },
  {
   "cell_type": "code",
   "execution_count": 75,
   "metadata": {},
   "outputs": [],
   "source": [
    "df_useful = df.drop([\"diet\",\"pets\",\"religion\",\"age_group\", \"alcohol_problem\",\n",
    "                    \"alcohol_problem_only\", \"drugs_problem\", \"drugs_problem_only\",\n",
    "                    \"both_problems\", \"has_pets\", \"job\", \"status\", \"sex\"], axis=1)"
   ]
  },
  {
   "cell_type": "markdown",
   "metadata": {},
   "source": [
    "There are a few categorical variables remaining. Let's transform them into dummy variables."
   ]
  },
  {
   "cell_type": "code",
   "execution_count": 76,
   "metadata": {},
   "outputs": [
    {
     "data": {
      "text/plain": [
       "age           int64\n",
       "offspring     int64\n",
       "smokes        int64\n",
       "abuse         int64\n",
       "female        int64\n",
       "has_dogs      int64\n",
       "has_cats      int64\n",
       "religious      bool\n",
       "vegetarian    int64\n",
       "unemployed     bool\n",
       "married        bool\n",
       "dtype: object"
      ]
     },
     "execution_count": 76,
     "metadata": {},
     "output_type": "execute_result"
    }
   ],
   "source": [
    "df_useful.dtypes"
   ]
  },
  {
   "cell_type": "code",
   "execution_count": 77,
   "metadata": {},
   "outputs": [],
   "source": [
    "from sklearn.linear_model import LogisticRegression\n",
    "from sklearn.model_selection import train_test_split\n",
    "from sklearn.preprocessing import StandardScaler\n",
    "from sklearn.metrics import precision_score, roc_auc_score, f1_score, recall_score, plot_roc_curve\n",
    "from sklearn.utils import resample\n",
    "from sklearn.pipeline import make_pipeline"
   ]
  },
  {
   "cell_type": "markdown",
   "metadata": {},
   "source": [
    "To ensure convergence, I'm going to create a pipeline and pre-treat the data with StandardScaler."
   ]
  },
  {
   "cell_type": "code",
   "execution_count": 78,
   "metadata": {},
   "outputs": [],
   "source": [
    "model = make_pipeline(StandardScaler(), LogisticRegression())\n",
    "\n",
    "y = df_useful[\"abuse\"]\n",
    "X = df_useful.drop([\"abuse\"], axis=1)\n",
    "\n",
    "X_train, X_test, y_train, y_test = train_test_split(X, y, test_size=0.2, random_state=42)\n",
    "\n"
   ]
  },
  {
   "cell_type": "markdown",
   "metadata": {},
   "source": [
    "Our dataset is severely imbalanced and all attempts to train the model will be impacted unless we deal with it first. I decided to upsample the training set, which means randomly replicating positive cases until we have 50/50 classes."
   ]
  },
  {
   "cell_type": "code",
   "execution_count": 79,
   "metadata": {},
   "outputs": [],
   "source": [
    "# concatenate our training data back together\n",
    "df_train = pd.concat([X_train, y_train], axis=1)\n",
    "\n",
    "# separate minority and majority classes\n",
    "not_abuse = df_train[df_train[\"abuse\"] == 0]\n",
    "abuse =  df_train[df_train[\"abuse\"] == 1]\n",
    "\n",
    "# upsample minority\n",
    "abuse_upsampled = resample(abuse,\n",
    "                          replace=True, # sample with replacement\n",
    "                          n_samples=len(not_abuse), # match number in majority class\n",
    "                          random_state=42) # reproducible results\n",
    "\n",
    "# combine majority and upsampled minority\n",
    "upsampled = pd.concat([not_abuse, abuse_upsampled])\n",
    "\n",
    "y_train = upsampled.abuse\n",
    "X_train = upsampled.drop('abuse', axis=1)"
   ]
  },
  {
   "cell_type": "code",
   "execution_count": 80,
   "metadata": {},
   "outputs": [
    {
     "data": {
      "text/plain": [
       "Pipeline(steps=[('standardscaler', StandardScaler()),\n",
       "                ('logisticregression', LogisticRegression())])"
      ]
     },
     "execution_count": 80,
     "metadata": {},
     "output_type": "execute_result"
    }
   ],
   "source": [
    "model.fit(X_train, y_train)"
   ]
  },
  {
   "cell_type": "code",
   "execution_count": 81,
   "metadata": {},
   "outputs": [
    {
     "data": {
      "text/html": [
       "<div>\n",
       "<style scoped>\n",
       "    .dataframe tbody tr th:only-of-type {\n",
       "        vertical-align: middle;\n",
       "    }\n",
       "\n",
       "    .dataframe tbody tr th {\n",
       "        vertical-align: top;\n",
       "    }\n",
       "\n",
       "    .dataframe thead th {\n",
       "        text-align: right;\n",
       "    }\n",
       "</style>\n",
       "<table border=\"1\" class=\"dataframe\">\n",
       "  <thead>\n",
       "    <tr style=\"text-align: right;\">\n",
       "      <th></th>\n",
       "      <th>coef</th>\n",
       "    </tr>\n",
       "  </thead>\n",
       "  <tbody>\n",
       "    <tr>\n",
       "      <th>age</th>\n",
       "      <td>-0.515595</td>\n",
       "    </tr>\n",
       "    <tr>\n",
       "      <th>offspring</th>\n",
       "      <td>0.047919</td>\n",
       "    </tr>\n",
       "    <tr>\n",
       "      <th>smokes</th>\n",
       "      <td>0.794454</td>\n",
       "    </tr>\n",
       "    <tr>\n",
       "      <th>female</th>\n",
       "      <td>-0.247888</td>\n",
       "    </tr>\n",
       "    <tr>\n",
       "      <th>has_dogs</th>\n",
       "      <td>-0.045085</td>\n",
       "    </tr>\n",
       "    <tr>\n",
       "      <th>has_cats</th>\n",
       "      <td>0.325116</td>\n",
       "    </tr>\n",
       "    <tr>\n",
       "      <th>religious</th>\n",
       "      <td>0.390841</td>\n",
       "    </tr>\n",
       "    <tr>\n",
       "      <th>vegetarian</th>\n",
       "      <td>0.018743</td>\n",
       "    </tr>\n",
       "    <tr>\n",
       "      <th>unemployed</th>\n",
       "      <td>0.333458</td>\n",
       "    </tr>\n",
       "    <tr>\n",
       "      <th>married</th>\n",
       "      <td>-0.419006</td>\n",
       "    </tr>\n",
       "  </tbody>\n",
       "</table>\n",
       "</div>"
      ],
      "text/plain": [
       "                coef\n",
       "age        -0.515595\n",
       "offspring   0.047919\n",
       "smokes      0.794454\n",
       "female     -0.247888\n",
       "has_dogs   -0.045085\n",
       "has_cats    0.325116\n",
       "religious   0.390841\n",
       "vegetarian  0.018743\n",
       "unemployed  0.333458\n",
       "married    -0.419006"
      ]
     },
     "execution_count": 81,
     "metadata": {},
     "output_type": "execute_result"
    }
   ],
   "source": [
    "coef_table = pd.DataFrame(model.named_steps[\"logisticregression\"].coef_[0], index=X_train.columns, columns=[\"coef\"])\n",
    "coef_table"
   ]
  },
  {
   "cell_type": "code",
   "execution_count": 82,
   "metadata": {},
   "outputs": [
    {
     "data": {
      "image/png": "[encoded data removed]",
      "text/plain": [
       "<Figure size 720x360 with 1 Axes>"
      ]
     },
     "metadata": {
      "needs_background": "light"
     },
     "output_type": "display_data"
    }
   ],
   "source": [
    "palette = sns.color_palette(\"colorblind\").as_hex()\n",
    "colors = [palette[3] if x < 0 else palette[2] for x in coef_table.values]\n",
    "pos = np.arange(len(coef_table))\n",
    "plt.figure(figsize=(10,5))\n",
    "plt.barh(pos, coef_table[\"coef\"], color=colors)\n",
    "plt.yticks(pos, coef_table.index)\n",
    "plt.axvline(x=0, color='.2')\n",
    "sns.despine()"
   ]
  },
  {
   "cell_type": "code",
   "execution_count": 83,
   "metadata": {},
   "outputs": [
    {
     "name": "stdout",
     "output_type": "stream",
     "text": [
      "Accuracy: 0.7784997046662729\n",
      "Recall: 0.825\n",
      "F1 Score: 0.14965986394557823\n",
      "ROC AUC: 0.8011872353297035\n"
     ]
    }
   ],
   "source": [
    "print(\"Accuracy:\",model.score(X_test, y_test))\n",
    "print(\"Recall:\",recall_score(y_test, model.predict(X_test)))\n",
    "print(\"F1 Score:\",f1_score(y_test, model.predict(X_test)))\n",
    "print(\"ROC AUC:\",roc_auc_score(y_test, model.predict(X_test)))"
   ]
  },
  {
   "cell_type": "code",
   "execution_count": 84,
   "metadata": {},
   "outputs": [
    {
     "data": {
      "text/plain": [
       "<sklearn.metrics._plot.roc_curve.RocCurveDisplay at 0x7fa1fd528af0>"
      ]
     },
     "execution_count": 84,
     "metadata": {},
     "output_type": "execute_result"
    },
    {
     "data": {
      "image/png": "[encoded data removed]",
      "text/plain": [
       "<Figure size 432x288 with 1 Axes>"
      ]
     },
     "metadata": {
      "needs_background": "light"
     },
     "output_type": "display_data"
    }
   ],
   "source": [
    "plot_roc_curve(model, X_test, y_test)"
   ]
  },
  {
   "cell_type": "code",
   "execution_count": 85,
   "metadata": {},
   "outputs": [
    {
     "name": "stdout",
     "output_type": "stream",
     "text": [
      "Recall: 0.82\n"
     ]
    }
   ],
   "source": [
    "print(\"Recall: {:.2f}\".format(recall_score(y_test, model.predict(X_test))))"
   ]
  },
  {
   "cell_type": "code",
   "execution_count": 86,
   "metadata": {
    "scrolled": false
   },
   "outputs": [
    {
     "data": {
      "text/plain": [
       "0.7773744706594071"
      ]
     },
     "execution_count": 86,
     "metadata": {},
     "output_type": "execute_result"
    }
   ],
   "source": [
    "(y_test == model.predict(X_test))[y_test == 0].mean()"
   ]
  }
 ],
 "metadata": {
  "kernelspec": {
   "display_name": "Python 3",
   "language": "python",
   "name": "python3"
  },
  "language_info": {
   "codemirror_mode": {
    "name": "ipython",
    "version": 3
   },
   "file_extension": ".py",
   "mimetype": "text/x-python",
   "name": "python",
   "nbconvert_exporter": "python",
   "pygments_lexer": "ipython3",
   "version": "3.9.2"
  }
 },
 "nbformat": 4,
 "nbformat_minor": 4
}
