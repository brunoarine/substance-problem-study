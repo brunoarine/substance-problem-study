{
 "cells": [
  {
   "cell_type": "code",
   "execution_count": 1,
   "metadata": {},
   "outputs": [],
   "source": [
    "import pandas as pd\n",
    "import numpy as np"
   ]
  },
  {
   "cell_type": "code",
   "execution_count": 2,
   "metadata": {},
   "outputs": [],
   "source": [
    "df = pd.read_csv(\"../data/profiles.csv\")"
   ]
  },
  {
   "cell_type": "markdown",
   "metadata": {},
   "source": [
    "First, let's drop all the columns we won't use."
   ]
  },
  {
   "cell_type": "code",
   "execution_count": 3,
   "metadata": {},
   "outputs": [],
   "source": [
    "df.drop(['last_online'], axis=1, inplace=True)\n",
    "df.drop([f\"essay{n}\" for n in np.arange(0,10)], axis=1, inplace=True)"
   ]
  },
  {
   "cell_type": "markdown",
   "metadata": {},
   "source": [
    "The \"diet\" variable has 6 possible cuisines (anything, vegetarian, vegan, kosher, halal, and other) and 2 changers (mostly/strictly), which might create unnecessary dummy variables that won't add value to the model. So let's boil it down to diet type without the nuance."
   ]
  },
  {
   "cell_type": "code",
   "execution_count": 4,
   "metadata": {},
   "outputs": [
    {
     "data": {
      "text/plain": [
       "0          anything\n",
       "1             other\n",
       "2          anything\n",
       "3        vegetarian\n",
       "4               NaN\n",
       "            ...    \n",
       "59941           NaN\n",
       "59942      anything\n",
       "59943      anything\n",
       "59944      anything\n",
       "59945           NaN\n",
       "Name: diet, Length: 59946, dtype: object"
      ]
     },
     "execution_count": 4,
     "metadata": {},
     "output_type": "execute_result"
    }
   ],
   "source": [
    "df['diet'].replace([\"mostly \", \"strictly \"], \"\", regex=True, inplace=True)\n",
    "df['diet']"
   ]
  },
  {
   "cell_type": "markdown",
   "metadata": {},
   "source": [
    "The same goes for the `language` variable. There are 3 modifiers for a multitude of languages. The permutation between all possible values will generate thousands of unnecessary columns. Let's just keep the languages."
   ]
  },
  {
   "cell_type": "code",
   "execution_count": 5,
   "metadata": {},
   "outputs": [
    {
     "data": {
      "text/plain": [
       "0                                            english\n",
       "1                           english, spanish, french\n",
       "2                               english, french, c++\n",
       "3                                    english, german\n",
       "4                                            english\n",
       "                            ...                     \n",
       "59941                                        english\n",
       "59942                                        english\n",
       "59943                                        english\n",
       "59944    english, spanish, chinese, korean, japanese\n",
       "59945                                        english\n",
       "Name: speaks, Length: 59946, dtype: object"
      ]
     },
     "execution_count": 5,
     "metadata": {},
     "output_type": "execute_result"
    }
   ],
   "source": [
    "df['speaks'].replace([\" \\(fluently\\)\", \" \\(okay\\)\", \" \\(poorly\\)\"], \"\", regex=True, inplace=True)\n",
    "df[\"speaks\"]"
   ]
  },
  {
   "cell_type": "markdown",
   "metadata": {},
   "source": [
    "But filtering out the language modifiers isn't enough. There's only one column for all the user's spoken languages, whose combination might generate a dozen thousands dummy variables. Therefore, each `speaks` value should be parsed and gain a dummy variable of its own."
   ]
  },
  {
   "cell_type": "code",
   "execution_count": 6,
   "metadata": {},
   "outputs": [],
   "source": [
    "def convert_speak_col(df):\n",
    "    lang_spoken = df['speaks'].str.split(pat=\", \", expand=True)\n",
    "    # see https://stackoverflow.com/questions/26977076/pandas-unique-values-multiple-columns \n",
    "    lang_columns = pd.unique(lang_spoken.values.ravel('K'))\n",
    "    table_shape = (df.shape[0], len(lang_columns))\n",
    "    lang_table = pd.DataFrame(np.zeros(table_shape, dtype=\"int\"),\n",
    "                              columns=[f\"speaks_{lang}\" for lang in lang_columns])\n",
    "    for index,row in lang_spoken.iterrows():\n",
    "        for item in row:\n",
    "            lang_table.at[index, f\"speaks_{item}\"] = 1\n",
    "   \n",
    "    lang_table.drop([\"speaks_None\"], axis=1, inplace=True)\n",
    "    df_no_speak = df.drop(\"speaks\", axis=1)\n",
    "    return pd.concat([df_no_speak, lang_table], axis=1)\n",
    "\n",
    "df_spoken_langs = convert_speak_col(df)"
   ]
  },
  {
   "cell_type": "code",
   "execution_count": 7,
   "metadata": {},
   "outputs": [],
   "source": [
    "def create_dummy(df):\n",
    "    \"\"\"\n",
    "    Creates dummy variables for all the categorial variables in a DataFrame and concatenates it\n",
    "    with the original numerical columns.\n",
    "    Input: pandas DataFrame\n",
    "    Output: pandas DataFrame\n",
    "    \"\"\"\n",
    "    cat_cols = df.select_dtypes(include=\"object\").columns\n",
    "    num_cols = df.select_dtypes(exclude=\"object\").columns\n",
    "    dummy_df = pd.get_dummies(df[cat_cols],\n",
    "                              prefix=cat_cols,\n",
    "                              prefix_sep=\"_\",\n",
    "                              dummy_na=True,\n",
    "                              columns=cat_cols)\n",
    "                              \n",
    "    df_new = pd.concat([df[num_cols], dummy_df], axis=1)\n",
    "    return df_new"
   ]
  },
  {
   "cell_type": "code",
   "execution_count": 8,
   "metadata": {},
   "outputs": [
    {
     "data": {
      "text/html": [
       "<div>\n",
       "<style scoped>\n",
       "    .dataframe tbody tr th:only-of-type {\n",
       "        vertical-align: middle;\n",
       "    }\n",
       "\n",
       "    .dataframe tbody tr th {\n",
       "        vertical-align: top;\n",
       "    }\n",
       "\n",
       "    .dataframe thead th {\n",
       "        text-align: right;\n",
       "    }\n",
       "</style>\n",
       "<table border=\"1\" class=\"dataframe\">\n",
       "  <thead>\n",
       "    <tr style=\"text-align: right;\">\n",
       "      <th></th>\n",
       "      <th>age</th>\n",
       "      <th>height</th>\n",
       "      <th>income</th>\n",
       "      <th>speaks_english</th>\n",
       "      <th>speaks_nan</th>\n",
       "      <th>speaks_afrikaans</th>\n",
       "      <th>speaks_french</th>\n",
       "      <th>speaks_portuguese</th>\n",
       "      <th>speaks_spanish</th>\n",
       "      <th>speaks_german</th>\n",
       "      <th>...</th>\n",
       "      <th>smokes_trying to quit</th>\n",
       "      <th>smokes_when drinking</th>\n",
       "      <th>smokes_yes</th>\n",
       "      <th>smokes_nan</th>\n",
       "      <th>status_available</th>\n",
       "      <th>status_married</th>\n",
       "      <th>status_seeing someone</th>\n",
       "      <th>status_single</th>\n",
       "      <th>status_unknown</th>\n",
       "      <th>status_nan</th>\n",
       "    </tr>\n",
       "  </thead>\n",
       "  <tbody>\n",
       "    <tr>\n",
       "      <th>0</th>\n",
       "      <td>22</td>\n",
       "      <td>75.0</td>\n",
       "      <td>-1</td>\n",
       "      <td>1</td>\n",
       "      <td>0</td>\n",
       "      <td>0</td>\n",
       "      <td>0</td>\n",
       "      <td>0</td>\n",
       "      <td>0</td>\n",
       "      <td>0</td>\n",
       "      <td>...</td>\n",
       "      <td>0</td>\n",
       "      <td>0</td>\n",
       "      <td>0</td>\n",
       "      <td>0</td>\n",
       "      <td>0</td>\n",
       "      <td>0</td>\n",
       "      <td>0</td>\n",
       "      <td>1</td>\n",
       "      <td>0</td>\n",
       "      <td>0</td>\n",
       "    </tr>\n",
       "    <tr>\n",
       "      <th>1</th>\n",
       "      <td>35</td>\n",
       "      <td>70.0</td>\n",
       "      <td>80000</td>\n",
       "      <td>1</td>\n",
       "      <td>0</td>\n",
       "      <td>0</td>\n",
       "      <td>1</td>\n",
       "      <td>0</td>\n",
       "      <td>1</td>\n",
       "      <td>0</td>\n",
       "      <td>...</td>\n",
       "      <td>0</td>\n",
       "      <td>0</td>\n",
       "      <td>0</td>\n",
       "      <td>0</td>\n",
       "      <td>0</td>\n",
       "      <td>0</td>\n",
       "      <td>0</td>\n",
       "      <td>1</td>\n",
       "      <td>0</td>\n",
       "      <td>0</td>\n",
       "    </tr>\n",
       "    <tr>\n",
       "      <th>2</th>\n",
       "      <td>38</td>\n",
       "      <td>68.0</td>\n",
       "      <td>-1</td>\n",
       "      <td>1</td>\n",
       "      <td>0</td>\n",
       "      <td>0</td>\n",
       "      <td>1</td>\n",
       "      <td>0</td>\n",
       "      <td>0</td>\n",
       "      <td>0</td>\n",
       "      <td>...</td>\n",
       "      <td>0</td>\n",
       "      <td>0</td>\n",
       "      <td>0</td>\n",
       "      <td>0</td>\n",
       "      <td>1</td>\n",
       "      <td>0</td>\n",
       "      <td>0</td>\n",
       "      <td>0</td>\n",
       "      <td>0</td>\n",
       "      <td>0</td>\n",
       "    </tr>\n",
       "    <tr>\n",
       "      <th>3</th>\n",
       "      <td>23</td>\n",
       "      <td>71.0</td>\n",
       "      <td>20000</td>\n",
       "      <td>1</td>\n",
       "      <td>0</td>\n",
       "      <td>0</td>\n",
       "      <td>0</td>\n",
       "      <td>0</td>\n",
       "      <td>0</td>\n",
       "      <td>1</td>\n",
       "      <td>...</td>\n",
       "      <td>0</td>\n",
       "      <td>0</td>\n",
       "      <td>0</td>\n",
       "      <td>0</td>\n",
       "      <td>0</td>\n",
       "      <td>0</td>\n",
       "      <td>0</td>\n",
       "      <td>1</td>\n",
       "      <td>0</td>\n",
       "      <td>0</td>\n",
       "    </tr>\n",
       "    <tr>\n",
       "      <th>4</th>\n",
       "      <td>29</td>\n",
       "      <td>66.0</td>\n",
       "      <td>-1</td>\n",
       "      <td>1</td>\n",
       "      <td>0</td>\n",
       "      <td>0</td>\n",
       "      <td>0</td>\n",
       "      <td>0</td>\n",
       "      <td>0</td>\n",
       "      <td>0</td>\n",
       "      <td>...</td>\n",
       "      <td>0</td>\n",
       "      <td>0</td>\n",
       "      <td>0</td>\n",
       "      <td>0</td>\n",
       "      <td>0</td>\n",
       "      <td>0</td>\n",
       "      <td>0</td>\n",
       "      <td>1</td>\n",
       "      <td>0</td>\n",
       "      <td>0</td>\n",
       "    </tr>\n",
       "  </tbody>\n",
       "</table>\n",
       "<p>5 rows × 731 columns</p>\n",
       "</div>"
      ],
      "text/plain": [
       "   age  height  income  speaks_english  speaks_nan  speaks_afrikaans  \\\n",
       "0   22    75.0      -1               1           0                 0   \n",
       "1   35    70.0   80000               1           0                 0   \n",
       "2   38    68.0      -1               1           0                 0   \n",
       "3   23    71.0   20000               1           0                 0   \n",
       "4   29    66.0      -1               1           0                 0   \n",
       "\n",
       "   speaks_french  speaks_portuguese  speaks_spanish  speaks_german  ...  \\\n",
       "0              0                  0               0              0  ...   \n",
       "1              1                  0               1              0  ...   \n",
       "2              1                  0               0              0  ...   \n",
       "3              0                  0               0              1  ...   \n",
       "4              0                  0               0              0  ...   \n",
       "\n",
       "   smokes_trying to quit  smokes_when drinking  smokes_yes  smokes_nan  \\\n",
       "0                      0                     0           0           0   \n",
       "1                      0                     0           0           0   \n",
       "2                      0                     0           0           0   \n",
       "3                      0                     0           0           0   \n",
       "4                      0                     0           0           0   \n",
       "\n",
       "   status_available  status_married  status_seeing someone  status_single  \\\n",
       "0                 0               0                      0              1   \n",
       "1                 0               0                      0              1   \n",
       "2                 1               0                      0              0   \n",
       "3                 0               0                      0              1   \n",
       "4                 0               0                      0              1   \n",
       "\n",
       "   status_unknown  status_nan  \n",
       "0               0           0  \n",
       "1               0           0  \n",
       "2               0           0  \n",
       "3               0           0  \n",
       "4               0           0  \n",
       "\n",
       "[5 rows x 731 columns]"
      ]
     },
     "execution_count": 8,
     "metadata": {},
     "output_type": "execute_result"
    }
   ],
   "source": [
    "df_dummies = create_dummy(df_spoken_langs)\n",
    "df_dummies.head()"
   ]
  },
  {
   "cell_type": "code",
   "execution_count": 11,
   "metadata": {},
   "outputs": [
    {
     "name": "stdout",
     "output_type": "stream",
     "text": [
      "['age', 'height', 'income', 'speaks_english', 'speaks_nan', 'speaks_afrikaans', 'speaks_french', 'speaks_portuguese', 'speaks_spanish', 'speaks_german', 'speaks_chinese', 'speaks_sign language', 'speaks_c++', 'speaks_tagalog', 'speaks_other', 'speaks_russian', 'speaks_dutch', 'speaks_indonesian', 'speaks_swedish', 'speaks_belarusan', 'speaks_japanese', 'speaks_farsi', 'speaks_italian', 'speaks_hindi', 'speaks_polish', 'speaks_korean', 'speaks_czech', 'speaks_croatian', 'speaks_vietnamese', 'speaks_esperanto', 'speaks_latin', 'speaks_greek', 'speaks_norwegian', 'speaks_hebrew', 'speaks_arabic', 'speaks_tibetan', 'speaks_georgian', 'speaks_thai', 'speaks_swahili', 'speaks_khmer', 'speaks_turkish', 'speaks_tamil', 'speaks_lisp', 'speaks_serbian', 'speaks_sanskrit', 'speaks_bengali', 'speaks_catalan', 'speaks_hungarian', 'speaks_irish', 'speaks_urdu', 'speaks_romanian', 'speaks_finnish', 'speaks_bulgarian', 'speaks_ancient greek', 'speaks_yiddish', 'speaks_hawaiian', 'speaks_lithuanian', 'speaks_cebuano', 'speaks_persian', 'speaks_maori', 'speaks_danish', 'speaks_gujarati', 'speaks_albanian', 'speaks_frisian', 'speaks_ilongo', 'speaks_icelandic', 'speaks_slovenian', 'speaks_latvian', 'speaks_occitan', 'speaks_malay', 'speaks_mongolian', 'speaks_rotuman', 'speaks_slovak', 'speaks_ukrainian', 'speaks_armenian', 'speaks_estonian', 'speaks_chechen', 'speaks_welsh', 'speaks_basque', 'speaks_breton', 'speaks_sardinian', 'body_type_a little extra', 'body_type_athletic', 'body_type_average', 'body_type_curvy', 'body_type_fit', 'body_type_full figured', 'body_type_jacked', 'body_type_overweight', 'body_type_rather not say', 'body_type_skinny', 'body_type_thin', 'body_type_used up', 'body_type_nan', 'diet_anything', 'diet_halal', 'diet_kosher', 'diet_other', 'diet_vegan', 'diet_vegetarian', 'diet_nan', 'drinks_desperately', 'drinks_not at all', 'drinks_often', 'drinks_rarely', 'drinks_socially', 'drinks_very often', 'drinks_nan', 'drugs_never', 'drugs_often', 'drugs_sometimes', 'drugs_nan', 'education_college/university', 'education_dropped out of college/university', 'education_dropped out of high school', 'education_dropped out of law school', 'education_dropped out of masters program', 'education_dropped out of med school', 'education_dropped out of ph.d program', 'education_dropped out of space camp', 'education_dropped out of two-year college', 'education_graduated from college/university', 'education_graduated from high school', 'education_graduated from law school', 'education_graduated from masters program', 'education_graduated from med school', 'education_graduated from ph.d program', 'education_graduated from space camp', 'education_graduated from two-year college', 'education_high school', 'education_law school', 'education_masters program', 'education_med school', 'education_ph.d program', 'education_space camp', 'education_two-year college', 'education_working on college/university', 'education_working on high school', 'education_working on law school', 'education_working on masters program', 'education_working on med school', 'education_working on ph.d program', 'education_working on space camp', 'education_working on two-year college', 'education_nan', 'ethnicity_asian', 'ethnicity_asian, black', 'ethnicity_asian, black, hispanic / latin', 'ethnicity_asian, black, hispanic / latin, other', 'ethnicity_asian, black, hispanic / latin, white', 'ethnicity_asian, black, hispanic / latin, white, other', 'ethnicity_asian, black, indian', 'ethnicity_asian, black, indian, hispanic / latin, other', 'ethnicity_asian, black, native american', 'ethnicity_asian, black, native american, hispanic / latin', 'ethnicity_asian, black, native american, hispanic / latin, white', 'ethnicity_asian, black, native american, indian', 'ethnicity_asian, black, native american, indian, hispanic / latin, white, other', 'ethnicity_asian, black, native american, indian, pacific islander, hispanic / latin', 'ethnicity_asian, black, native american, indian, pacific islander, white', 'ethnicity_asian, black, native american, other', 'ethnicity_asian, black, native american, pacific islander', 'ethnicity_asian, black, native american, pacific islander, other', 'ethnicity_asian, black, native american, pacific islander, white', 'ethnicity_asian, black, native american, pacific islander, white, other', 'ethnicity_asian, black, native american, white', 'ethnicity_asian, black, native american, white, other', 'ethnicity_asian, black, other', 'ethnicity_asian, black, pacific islander', 'ethnicity_asian, black, pacific islander, hispanic / latin', 'ethnicity_asian, black, pacific islander, hispanic / latin, white', 'ethnicity_asian, black, pacific islander, other', 'ethnicity_asian, black, pacific islander, white', 'ethnicity_asian, black, pacific islander, white, other', 'ethnicity_asian, black, white', 'ethnicity_asian, black, white, other', 'ethnicity_asian, hispanic / latin', 'ethnicity_asian, hispanic / latin, other', 'ethnicity_asian, hispanic / latin, white', 'ethnicity_asian, hispanic / latin, white, other', 'ethnicity_asian, indian', 'ethnicity_asian, indian, hispanic / latin', 'ethnicity_asian, indian, hispanic / latin, other', 'ethnicity_asian, indian, hispanic / latin, white', 'ethnicity_asian, indian, other', 'ethnicity_asian, indian, pacific islander', 'ethnicity_asian, indian, pacific islander, hispanic / latin, white, other', 'ethnicity_asian, indian, pacific islander, other', 'ethnicity_asian, indian, white', 'ethnicity_asian, indian, white, other', 'ethnicity_asian, middle eastern', 'ethnicity_asian, middle eastern, black', 'ethnicity_asian, middle eastern, black, indian, pacific islander, hispanic / latin, white', 'ethnicity_asian, middle eastern, black, native american, hispanic / latin, white', 'ethnicity_asian, middle eastern, black, native american, indian, pacific islander, hispanic / latin', 'ethnicity_asian, middle eastern, black, native american, indian, pacific islander, hispanic / latin, other', 'ethnicity_asian, middle eastern, black, native american, indian, pacific islander, hispanic / latin, white', 'ethnicity_asian, middle eastern, black, native american, indian, pacific islander, hispanic / latin, white, other', 'ethnicity_asian, middle eastern, black, native american, indian, pacific islander, white', 'ethnicity_asian, middle eastern, black, native american, pacific islander, hispanic / latin, white, other', 'ethnicity_asian, middle eastern, black, pacific islander', 'ethnicity_asian, middle eastern, black, pacific islander, hispanic / latin', 'ethnicity_asian, middle eastern, black, pacific islander, hispanic / latin, white', 'ethnicity_asian, middle eastern, black, white, other', 'ethnicity_asian, middle eastern, hispanic / latin', 'ethnicity_asian, middle eastern, hispanic / latin, white', 'ethnicity_asian, middle eastern, hispanic / latin, white, other', 'ethnicity_asian, middle eastern, indian', 'ethnicity_asian, middle eastern, indian, hispanic / latin', 'ethnicity_asian, middle eastern, indian, hispanic / latin, white, other', 'ethnicity_asian, middle eastern, indian, other', 'ethnicity_asian, middle eastern, native american, hispanic / latin, white', 'ethnicity_asian, middle eastern, native american, indian, pacific islander, hispanic / latin, white', 'ethnicity_asian, middle eastern, native american, pacific islander, hispanic / latin, white, other', 'ethnicity_asian, middle eastern, native american, pacific islander, other', 'ethnicity_asian, middle eastern, native american, pacific islander, white, other', 'ethnicity_asian, middle eastern, other', 'ethnicity_asian, middle eastern, white', 'ethnicity_asian, middle eastern, white, other', 'ethnicity_asian, native american', 'ethnicity_asian, native american, hispanic / latin', 'ethnicity_asian, native american, hispanic / latin, other', 'ethnicity_asian, native american, hispanic / latin, white', 'ethnicity_asian, native american, hispanic / latin, white, other', 'ethnicity_asian, native american, indian, pacific islander, hispanic / latin, white', 'ethnicity_asian, native american, indian, pacific islander, hispanic / latin, white, other', 'ethnicity_asian, native american, other', 'ethnicity_asian, native american, pacific islander', 'ethnicity_asian, native american, pacific islander, hispanic / latin, white', 'ethnicity_asian, native american, pacific islander, hispanic / latin, white, other', 'ethnicity_asian, native american, pacific islander, white', 'ethnicity_asian, native american, pacific islander, white, other', 'ethnicity_asian, native american, white', 'ethnicity_asian, native american, white, other', 'ethnicity_asian, other', 'ethnicity_asian, pacific islander', 'ethnicity_asian, pacific islander, hispanic / latin', 'ethnicity_asian, pacific islander, hispanic / latin, other', 'ethnicity_asian, pacific islander, hispanic / latin, white', 'ethnicity_asian, pacific islander, hispanic / latin, white, other', 'ethnicity_asian, pacific islander, other', 'ethnicity_asian, pacific islander, white', 'ethnicity_asian, pacific islander, white, other', 'ethnicity_asian, white', 'ethnicity_asian, white, other', 'ethnicity_black', 'ethnicity_black, hispanic / latin', 'ethnicity_black, hispanic / latin, other', 'ethnicity_black, hispanic / latin, white', 'ethnicity_black, hispanic / latin, white, other', 'ethnicity_black, indian', 'ethnicity_black, indian, hispanic / latin', 'ethnicity_black, indian, hispanic / latin, white', 'ethnicity_black, indian, other', 'ethnicity_black, indian, white', 'ethnicity_black, indian, white, other', 'ethnicity_black, native american', 'ethnicity_black, native american, hispanic / latin', 'ethnicity_black, native american, hispanic / latin, other', 'ethnicity_black, native american, hispanic / latin, white', 'ethnicity_black, native american, hispanic / latin, white, other', 'ethnicity_black, native american, indian', 'ethnicity_black, native american, indian, hispanic / latin, white, other', 'ethnicity_black, native american, indian, other', 'ethnicity_black, native american, indian, pacific islander', 'ethnicity_black, native american, indian, pacific islander, hispanic / latin', 'ethnicity_black, native american, indian, white', 'ethnicity_black, native american, indian, white, other', 'ethnicity_black, native american, other', 'ethnicity_black, native american, pacific islander', 'ethnicity_black, native american, pacific islander, hispanic / latin', 'ethnicity_black, native american, pacific islander, hispanic / latin, white', 'ethnicity_black, native american, pacific islander, hispanic / latin, white, other', 'ethnicity_black, native american, pacific islander, other', 'ethnicity_black, native american, pacific islander, white', 'ethnicity_black, native american, pacific islander, white, other', 'ethnicity_black, native american, white', 'ethnicity_black, native american, white, other', 'ethnicity_black, other', 'ethnicity_black, pacific islander', 'ethnicity_black, pacific islander, hispanic / latin', 'ethnicity_black, pacific islander, other', 'ethnicity_black, pacific islander, white', 'ethnicity_black, white', 'ethnicity_black, white, other', 'ethnicity_hispanic / latin', 'ethnicity_hispanic / latin, other', 'ethnicity_hispanic / latin, white', 'ethnicity_hispanic / latin, white, other', 'ethnicity_indian', 'ethnicity_indian, hispanic / latin', 'ethnicity_indian, hispanic / latin, other', 'ethnicity_indian, hispanic / latin, white', 'ethnicity_indian, hispanic / latin, white, other', 'ethnicity_indian, other', 'ethnicity_indian, pacific islander', 'ethnicity_indian, pacific islander, hispanic / latin, white', 'ethnicity_indian, white', 'ethnicity_indian, white, other', 'ethnicity_middle eastern', 'ethnicity_middle eastern, black', 'ethnicity_middle eastern, black, hispanic / latin', 'ethnicity_middle eastern, black, indian, pacific islander, hispanic / latin, white', 'ethnicity_middle eastern, black, native american, hispanic / latin, white', 'ethnicity_middle eastern, black, native american, indian', 'ethnicity_middle eastern, black, native american, indian, hispanic / latin, white', 'ethnicity_middle eastern, black, native american, indian, pacific islander, hispanic / latin, white', 'ethnicity_middle eastern, black, native american, indian, pacific islander, hispanic / latin, white, other', 'ethnicity_middle eastern, black, native american, indian, white, other', 'ethnicity_middle eastern, black, native american, white', 'ethnicity_middle eastern, black, native american, white, other', 'ethnicity_middle eastern, black, other', 'ethnicity_middle eastern, black, pacific islander, white', 'ethnicity_middle eastern, black, white', 'ethnicity_middle eastern, hispanic / latin', 'ethnicity_middle eastern, hispanic / latin, other', 'ethnicity_middle eastern, hispanic / latin, white', 'ethnicity_middle eastern, hispanic / latin, white, other', 'ethnicity_middle eastern, indian', 'ethnicity_middle eastern, indian, other', 'ethnicity_middle eastern, indian, white', 'ethnicity_middle eastern, indian, white, other', 'ethnicity_middle eastern, native american', 'ethnicity_middle eastern, native american, hispanic / latin', 'ethnicity_middle eastern, native american, hispanic / latin, white', 'ethnicity_middle eastern, native american, hispanic / latin, white, other', 'ethnicity_middle eastern, native american, white', 'ethnicity_middle eastern, native american, white, other', 'ethnicity_middle eastern, other', 'ethnicity_middle eastern, pacific islander', 'ethnicity_middle eastern, pacific islander, hispanic / latin', 'ethnicity_middle eastern, pacific islander, other', 'ethnicity_middle eastern, white', 'ethnicity_middle eastern, white, other', 'ethnicity_native american', 'ethnicity_native american, hispanic / latin', 'ethnicity_native american, hispanic / latin, other', 'ethnicity_native american, hispanic / latin, white', 'ethnicity_native american, hispanic / latin, white, other', 'ethnicity_native american, indian', 'ethnicity_native american, indian, pacific islander, hispanic / latin', 'ethnicity_native american, indian, white', 'ethnicity_native american, other', 'ethnicity_native american, pacific islander', 'ethnicity_native american, pacific islander, hispanic / latin', 'ethnicity_native american, pacific islander, hispanic / latin, white', 'ethnicity_native american, pacific islander, hispanic / latin, white, other', 'ethnicity_native american, pacific islander, white', 'ethnicity_native american, pacific islander, white, other', 'ethnicity_native american, white', 'ethnicity_native american, white, other', 'ethnicity_other', 'ethnicity_pacific islander', 'ethnicity_pacific islander, hispanic / latin', 'ethnicity_pacific islander, hispanic / latin, other', 'ethnicity_pacific islander, hispanic / latin, white', 'ethnicity_pacific islander, hispanic / latin, white, other', 'ethnicity_pacific islander, other', 'ethnicity_pacific islander, white', 'ethnicity_pacific islander, white, other', 'ethnicity_white', 'ethnicity_white, other', 'ethnicity_nan', 'job_artistic / musical / writer', 'job_banking / financial / real estate', 'job_clerical / administrative', 'job_computer / hardware / software', 'job_construction / craftsmanship', 'job_education / academia', 'job_entertainment / media', 'job_executive / management', 'job_hospitality / travel', 'job_law / legal services', 'job_medicine / health', 'job_military', 'job_other', 'job_political / government', 'job_rather not say', 'job_retired', 'job_sales / marketing / biz dev', 'job_science / tech / engineering', 'job_student', 'job_transportation', 'job_unemployed', 'job_nan', 'location_alameda, california', 'location_albany, california', 'location_amsterdam, netherlands', 'location_arcadia, california', 'location_asheville, north carolina', 'location_ashland, california', 'location_astoria, new york', 'location_atherton, california', 'location_atlanta, georgia', 'location_austin, texas', 'location_bayshore, california', 'location_bellingham, washington', 'location_bellwood, illinois', 'location_belmont, california', 'location_belvedere tiburon, california', 'location_benicia, california', 'location_berkeley, california', 'location_billings, montana', 'location_boise, idaho', 'location_bolinas, california', 'location_bonaduz, switzerland', 'location_boston, massachusetts', 'location_boulder, colorado', 'location_brea, california', 'location_brisbane, california', 'location_brooklyn, new york', 'location_burlingame, california', 'location_cambridge, massachusetts', 'location_campbell, california', 'location_canyon country, california', 'location_canyon, california', 'location_castro valley, california', 'location_chicago, illinois', 'location_chico, california', 'location_cincinnati, ohio', 'location_colma, california', 'location_columbus, ohio', 'location_concord, california', 'location_cork, ireland', 'location_corte madera, california', 'location_costa mesa, california', 'location_crockett, california', 'location_crowley, texas', 'location_daly city, california', 'location_denver, colorado', 'location_east palo alto, california', 'location_edinburgh, united kingdom', 'location_el cerrito, california', 'location_el granada, california', 'location_el sobrante, california', 'location_emeryville, california', 'location_fairfax, california', 'location_fayetteville, west virginia', 'location_forest knolls, california', 'location_fort lauderdale, florida', 'location_foster city, california', 'location_freedom, california', 'location_fremont, california', 'location_glencove, california', 'location_grand rapids, michigan', 'location_granite bay, california', 'location_green brae, california', 'location_guadalajara, mexico', 'location_hacienda heights, california', 'location_half moon bay, california', 'location_hayward, california', 'location_hercules, california', 'location_hilarita, california', 'location_hillsborough, california', 'location_honolulu, hawaii', 'location_irvine, california', 'location_isla vista, california', 'location_islip terrace, new york', 'location_jackson, mississippi', 'location_kansas city, missouri', 'location_kassel, germany', 'location_kensington, california', 'location_kentfield, california', 'location_kula, hawaii', 'location_lafayette, california', 'location_lagunitas, california', 'location_lake orion, michigan', 'location_larkspur, california', 'location_las vegas, nevada', 'location_leander, texas', 'location_livingston, california', 'location_london, united kingdom', 'location_long beach, california', 'location_long beach, new york', 'location_longwood, florida', 'location_los angeles, california', 'location_los gatos, california', 'location_madrid, spain', 'location_magalia, california', 'location_marin city, california', 'location_martinez, california', 'location_menlo park, california', 'location_miami, florida', 'location_mill valley, california', 'location_millbrae, california', 'location_milpitas, california', 'location_milwaukee, wisconsin', 'location_minneapolis, minnesota', 'location_modesto, california', 'location_montara, california', 'location_moraga, california', 'location_moss beach, california', 'location_mountain view, california', 'location_muir beach, california', 'location_murfreesboro, tennessee', 'location_napa, california', 'location_nevada city, california', 'location_new orleans, louisiana', 'location_new york, new york', 'location_nha trang, vietnam', 'location_nicasio, california', 'location_north hollywood, california', 'location_novato, california', 'location_oakland, california', 'location_oakley, california', 'location_oceanview, california', 'location_olema, california', 'location_orange, california', 'location_orinda, california', 'location_ozone park, new york', 'location_pacheco, california', 'location_pacifica, california', 'location_palo alto, california', 'location_pasadena, california', 'location_peoria, illinois', 'location_petaluma, california', 'location_philadelphia, pennsylvania', 'location_phoenix, arizona', 'location_piedmont, california', 'location_pinole, california', 'location_pleasant hill, california', 'location_point richmond, california', 'location_port costa, california', 'location_portland, oregon', 'location_providence, rhode island', 'location_redwood city, california', 'location_redwood shores, california', 'location_richmond, california', 'location_riverside, california', 'location_rochester, michigan', 'location_rodeo, california', 'location_rohnert park, california', 'location_ross, california', 'location_sacramento, california', 'location_salt lake city, utah', 'location_san anselmo, california', 'location_san antonio, texas', 'location_san bruno, california', 'location_san carlos, california', 'location_san diego, california', 'location_san francisco, california', 'location_san geronimo, california', 'location_san jose, california', 'location_san leandro, california', 'location_san lorenzo, california', 'location_san luis obispo, california', 'location_san mateo, california', 'location_san pablo, california', 'location_san quentin, california', 'location_san rafael, california', 'location_santa ana, california', 'location_santa clara, california', 'location_santa cruz, california', 'location_santa monica, california', 'location_santa rosa, california', 'location_sausalito, california', 'location_seaside, california', 'location_seattle, washington', 'location_south lake tahoe, california', 'location_south orange, new jersey', 'location_south san francisco, california', 'location_south wellfleet, massachusetts', 'location_stanford, california', 'location_stinson beach, california', 'location_stockton, california', 'location_stratford, connecticut', 'location_studio city, california', 'location_sunnyvale, california', 'location_taunton, massachusetts', 'location_tiburon, california', 'location_tucson, arizona', 'location_union city, california', 'location_utica, michigan', 'location_vacaville, california', 'location_vallejo, california', 'location_vancouver, british columbia, canada', 'location_walnut creek, california', 'location_washington, district of columbia', 'location_waterford, california', 'location_west oakland, california', 'location_westlake, california', 'location_woodacre, california', 'location_woodbridge, virginia', 'location_woodside, california', 'location_nan', 'offspring_doesn&rsquo;t have kids', 'offspring_doesn&rsquo;t have kids, and doesn&rsquo;t want any', 'offspring_doesn&rsquo;t have kids, but might want them', 'offspring_doesn&rsquo;t have kids, but wants them', 'offspring_doesn&rsquo;t want kids', 'offspring_has a kid', 'offspring_has a kid, and might want more', 'offspring_has a kid, and wants more', 'offspring_has a kid, but doesn&rsquo;t want more', 'offspring_has kids', 'offspring_has kids, and might want more', 'offspring_has kids, and wants more', 'offspring_has kids, but doesn&rsquo;t want more', 'offspring_might want kids', 'offspring_wants kids', 'offspring_nan', 'orientation_bisexual', 'orientation_gay', 'orientation_straight', 'orientation_nan', 'pets_dislikes cats', 'pets_dislikes dogs', 'pets_dislikes dogs and dislikes cats', 'pets_dislikes dogs and has cats', 'pets_dislikes dogs and likes cats', 'pets_has cats', 'pets_has dogs', 'pets_has dogs and dislikes cats', 'pets_has dogs and has cats', 'pets_has dogs and likes cats', 'pets_likes cats', 'pets_likes dogs', 'pets_likes dogs and dislikes cats', 'pets_likes dogs and has cats', 'pets_likes dogs and likes cats', 'pets_nan', 'religion_agnosticism', 'religion_agnosticism and laughing about it', 'religion_agnosticism and somewhat serious about it', 'religion_agnosticism and very serious about it', 'religion_agnosticism but not too serious about it', 'religion_atheism', 'religion_atheism and laughing about it', 'religion_atheism and somewhat serious about it', 'religion_atheism and very serious about it', 'religion_atheism but not too serious about it', 'religion_buddhism', 'religion_buddhism and laughing about it', 'religion_buddhism and somewhat serious about it', 'religion_buddhism and very serious about it', 'religion_buddhism but not too serious about it', 'religion_catholicism', 'religion_catholicism and laughing about it', 'religion_catholicism and somewhat serious about it', 'religion_catholicism and very serious about it', 'religion_catholicism but not too serious about it', 'religion_christianity', 'religion_christianity and laughing about it', 'religion_christianity and somewhat serious about it', 'religion_christianity and very serious about it', 'religion_christianity but not too serious about it', 'religion_hinduism', 'religion_hinduism and laughing about it', 'religion_hinduism and somewhat serious about it', 'religion_hinduism and very serious about it', 'religion_hinduism but not too serious about it', 'religion_islam', 'religion_islam and laughing about it', 'religion_islam and somewhat serious about it', 'religion_islam and very serious about it', 'religion_islam but not too serious about it', 'religion_judaism', 'religion_judaism and laughing about it', 'religion_judaism and somewhat serious about it', 'religion_judaism and very serious about it', 'religion_judaism but not too serious about it', 'religion_other', 'religion_other and laughing about it', 'religion_other and somewhat serious about it', 'religion_other and very serious about it', 'religion_other but not too serious about it', 'religion_nan', 'sex_f', 'sex_m', 'sex_nan', 'sign_aquarius', 'sign_aquarius and it matters a lot', 'sign_aquarius and it&rsquo;s fun to think about', 'sign_aquarius but it doesn&rsquo;t matter', 'sign_aries', 'sign_aries and it matters a lot', 'sign_aries and it&rsquo;s fun to think about', 'sign_aries but it doesn&rsquo;t matter', 'sign_cancer', 'sign_cancer and it matters a lot', 'sign_cancer and it&rsquo;s fun to think about', 'sign_cancer but it doesn&rsquo;t matter', 'sign_capricorn', 'sign_capricorn and it matters a lot', 'sign_capricorn and it&rsquo;s fun to think about', 'sign_capricorn but it doesn&rsquo;t matter', 'sign_gemini', 'sign_gemini and it matters a lot', 'sign_gemini and it&rsquo;s fun to think about', 'sign_gemini but it doesn&rsquo;t matter', 'sign_leo', 'sign_leo and it matters a lot', 'sign_leo and it&rsquo;s fun to think about', 'sign_leo but it doesn&rsquo;t matter', 'sign_libra', 'sign_libra and it matters a lot', 'sign_libra and it&rsquo;s fun to think about', 'sign_libra but it doesn&rsquo;t matter', 'sign_pisces', 'sign_pisces and it matters a lot', 'sign_pisces and it&rsquo;s fun to think about', 'sign_pisces but it doesn&rsquo;t matter', 'sign_sagittarius', 'sign_sagittarius and it matters a lot', 'sign_sagittarius and it&rsquo;s fun to think about', 'sign_sagittarius but it doesn&rsquo;t matter', 'sign_scorpio', 'sign_scorpio and it matters a lot', 'sign_scorpio and it&rsquo;s fun to think about', 'sign_scorpio but it doesn&rsquo;t matter', 'sign_taurus', 'sign_taurus and it matters a lot', 'sign_taurus and it&rsquo;s fun to think about', 'sign_taurus but it doesn&rsquo;t matter', 'sign_virgo', 'sign_virgo and it matters a lot', 'sign_virgo and it&rsquo;s fun to think about', 'sign_virgo but it doesn&rsquo;t matter', 'sign_nan', 'smokes_no', 'smokes_sometimes', 'smokes_trying to quit', 'smokes_when drinking', 'smokes_yes', 'smokes_nan', 'status_available', 'status_married', 'status_seeing someone', 'status_single', 'status_unknown', 'status_nan']\n"
     ]
    }
   ],
   "source": [
    "print([x for x in df_dummies.columns])"
   ]
  },
  {
   "cell_type": "code",
   "execution_count": null,
   "metadata": {},
   "outputs": [],
   "source": []
  },
  {
   "cell_type": "code",
   "execution_count": null,
   "metadata": {},
   "outputs": [],
   "source": []
  }
 ],
 "metadata": {
  "kernelspec": {
   "display_name": "Python 3",
   "language": "python",
   "name": "python3"
  },
  "language_info": {
   "codemirror_mode": {
    "name": "ipython",
    "version": 3
   },
   "file_extension": ".py",
   "mimetype": "text/x-python",
   "name": "python",
   "nbconvert_exporter": "python",
   "pygments_lexer": "ipython3",
   "version": "3.9.2"
  }
 },
 "nbformat": 4,
 "nbformat_minor": 4
}
